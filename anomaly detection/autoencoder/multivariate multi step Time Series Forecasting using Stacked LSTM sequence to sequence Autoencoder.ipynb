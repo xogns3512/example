{
 "cells": [
  {
   "cell_type": "markdown",
   "id": "d02496c1",
   "metadata": {},
   "source": [
    "https://www.analyticsvidhya.com/blog/2020/10/multivariate-multi-step-time-series-forecasting-using-stacked-lstm-sequence-to-sequence-autoencoder-in-tensorflow-2-0-keras/"
   ]
  },
  {
   "cell_type": "markdown",
   "id": "ded710da",
   "metadata": {},
   "source": [
    "# data read"
   ]
  },
  {
   "cell_type": "code",
   "execution_count": 1,
   "id": "67cd0ae1",
   "metadata": {
    "ExecuteTime": {
     "end_time": "2022-03-07T03:53:22.778821Z",
     "start_time": "2022-03-07T03:53:19.331630Z"
    }
   },
   "outputs": [],
   "source": [
    "import pandas as pd\n",
    "import numpy as np\n",
    "from sklearn.preprocessing import MinMaxScaler\n",
    "import matplotlib.pyplot as plt\n",
    "import tensorflow as tf\n",
    "import os"
   ]
  },
  {
   "cell_type": "code",
   "execution_count": 2,
   "id": "a7c1b2f8",
   "metadata": {
    "ExecuteTime": {
     "end_time": "2022-03-07T03:53:22.794301Z",
     "start_time": "2022-03-07T03:53:22.779818Z"
    }
   },
   "outputs": [],
   "source": [
    "import warnings\n",
    "warnings.filterwarnings( 'ignore' )"
   ]
  },
  {
   "cell_type": "code",
   "execution_count": 3,
   "id": "0c99b781",
   "metadata": {
    "ExecuteTime": {
     "end_time": "2022-03-07T03:53:32.548814Z",
     "start_time": "2022-03-07T03:53:22.795260Z"
    },
    "scrolled": true
   },
   "outputs": [
    {
     "data": {
      "text/html": [
       "<div>\n",
       "<style scoped>\n",
       "    .dataframe tbody tr th:only-of-type {\n",
       "        vertical-align: middle;\n",
       "    }\n",
       "\n",
       "    .dataframe tbody tr th {\n",
       "        vertical-align: top;\n",
       "    }\n",
       "\n",
       "    .dataframe thead th {\n",
       "        text-align: right;\n",
       "    }\n",
       "</style>\n",
       "<table border=\"1\" class=\"dataframe\">\n",
       "  <thead>\n",
       "    <tr style=\"text-align: right;\">\n",
       "      <th></th>\n",
       "      <th>Global_active_power</th>\n",
       "      <th>Global_reactive_power</th>\n",
       "      <th>Voltage</th>\n",
       "      <th>Global_intensity</th>\n",
       "      <th>Sub_metering_1</th>\n",
       "      <th>Sub_metering_2</th>\n",
       "      <th>Sub_metering_3</th>\n",
       "    </tr>\n",
       "    <tr>\n",
       "      <th>datetime</th>\n",
       "      <th></th>\n",
       "      <th></th>\n",
       "      <th></th>\n",
       "      <th></th>\n",
       "      <th></th>\n",
       "      <th></th>\n",
       "      <th></th>\n",
       "    </tr>\n",
       "  </thead>\n",
       "  <tbody>\n",
       "    <tr>\n",
       "      <th>2006-12-16 17:24:00</th>\n",
       "      <td>4.216</td>\n",
       "      <td>0.418</td>\n",
       "      <td>234.840</td>\n",
       "      <td>18.400</td>\n",
       "      <td>0.000</td>\n",
       "      <td>1.000</td>\n",
       "      <td>17.0</td>\n",
       "    </tr>\n",
       "    <tr>\n",
       "      <th>2006-12-16 17:25:00</th>\n",
       "      <td>5.360</td>\n",
       "      <td>0.436</td>\n",
       "      <td>233.630</td>\n",
       "      <td>23.000</td>\n",
       "      <td>0.000</td>\n",
       "      <td>1.000</td>\n",
       "      <td>16.0</td>\n",
       "    </tr>\n",
       "    <tr>\n",
       "      <th>2006-12-16 17:26:00</th>\n",
       "      <td>5.374</td>\n",
       "      <td>0.498</td>\n",
       "      <td>233.290</td>\n",
       "      <td>23.000</td>\n",
       "      <td>0.000</td>\n",
       "      <td>2.000</td>\n",
       "      <td>17.0</td>\n",
       "    </tr>\n",
       "    <tr>\n",
       "      <th>2006-12-16 17:27:00</th>\n",
       "      <td>5.388</td>\n",
       "      <td>0.502</td>\n",
       "      <td>233.740</td>\n",
       "      <td>23.000</td>\n",
       "      <td>0.000</td>\n",
       "      <td>1.000</td>\n",
       "      <td>17.0</td>\n",
       "    </tr>\n",
       "    <tr>\n",
       "      <th>2006-12-16 17:28:00</th>\n",
       "      <td>3.666</td>\n",
       "      <td>0.528</td>\n",
       "      <td>235.680</td>\n",
       "      <td>15.800</td>\n",
       "      <td>0.000</td>\n",
       "      <td>1.000</td>\n",
       "      <td>17.0</td>\n",
       "    </tr>\n",
       "  </tbody>\n",
       "</table>\n",
       "</div>"
      ],
      "text/plain": [
       "                    Global_active_power Global_reactive_power  Voltage  \\\n",
       "datetime                                                                 \n",
       "2006-12-16 17:24:00               4.216                 0.418  234.840   \n",
       "2006-12-16 17:25:00               5.360                 0.436  233.630   \n",
       "2006-12-16 17:26:00               5.374                 0.498  233.290   \n",
       "2006-12-16 17:27:00               5.388                 0.502  233.740   \n",
       "2006-12-16 17:28:00               3.666                 0.528  235.680   \n",
       "\n",
       "                    Global_intensity Sub_metering_1 Sub_metering_2  \\\n",
       "datetime                                                             \n",
       "2006-12-16 17:24:00           18.400          0.000          1.000   \n",
       "2006-12-16 17:25:00           23.000          0.000          1.000   \n",
       "2006-12-16 17:26:00           23.000          0.000          2.000   \n",
       "2006-12-16 17:27:00           23.000          0.000          1.000   \n",
       "2006-12-16 17:28:00           15.800          0.000          1.000   \n",
       "\n",
       "                     Sub_metering_3  \n",
       "datetime                             \n",
       "2006-12-16 17:24:00            17.0  \n",
       "2006-12-16 17:25:00            16.0  \n",
       "2006-12-16 17:26:00            17.0  \n",
       "2006-12-16 17:27:00            17.0  \n",
       "2006-12-16 17:28:00            17.0  "
      ]
     },
     "execution_count": 3,
     "metadata": {},
     "output_type": "execute_result"
    }
   ],
   "source": [
    "df=pd.read_csv(r'C:/Users/user/Dropbox/Dataset/household_power_consumption.txt', sep=';', header=0, low_memory=False, infer_datetime_format=True, parse_dates={'datetime':[0,1]}, index_col=['datetime'])\n",
    "df.head()"
   ]
  },
  {
   "cell_type": "markdown",
   "id": "495ddc40",
   "metadata": {},
   "source": [
    "# data preprocessing"
   ]
  },
  {
   "cell_type": "code",
   "execution_count": 4,
   "id": "24308b83",
   "metadata": {
    "ExecuteTime": {
     "end_time": "2022-03-07T03:53:33.356657Z",
     "start_time": "2022-03-07T03:53:32.550810Z"
    }
   },
   "outputs": [
    {
     "data": {
      "text/plain": [
       "Global_active_power      25979\n",
       "Global_reactive_power    25979\n",
       "Voltage                  25979\n",
       "Global_intensity         25979\n",
       "Sub_metering_1           25979\n",
       "Sub_metering_2           25979\n",
       "Sub_metering_3           25979\n",
       "dtype: int64"
      ]
     },
     "execution_count": 4,
     "metadata": {},
     "output_type": "execute_result"
    }
   ],
   "source": [
    "df = df.replace('?', np.nan)\n",
    "df.isnull().sum()"
   ]
  },
  {
   "cell_type": "code",
   "execution_count": 5,
   "id": "44dd05d7",
   "metadata": {
    "ExecuteTime": {
     "end_time": "2022-03-07T03:54:06.289381Z",
     "start_time": "2022-03-07T03:53:33.358667Z"
    }
   },
   "outputs": [
    {
     "data": {
      "text/plain": [
       "Global_active_power      0\n",
       "Global_reactive_power    0\n",
       "Voltage                  0\n",
       "Global_intensity         0\n",
       "Sub_metering_1           0\n",
       "Sub_metering_2           0\n",
       "Sub_metering_3           0\n",
       "dtype: int64"
      ]
     },
     "execution_count": 5,
     "metadata": {},
     "output_type": "execute_result"
    }
   ],
   "source": [
    "def fill_missing(values):\n",
    "    one_day = 60*24\n",
    "    for row in range(df.shape[0]):\n",
    "        for col in range(df.shape[1]):\n",
    "            if np.isnan(values[row][col]):\n",
    "                values[row,col] = values[row-one_day,col]\n",
    "df = df.astype('float32')\n",
    "fill_missing(df.values)\n",
    "df.isnull().sum()"
   ]
  },
  {
   "cell_type": "code",
   "execution_count": 6,
   "id": "0d7718ee",
   "metadata": {
    "ExecuteTime": {
     "end_time": "2022-03-07T03:54:06.439632Z",
     "start_time": "2022-03-07T03:54:06.290378Z"
    }
   },
   "outputs": [
    {
     "data": {
      "text/html": [
       "<div>\n",
       "<style scoped>\n",
       "    .dataframe tbody tr th:only-of-type {\n",
       "        vertical-align: middle;\n",
       "    }\n",
       "\n",
       "    .dataframe tbody tr th {\n",
       "        vertical-align: top;\n",
       "    }\n",
       "\n",
       "    .dataframe thead th {\n",
       "        text-align: right;\n",
       "    }\n",
       "</style>\n",
       "<table border=\"1\" class=\"dataframe\">\n",
       "  <thead>\n",
       "    <tr style=\"text-align: right;\">\n",
       "      <th></th>\n",
       "      <th>Global_active_power</th>\n",
       "      <th>Global_reactive_power</th>\n",
       "      <th>Voltage</th>\n",
       "      <th>Global_intensity</th>\n",
       "      <th>Sub_metering_1</th>\n",
       "      <th>Sub_metering_2</th>\n",
       "      <th>Sub_metering_3</th>\n",
       "    </tr>\n",
       "    <tr>\n",
       "      <th>datetime</th>\n",
       "      <th></th>\n",
       "      <th></th>\n",
       "      <th></th>\n",
       "      <th></th>\n",
       "      <th></th>\n",
       "      <th></th>\n",
       "      <th></th>\n",
       "    </tr>\n",
       "  </thead>\n",
       "  <tbody>\n",
       "    <tr>\n",
       "      <th>2006-12-16</th>\n",
       "      <td>1209.176025</td>\n",
       "      <td>34.922001</td>\n",
       "      <td>93552.53125</td>\n",
       "      <td>5180.799805</td>\n",
       "      <td>0.0</td>\n",
       "      <td>546.0</td>\n",
       "      <td>4926.0</td>\n",
       "    </tr>\n",
       "    <tr>\n",
       "      <th>2006-12-17</th>\n",
       "      <td>3390.459961</td>\n",
       "      <td>226.005997</td>\n",
       "      <td>345725.31250</td>\n",
       "      <td>14398.599609</td>\n",
       "      <td>2033.0</td>\n",
       "      <td>4187.0</td>\n",
       "      <td>13341.0</td>\n",
       "    </tr>\n",
       "    <tr>\n",
       "      <th>2006-12-18</th>\n",
       "      <td>2203.825928</td>\n",
       "      <td>161.792007</td>\n",
       "      <td>347373.62500</td>\n",
       "      <td>9247.200195</td>\n",
       "      <td>1063.0</td>\n",
       "      <td>2621.0</td>\n",
       "      <td>14018.0</td>\n",
       "    </tr>\n",
       "    <tr>\n",
       "      <th>2006-12-19</th>\n",
       "      <td>1666.193970</td>\n",
       "      <td>150.942001</td>\n",
       "      <td>348479.00000</td>\n",
       "      <td>7094.000000</td>\n",
       "      <td>839.0</td>\n",
       "      <td>7602.0</td>\n",
       "      <td>6197.0</td>\n",
       "    </tr>\n",
       "    <tr>\n",
       "      <th>2006-12-20</th>\n",
       "      <td>2225.748047</td>\n",
       "      <td>160.998001</td>\n",
       "      <td>348923.62500</td>\n",
       "      <td>9313.000000</td>\n",
       "      <td>0.0</td>\n",
       "      <td>2648.0</td>\n",
       "      <td>14063.0</td>\n",
       "    </tr>\n",
       "  </tbody>\n",
       "</table>\n",
       "</div>"
      ],
      "text/plain": [
       "            Global_active_power  Global_reactive_power       Voltage  \\\n",
       "datetime                                                               \n",
       "2006-12-16          1209.176025              34.922001   93552.53125   \n",
       "2006-12-17          3390.459961             226.005997  345725.31250   \n",
       "2006-12-18          2203.825928             161.792007  347373.62500   \n",
       "2006-12-19          1666.193970             150.942001  348479.00000   \n",
       "2006-12-20          2225.748047             160.998001  348923.62500   \n",
       "\n",
       "            Global_intensity  Sub_metering_1  Sub_metering_2  Sub_metering_3  \n",
       "datetime                                                                      \n",
       "2006-12-16       5180.799805             0.0           546.0          4926.0  \n",
       "2006-12-17      14398.599609          2033.0          4187.0         13341.0  \n",
       "2006-12-18       9247.200195          1063.0          2621.0         14018.0  \n",
       "2006-12-19       7094.000000           839.0          7602.0          6197.0  \n",
       "2006-12-20       9313.000000             0.0          2648.0         14063.0  "
      ]
     },
     "execution_count": 6,
     "metadata": {},
     "output_type": "execute_result"
    }
   ],
   "source": [
    "daily_df = df.resample('D').sum()\n",
    "daily_df.head()"
   ]
  },
  {
   "cell_type": "code",
   "execution_count": 7,
   "id": "ba914b81",
   "metadata": {
    "ExecuteTime": {
     "end_time": "2022-03-07T03:54:06.454629Z",
     "start_time": "2022-03-07T03:54:06.440629Z"
    }
   },
   "outputs": [],
   "source": [
    "train_df,test_df = daily_df[1:1081], daily_df[1081:] "
   ]
  },
  {
   "cell_type": "markdown",
   "id": "a37dc372",
   "metadata": {},
   "source": [
    "## scale setting\n",
    "    - train 데이터를 통한 스케일러 세팅"
   ]
  },
  {
   "cell_type": "code",
   "execution_count": 8,
   "id": "9aadbfaf",
   "metadata": {
    "ExecuteTime": {
     "end_time": "2022-03-07T03:54:06.469553Z",
     "start_time": "2022-03-07T03:54:06.455590Z"
    },
    "scrolled": true
   },
   "outputs": [],
   "source": [
    "train = train_df\n",
    "scalers={}\n",
    "for i in train_df.columns:\n",
    "    scaler = MinMaxScaler(feature_range=(-1,1))\n",
    "    s_s = scaler.fit_transform(train[i].values.reshape(-1,1))\n",
    "    s_s=np.reshape(s_s,len(s_s))\n",
    "    scalers['scaler_'+ i] = scaler\n",
    "    train[i]=s_s\n",
    "test = test_df\n",
    "for i in train_df.columns:\n",
    "    scaler = scalers['scaler_'+i]\n",
    "    s_s = scaler.transform(test[i].values.reshape(-1,1))\n",
    "    s_s=np.reshape(s_s,len(s_s))\n",
    "    scalers['scaler_'+i] = scaler\n",
    "    test[i]=s_s"
   ]
  },
  {
   "cell_type": "markdown",
   "id": "49e3f95d",
   "metadata": {},
   "source": [
    "## data split (train, test)"
   ]
  },
  {
   "cell_type": "code",
   "execution_count": 9,
   "id": "7a7e4024",
   "metadata": {
    "ExecuteTime": {
     "end_time": "2022-03-07T03:54:06.484552Z",
     "start_time": "2022-03-07T03:54:06.470551Z"
    }
   },
   "outputs": [],
   "source": [
    "#\n",
    "# n_past ==> no of past observations\n",
    "# n_future ==> no of future observations \n",
    "#\n",
    "def split_series(series, n_past, n_future):\n",
    "    X, y = list(), list()\n",
    "    for window_start in range(len(series)):\n",
    "        past_end = window_start + n_past\n",
    "        future_end = past_end + n_future\n",
    "        if future_end > len(series):\n",
    "            break\n",
    "        # slicing the past and future parts of the window\n",
    "        past, future = series[window_start:past_end, :], series[past_end:future_end, :]\n",
    "        X.append(past)\n",
    "        y.append(future)\n",
    "    return np.array(X), np.array(y)"
   ]
  },
  {
   "cell_type": "code",
   "execution_count": 10,
   "id": "124301da",
   "metadata": {
    "ExecuteTime": {
     "end_time": "2022-03-07T03:54:06.499472Z",
     "start_time": "2022-03-07T03:54:06.485510Z"
    }
   },
   "outputs": [],
   "source": [
    "n_past = 10\n",
    "n_future = 5 \n",
    "n_features = 7"
   ]
  },
  {
   "cell_type": "code",
   "execution_count": 11,
   "id": "d36078d7",
   "metadata": {
    "ExecuteTime": {
     "end_time": "2022-03-07T03:54:06.514476Z",
     "start_time": "2022-03-07T03:54:06.500470Z"
    }
   },
   "outputs": [],
   "source": [
    "X_train, y_train = split_series(train.values,n_past, n_future)\n",
    "X_train = X_train.reshape((X_train.shape[0], X_train.shape[1],n_features))\n",
    "y_train = y_train.reshape((y_train.shape[0], y_train.shape[1], n_features))\n",
    "X_test, y_test = split_series(test.values,n_past, n_future)\n",
    "X_test = X_test.reshape((X_test.shape[0], X_test.shape[1],n_features))\n",
    "y_test = y_test.reshape((y_test.shape[0], y_test.shape[1], n_features))"
   ]
  },
  {
   "cell_type": "code",
   "execution_count": 12,
   "id": "cc441568",
   "metadata": {
    "ExecuteTime": {
     "end_time": "2022-03-07T03:54:06.529391Z",
     "start_time": "2022-03-07T03:54:06.515430Z"
    }
   },
   "outputs": [
    {
     "data": {
      "text/plain": [
       "(1066, 10, 7)"
      ]
     },
     "execution_count": 12,
     "metadata": {},
     "output_type": "execute_result"
    }
   ],
   "source": [
    "X_train.shape\n",
    "# 데이터 갯수, window 사이즈, 컬럼갯수"
   ]
  },
  {
   "cell_type": "markdown",
   "id": "54577b9f",
   "metadata": {},
   "source": [
    "# model"
   ]
  },
  {
   "cell_type": "markdown",
   "id": "fe8a5716",
   "metadata": {},
   "source": [
    "## lstm \n",
    "- lstm은 long short term memory의 줄임말로 주로 시계열처리를 하는데 사용한다. \n",
    "- lstm은 input값을 받으면 hidden state와 cell state를 가지게 된다. \n",
    "- cell state는 lstm이 굴러가게 하는 일종의 체인역활을 하며 기억을 오랫동안 유지할수 있는 구조로 되어있다. \n",
    "- hidden state는 RNN 처럼 계층의 출력이 되면 다음 타임 스템으로 정보를 넘기게 된다.\n",
    "\n",
    "### tensorflow에서의 lstm 사용방식\n",
    "- lstm의 cell state의 hidden state에 대한 출력을 바꾸는 변수는 return_state 와 return_sequences이다. \n",
    "- 두개의 변수는 boolean 형태로 주어지게 되며 둘다 fasle일경우 마지막 결과값만 (마지막 hidden state)값만 출력하게 된다.\n",
    "- return_sequence = True로 설정할 경우 각 time step별 hidden state를 모두 출력하게 된다. \n",
    "    - 길이가 5인경우에는 5의 hidden state값이 모두 출력된다. \n",
    "    - 이는 보통 attention을 사용하기 위함이다.\n",
    "- return_state = True 로 설정한 경우 마지막 time step에서의 output(hidden_state), hidden state와 cell_state가 출력된다. \n",
    "    - 마지막 output 값이 2번 출력되고, cell state가 추가로 출력된다. \n",
    "- return_sequence와 return_state를 모두 True로 하게 되면 각 time step별 hidden state의 마지막 hidden state, 마지막 cell state값이 출력된다\n",
    "- lstm을 각 타임 스텝별로 분리해서 넣어주는 경우가 있다. 그런 경우에는 initial_state를 사용해야 한다. \n",
    "    - 전체 sequence의 길이가 T이고 feature가 n이면 LSTM에 하나의 타임 스텝별로 넣기 때문에 input shape가 batch,1,n 이 된다. \n",
    "    - 이런식으로 T번 반복하여 넣어주면 되는데 기존의 hidden state와 cell state를 전달해줘야 함으로 initial_state를 사용한다."
   ]
  },
  {
   "attachments": {
    "image.png": {
     "image/png": "[encoded data removed]"
    }
   },
   "cell_type": "markdown",
   "id": "34431161",
   "metadata": {},
   "source": [
    "![image.png](attachment:image.png)"
   ]
  },
  {
   "cell_type": "code",
   "execution_count": 13,
   "id": "dfa2fe1d",
   "metadata": {
    "ExecuteTime": {
     "end_time": "2022-03-07T03:54:07.172672Z",
     "start_time": "2022-03-07T03:54:06.531387Z"
    }
   },
   "outputs": [
    {
     "name": "stdout",
     "output_type": "stream",
     "text": [
      "Model: \"functional_1\"\n",
      "__________________________________________________________________________________________________\n",
      "Layer (type)                    Output Shape         Param #     Connected to                     \n",
      "==================================================================================================\n",
      "input_1 (InputLayer)            [(None, 10, 7)]      0                                            \n",
      "__________________________________________________________________________________________________\n",
      "lstm (LSTM)                     [(None, 100), (None, 43200       input_1[0][0]                    \n",
      "__________________________________________________________________________________________________\n",
      "repeat_vector (RepeatVector)    (None, 5, 100)       0           lstm[0][0]                       \n",
      "__________________________________________________________________________________________________\n",
      "lstm_1 (LSTM)                   (None, 5, 100)       80400       repeat_vector[0][0]              \n",
      "                                                                 lstm[0][1]                       \n",
      "                                                                 lstm[0][2]                       \n",
      "__________________________________________________________________________________________________\n",
      "time_distributed (TimeDistribut (None, 5, 7)         707         lstm_1[0][0]                     \n",
      "==================================================================================================\n",
      "Total params: 124,307\n",
      "Trainable params: 124,307\n",
      "Non-trainable params: 0\n",
      "__________________________________________________________________________________________________\n"
     ]
    }
   ],
   "source": [
    "# E1D1\n",
    "# n_features ==> no of features at each timestep in the data.\n",
    "#\n",
    "encoder_inputs = tf.keras.layers.Input(shape=(n_past, n_features))\n",
    "encoder_l1 = tf.keras.layers.LSTM(100, return_state=True)\n",
    "encoder_outputs1 = encoder_l1(encoder_inputs)\n",
    "\n",
    "encoder_states1 = encoder_outputs1[1:]\n",
    "\n",
    "#\n",
    "decoder_inputs = tf.keras.layers.RepeatVector(n_future)(encoder_outputs1[0])\n",
    "\n",
    "#\n",
    "decoder_l1 = tf.keras.layers.LSTM(100, return_sequences=True)(decoder_inputs,initial_state = encoder_states1)\n",
    "decoder_outputs1 = tf.keras.layers.TimeDistributed(tf.keras.layers.Dense(n_features))(decoder_l1)\n",
    "\n",
    "#\n",
    "model_e1d1 = tf.keras.models.Model(encoder_inputs,decoder_outputs1)\n",
    "\n",
    "#\n",
    "model_e1d1.summary()"
   ]
  },
  {
   "cell_type": "code",
   "execution_count": 14,
   "id": "e14df078",
   "metadata": {
    "ExecuteTime": {
     "end_time": "2022-03-07T03:54:08.235459Z",
     "start_time": "2022-03-07T03:54:07.173669Z"
    }
   },
   "outputs": [
    {
     "name": "stdout",
     "output_type": "stream",
     "text": [
      "Model: \"functional_3\"\n",
      "__________________________________________________________________________________________________\n",
      "Layer (type)                    Output Shape         Param #     Connected to                     \n",
      "==================================================================================================\n",
      "input_2 (InputLayer)            [(None, 10, 7)]      0                                            \n",
      "__________________________________________________________________________________________________\n",
      "lstm_2 (LSTM)                   [(None, 10, 100), (N 43200       input_2[0][0]                    \n",
      "__________________________________________________________________________________________________\n",
      "lstm_3 (LSTM)                   [(None, 100), (None, 80400       lstm_2[0][0]                     \n",
      "__________________________________________________________________________________________________\n",
      "repeat_vector_1 (RepeatVector)  (None, 5, 100)       0           lstm_3[0][0]                     \n",
      "__________________________________________________________________________________________________\n",
      "lstm_4 (LSTM)                   (None, 5, 100)       80400       repeat_vector_1[0][0]            \n",
      "                                                                 lstm_2[0][1]                     \n",
      "                                                                 lstm_2[0][2]                     \n",
      "__________________________________________________________________________________________________\n",
      "lstm_5 (LSTM)                   (None, 5, 100)       80400       lstm_4[0][0]                     \n",
      "                                                                 lstm_3[0][1]                     \n",
      "                                                                 lstm_3[0][2]                     \n",
      "__________________________________________________________________________________________________\n",
      "time_distributed_1 (TimeDistrib (None, 5, 7)         707         lstm_5[0][0]                     \n",
      "==================================================================================================\n",
      "Total params: 285,107\n",
      "Trainable params: 285,107\n",
      "Non-trainable params: 0\n",
      "__________________________________________________________________________________________________\n"
     ]
    }
   ],
   "source": [
    "# E2D2\n",
    "# n_features ==> no of features at each timestep in the data.\n",
    "#\n",
    "encoder_inputs = tf.keras.layers.Input(shape=(n_past, n_features))\n",
    "encoder_l1 = tf.keras.layers.LSTM(100,return_sequences = True, return_state=True)\n",
    "encoder_outputs1 = encoder_l1(encoder_inputs)\n",
    "encoder_states1 = encoder_outputs1[1:]\n",
    "encoder_l2 = tf.keras.layers.LSTM(100, return_state=True)\n",
    "encoder_outputs2 = encoder_l2(encoder_outputs1[0])\n",
    "encoder_states2 = encoder_outputs2[1:]\n",
    "#\n",
    "decoder_inputs = tf.keras.layers.RepeatVector(n_future)(encoder_outputs2[0])\n",
    "#\n",
    "decoder_l1 = tf.keras.layers.LSTM(100, return_sequences=True)(decoder_inputs,initial_state = encoder_states1)\n",
    "decoder_l2 = tf.keras.layers.LSTM(100, return_sequences=True)(decoder_l1,initial_state = encoder_states2)\n",
    "decoder_outputs2 = tf.keras.layers.TimeDistributed(tf.keras.layers.Dense(n_features))(decoder_l2)\n",
    "#\n",
    "model_e2d2 = tf.keras.models.Model(encoder_inputs,decoder_outputs2)\n",
    "#\n",
    "model_e2d2.summary()"
   ]
  },
  {
   "cell_type": "code",
   "execution_count": 15,
   "id": "ab6cea84",
   "metadata": {
    "ExecuteTime": {
     "end_time": "2022-03-07T03:55:43.414204Z",
     "start_time": "2022-03-07T03:55:08.418058Z"
    }
   },
   "outputs": [],
   "source": [
    "reduce_lr = tf.keras.callbacks.LearningRateScheduler(lambda x: 1e-3 * 0.90 ** x)\n",
    "model_e1d1.compile(optimizer=tf.keras.optimizers.Adam(), loss=tf.keras.losses.Huber())\n",
    "history_e1d1=model_e1d1.fit(X_train,y_train,epochs=25,validation_data=(X_test,y_test),batch_size=32,verbose=0,callbacks=[reduce_lr])\n",
    "model_e2d2.compile(optimizer=tf.keras.optimizers.Adam(), loss=tf.keras.losses.Huber())\n",
    "history_e2d2=model_e2d2.fit(X_train,y_train,epochs=25,validation_data=(X_test,y_test),batch_size=32,verbose=0,callbacks=[reduce_lr])"
   ]
  },
  {
   "cell_type": "code",
   "execution_count": 16,
   "id": "95389bfa",
   "metadata": {
    "ExecuteTime": {
     "end_time": "2022-03-07T03:55:48.163022Z",
     "start_time": "2022-03-07T03:55:45.864834Z"
    }
   },
   "outputs": [],
   "source": [
    "pred1_e1d1=model_e1d1.predict(X_test)\n",
    "pred1_e2d2=model_e2d2.predict(X_test)"
   ]
  },
  {
   "cell_type": "code",
   "execution_count": 17,
   "id": "a845c2c7",
   "metadata": {
    "ExecuteTime": {
     "end_time": "2022-03-07T03:55:48.821846Z",
     "start_time": "2022-03-07T03:55:48.808881Z"
    }
   },
   "outputs": [],
   "source": [
    "for index,i in enumerate(train_df.columns):\n",
    "    scaler = scalers['scaler_'+i]\n",
    "    pred1_e1d1[:,:,index]=scaler.inverse_transform(pred1_e1d1[:,:,index])\n",
    "#     pred_e1d1[:,:,index]=scaler.inverse_transform(pred_e1d1[:,:,index])\n",
    "    pred1_e2d2[:,:,index]=scaler.inverse_transform(pred1_e2d2[:,:,index])\n",
    "#     pred_e2d2[:,:,index]=scaler.inverse_transform(pred_e2d2[:,:,index])\n",
    "    y_train[:,:,index]=scaler.inverse_transform(y_train[:,:,index])\n",
    "    y_test[:,:,index]=scaler.inverse_transform(y_test[:,:,index])"
   ]
  },
  {
   "cell_type": "code",
   "execution_count": 18,
   "id": "35773754",
   "metadata": {
    "ExecuteTime": {
     "end_time": "2022-03-07T03:56:04.538560Z",
     "start_time": "2022-03-07T03:56:04.425861Z"
    }
   },
   "outputs": [
    {
     "name": "stdout",
     "output_type": "stream",
     "text": [
      "Global_active_power\n",
      "Day  1 :\n",
      "MAE-E1D1 :  244.0435, MAE-E2D2 :  246.71251\n",
      "Day  2 :\n",
      "MAE-E1D1 :  255.70868, MAE-E2D2 :  255.42703\n",
      "Day  3 :\n",
      "MAE-E1D1 :  266.24628, MAE-E2D2 :  263.99182\n",
      "Day  4 :\n",
      "MAE-E1D1 :  269.27664, MAE-E2D2 :  265.84952\n",
      "Day  5 :\n",
      "MAE-E1D1 :  272.7989, MAE-E2D2 :  270.77502\n",
      "\n",
      "\n",
      "Global_reactive_power\n",
      "Day  1 :\n",
      "MAE-E1D1 :  29.613573, MAE-E2D2 :  30.380285\n",
      "Day  2 :\n",
      "MAE-E1D1 :  31.23559, MAE-E2D2 :  31.681866\n",
      "Day  3 :\n",
      "MAE-E1D1 :  31.825546, MAE-E2D2 :  32.14671\n",
      "Day  4 :\n",
      "MAE-E1D1 :  32.116173, MAE-E2D2 :  32.5102\n",
      "Day  5 :\n",
      "MAE-E1D1 :  32.3727, MAE-E2D2 :  32.641434\n",
      "\n",
      "\n",
      "Voltage\n",
      "Day  1 :\n",
      "MAE-E1D1 :  1202.3668, MAE-E2D2 :  1301.2173\n",
      "Day  2 :\n",
      "MAE-E1D1 :  1322.0544, MAE-E2D2 :  1371.1917\n",
      "Day  3 :\n",
      "MAE-E1D1 :  1429.9685, MAE-E2D2 :  1459.1703\n",
      "Day  4 :\n",
      "MAE-E1D1 :  1518.9528, MAE-E2D2 :  1533.7262\n",
      "Day  5 :\n",
      "MAE-E1D1 :  1711.5985, MAE-E2D2 :  1716.625\n",
      "\n",
      "\n",
      "Global_intensity\n",
      "Day  1 :\n",
      "MAE-E1D1 :  1033.5785, MAE-E2D2 :  1055.0283\n",
      "Day  2 :\n",
      "MAE-E1D1 :  1066.2806, MAE-E2D2 :  1081.0955\n",
      "Day  3 :\n",
      "MAE-E1D1 :  1113.0276, MAE-E2D2 :  1114.1947\n",
      "Day  4 :\n",
      "MAE-E1D1 :  1128.9796, MAE-E2D2 :  1128.9302\n",
      "Day  5 :\n",
      "MAE-E1D1 :  1150.3348, MAE-E2D2 :  1159.4834\n",
      "\n",
      "\n",
      "Sub_metering_1\n",
      "Day  1 :\n",
      "MAE-E1D1 :  999.2331, MAE-E2D2 :  985.7869\n",
      "Day  2 :\n",
      "MAE-E1D1 :  994.0509, MAE-E2D2 :  996.59814\n",
      "Day  3 :\n",
      "MAE-E1D1 :  1002.30817, MAE-E2D2 :  1007.29865\n",
      "Day  4 :\n",
      "MAE-E1D1 :  1006.75775, MAE-E2D2 :  1005.9204\n",
      "Day  5 :\n",
      "MAE-E1D1 :  1005.8975, MAE-E2D2 :  1000.70374\n",
      "\n",
      "\n",
      "Sub_metering_2\n",
      "Day  1 :\n",
      "MAE-E1D1 :  1344.4458, MAE-E2D2 :  1366.1396\n",
      "Day  2 :\n",
      "MAE-E1D1 :  1351.0194, MAE-E2D2 :  1360.2928\n",
      "Day  3 :\n",
      "MAE-E1D1 :  1358.7003, MAE-E2D2 :  1360.681\n",
      "Day  4 :\n",
      "MAE-E1D1 :  1373.6387, MAE-E2D2 :  1376.2363\n",
      "Day  5 :\n",
      "MAE-E1D1 :  1373.1869, MAE-E2D2 :  1373.4531\n",
      "\n",
      "\n",
      "Sub_metering_3\n",
      "Day  1 :\n",
      "MAE-E1D1 :  2334.0127, MAE-E2D2 :  2363.1816\n",
      "Day  2 :\n",
      "MAE-E1D1 :  2388.0303, MAE-E2D2 :  2401.8865\n",
      "Day  3 :\n",
      "MAE-E1D1 :  2494.4607, MAE-E2D2 :  2484.2024\n",
      "Day  4 :\n",
      "MAE-E1D1 :  2567.6606, MAE-E2D2 :  2536.0698\n",
      "Day  5 :\n",
      "MAE-E1D1 :  2624.6675, MAE-E2D2 :  2582.691\n",
      "\n",
      "\n"
     ]
    }
   ],
   "source": [
    "from sklearn.metrics import mean_absolute_error\n",
    "for index,i in enumerate(train_df.columns):\n",
    "    print(i)\n",
    "    for j in range(1,6):\n",
    "        print(\"Day \",j,\":\")\n",
    "        print(\"MAE-E1D1 : \",mean_absolute_error(y_test[:,j-1,index],pred1_e1d1[:,j-1,index]),end=\", \")\n",
    "        print(\"MAE-E2D2 : \",mean_absolute_error(y_test[:,j-1,index],pred1_e2d2[:,j-1,index]))\n",
    "    print()\n",
    "    print()"
   ]
  },
  {
   "cell_type": "code",
   "execution_count": 21,
   "id": "156dc093",
   "metadata": {
    "ExecuteTime": {
     "end_time": "2022-03-07T03:58:52.665159Z",
     "start_time": "2022-03-07T03:58:52.657181Z"
    }
   },
   "outputs": [
    {
     "data": {
      "text/plain": [
       "(347, 5, 7)"
      ]
     },
     "execution_count": 21,
     "metadata": {},
     "output_type": "execute_result"
    }
   ],
   "source": [
    "y_test.shape"
   ]
  },
  {
   "cell_type": "code",
   "execution_count": 23,
   "id": "a7329950",
   "metadata": {
    "ExecuteTime": {
     "end_time": "2022-03-07T03:59:09.975272Z",
     "start_time": "2022-03-07T03:59:09.970260Z"
    }
   },
   "outputs": [
    {
     "data": {
      "text/plain": [
       "(347, 5, 7)"
      ]
     },
     "execution_count": 23,
     "metadata": {},
     "output_type": "execute_result"
    }
   ],
   "source": [
    "pred1_e1d1.shape"
   ]
  }
 ],
 "metadata": {
  "kernelspec": {
   "display_name": "tensorflow",
   "language": "python",
   "name": "tensorflow"
  },
  "language_info": {
   "codemirror_mode": {
    "name": "ipython",
    "version": 3
   },
   "file_extension": ".py",
   "mimetype": "text/x-python",
   "name": "python",
   "nbconvert_exporter": "python",
   "pygments_lexer": "ipython3",
   "version": "3.7.11"
  },
  "toc": {
   "base_numbering": 1,
   "nav_menu": {},
   "number_sections": true,
   "sideBar": true,
   "skip_h1_title": false,
   "title_cell": "Table of Contents",
   "title_sidebar": "Contents",
   "toc_cell": false,
   "toc_position": {},
   "toc_section_display": true,
   "toc_window_display": false
  }
 },
 "nbformat": 4,
 "nbformat_minor": 5
}
