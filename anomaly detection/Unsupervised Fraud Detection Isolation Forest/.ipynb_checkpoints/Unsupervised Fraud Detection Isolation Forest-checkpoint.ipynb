{
 "cells": [
  {
   "cell_type": "markdown",
   "metadata": {},
   "source": [
    "# 출처\n",
    "- https://www.kaggle.com/rgaddati/unsupervised-fraud-detection-isolation-forest/notebook"
   ]
  },
  {
   "cell_type": "code",
   "execution_count": 1,
   "metadata": {
    "_cell_guid": "b1076dfc-b9ad-4769-8c92-a6c4dae69d19",
    "_uuid": "8f2839f25d086af736a60e9eeb907d3b93b6e0e5",
    "execution": {
     "iopub.execute_input": "2022-01-21T12:12:50.389107Z",
     "iopub.status.busy": "2022-01-21T12:12:50.388471Z",
     "iopub.status.idle": "2022-01-21T12:12:50.418672Z",
     "shell.execute_reply": "2022-01-21T12:12:50.417830Z",
     "shell.execute_reply.started": "2022-01-21T12:12:50.389037Z"
    }
   },
   "outputs": [],
   "source": [
    "##All General Import Statements\n",
    "import pandas as pd\n",
    "import numpy as np\n",
    "import math\n",
    "import random\n",
    "%matplotlib inline\n",
    "import random\n",
    "from matplotlib import pyplot\n",
    "import os\n",
    "# print(os.listdir(\"../input\"))\n",
    "from mpl_toolkits.mplot3d import Axes3D"
   ]
  },
  {
   "cell_type": "code",
   "execution_count": 2,
   "metadata": {},
   "outputs": [],
   "source": [
    "import warnings\n",
    "warnings.filterwarnings(\"ignore\")"
   ]
  },
  {
   "cell_type": "markdown",
   "metadata": {
    "_cell_guid": "79c7e3d0-c299-4dcb-8224-4455121ee9b0",
    "_uuid": "d629ff2d2480ee46fbb7e2d37f6b5fab8052498a"
   },
   "source": [
    "# Anomaly Detection Algorithms: Isolation Forest vs the Rest"
   ]
  },
  {
   "cell_type": "markdown",
   "metadata": {},
   "source": [
    "해당 노트북에서는 Isolation Forest 알고리즘을 단순화 시켜 구현한다. 또한 Scikit-learn 구현을 다른 인기 있는 이상 탐지 알고리즘과 비교한다. (KMeans, 로컬 이상값 요인, 단일 클래스 SVM)\n",
    "\n",
    "실제 시나리오에서 비지도 모델은 도메인 지식을 기반으로 하는 이상규칙이 문제에 대해 공식화될 수 없는 경우 레이블이 지정된 데이터를 생성하기 위한 시드로 주로 사용됩니다. 예를 들어, 문제가 로그인 간 시간 및 출처 간 거리와 같은 네트워크 트래픽 메트릭의 이상을 식별하는 것인 경우 이상규칙을 만드는데 사용될 수 있다. 그런 다음 이 규칙을 적용하여 얻은 비정상적인 데이터를 통해 실제 데이터를 비교 확인해봐야 한다.반면 직원이 증권 사기를 저지를 확률을 식별하는 경우는 데이터는 매우 고차원적이며 데이터 포인트 간의 관계가 복잡합니다. 따라서 깊이 있는 도메인 지식 없이는 이상규칙을 만들어내기가 어렵다. 이는 기밀 유지와 같은 문제와 결합되어 이러한 위험 규칙을 검증하기가 매우 어렵습니다.\n",
    "\n",
    "그렇기 때문에 비지도 학습이 유용하다.도메인 지식이 거의 없는 상태에서 간단한 비지도 알고리즘을 사용하여 비정상적인 목록을 만든 다음 감사 프로세스에 입력하여 실제 레이블을 생성할 수 있습니다. 시간이 지남에 따라 충분한 데이터 레이블이 생성되면 비지도 문제를 다시 지도문제로 변경할 수도있을 것이다.\n",
    "\n",
    "이 노트북은 다양한 비지도 알고리즘을 서로 비교하는 것을 목표로 하기 때문에 실제 성능을 검증한다. 이를 위해 레이블이 지정된 데이터 세트를 사용합니다. 그러나 알고리즘은 훈련하는 동안 레이블을 보지 못합니다. 레이블은 모델 예측을 실제 값과 비교하고 성능 메트릭을 만드는 데만 사용된다."
   ]
  },
  {
   "cell_type": "markdown",
   "metadata": {
    "_cell_guid": "0a6767c4-59bf-424a-b528-5f23f7c77e05",
    "_uuid": "5eb32b0426d5808a32cae7715b93782bc56cbf3c"
   },
   "source": [
    "## Isolation Forests in Python"
   ]
  },
  {
   "cell_type": "markdown",
   "metadata": {
    "_cell_guid": "57188d78-4ec3-4252-845d-4da4753712ad",
    "_uuid": "b0d953c2647f835df03f2277b733505227a1419e"
   },
   "source": [
    "The Algorithm has 3 parts:\n",
    "    1. Forest\n",
    "    2. Isolation Tree\n",
    "    3. Evaluation (Path Length)"
   ]
  },
  {
   "cell_type": "markdown",
   "metadata": {
    "_cell_guid": "5401b624-f184-4c3e-92ee-03a575f860e3",
    "_uuid": "5e706fb54f2082cc2a06dc21fee0f10e75f4cc46"
   },
   "source": [
    "### Common Classes"
   ]
  },
  {
   "cell_type": "markdown",
   "metadata": {
    "_cell_guid": "fb6bebee-78d7-4fb8-8e23-6afddd9bcd18",
    "_uuid": "5cdf80e854ba266938d7c06c2fd46734806932e4"
   },
   "source": [
    "The below code defines classes for external and internal nodes"
   ]
  },
  {
   "cell_type": "code",
   "execution_count": 3,
   "metadata": {
    "_cell_guid": "c503afb8-44ce-4fd7-b982-05c96686bce8",
    "_uuid": "3b6b1a66a377870f9b23a12538a192d28a5044bc",
    "execution": {
     "iopub.execute_input": "2022-01-21T12:12:50.420781Z",
     "iopub.status.busy": "2022-01-21T12:12:50.420188Z",
     "iopub.status.idle": "2022-01-21T12:12:50.426685Z",
     "shell.execute_reply": "2022-01-21T12:12:50.425753Z",
     "shell.execute_reply.started": "2022-01-21T12:12:50.420721Z"
    }
   },
   "outputs": [],
   "source": [
    "class ExNode:\n",
    "    def __init__(self,size):\n",
    "        self.size=size\n",
    "        \n",
    "class InNode:\n",
    "    def __init__(self,left,right,splitAtt,splitVal):\n",
    "        self.left=left\n",
    "        self.right=right\n",
    "        self.splitAtt=splitAtt\n",
    "        self.splitVal=splitVal"
   ]
  },
  {
   "cell_type": "markdown",
   "metadata": {
    "_cell_guid": "48ed0823-f2cc-4ff5-9d4b-43701552416c",
    "_uuid": "744502f951d596db83cf82ffec2cbc898ecc5885"
   },
   "source": [
    "### Forest"
   ]
  },
  {
   "cell_type": "code",
   "execution_count": 4,
   "metadata": {
    "_cell_guid": "6adf9ec9-a156-4aa9-a75d-bc441df999a5",
    "_uuid": "295b36c553de744afc226263850037290b49ab92",
    "execution": {
     "iopub.execute_input": "2022-01-21T12:12:50.428468Z",
     "iopub.status.busy": "2022-01-21T12:12:50.427975Z",
     "iopub.status.idle": "2022-01-21T12:12:50.437792Z",
     "shell.execute_reply": "2022-01-21T12:12:50.437244Z",
     "shell.execute_reply.started": "2022-01-21T12:12:50.428328Z"
    }
   },
   "outputs": [],
   "source": [
    "def iForest(X,noOfTrees,sampleSize):\n",
    "    forest=[]\n",
    "    hlim=math.ceil(math.log(sampleSize,2))\n",
    "    for i in range(noOfTrees):\n",
    "        X_train=X.sample(sampleSize)\n",
    "        forest.append(iTree(X_train,0,hlim))\n",
    "    return forest"
   ]
  },
  {
   "cell_type": "markdown",
   "metadata": {
    "_cell_guid": "ea1015ac-1966-4f7d-8bd7-d6949e29d70c",
    "_uuid": "433bd340e2dbb1bca6d3f75695da9896f4fdb566"
   },
   "source": [
    "### Isolation Tree"
   ]
  },
  {
   "cell_type": "code",
   "execution_count": 5,
   "metadata": {
    "_cell_guid": "2f4386ae-2a4d-46e9-bb21-de82960af35e",
    "_uuid": "8fa24a94ee6e5cd622bcbb22ae107561007d9901",
    "execution": {
     "iopub.execute_input": "2022-01-21T12:12:50.439663Z",
     "iopub.status.busy": "2022-01-21T12:12:50.439066Z",
     "iopub.status.idle": "2022-01-21T12:12:50.449757Z",
     "shell.execute_reply": "2022-01-21T12:12:50.448239Z",
     "shell.execute_reply.started": "2022-01-21T12:12:50.439341Z"
    }
   },
   "outputs": [],
   "source": [
    "def iTree(X,currHeight,hlim):\n",
    "    if currHeight>=hlim or len(X)<=1:\n",
    "        return ExNode(len(X))\n",
    "    else:\n",
    "        Q=X.columns\n",
    "        q=random.choice(Q)\n",
    "        p=random.choice(X[q].unique())\n",
    "        X_l=X[X[q]<p]\n",
    "        X_r=X[X[q]>=p]\n",
    "        return InNode(iTree(X_l,currHeight+1,hlim),iTree(X_r,currHeight+1,hlim),q,p)"
   ]
  },
  {
   "cell_type": "markdown",
   "metadata": {
    "_cell_guid": "779246a7-781a-4edd-a07f-4cd96f58cfa2",
    "_uuid": "f24f67fe0c9812c46fd06c00ed2c2c8e2c46f081"
   },
   "source": [
    "### Path Length"
   ]
  },
  {
   "cell_type": "code",
   "execution_count": 6,
   "metadata": {
    "_cell_guid": "d9bccec2-af04-4b0c-b0c1-43ea396ec8d5",
    "_uuid": "f6b4b6bdc56c1a9828ff98eb806c5e1fa1ba8761",
    "execution": {
     "iopub.execute_input": "2022-01-21T12:12:50.451191Z",
     "iopub.status.busy": "2022-01-21T12:12:50.450960Z",
     "iopub.status.idle": "2022-01-21T12:12:50.462247Z",
     "shell.execute_reply": "2022-01-21T12:12:50.461416Z",
     "shell.execute_reply.started": "2022-01-21T12:12:50.451144Z"
    }
   },
   "outputs": [],
   "source": [
    "def pathLength(x,Tree,currHeight):\n",
    "    if isinstance(Tree,ExNode):\n",
    "        return currHeight\n",
    "    a=Tree.splitAtt\n",
    "    if x[a]<Tree.splitVal:\n",
    "        return pathLength(x,Tree.left,currHeight+1)\n",
    "    else:\n",
    "        return pathLength(x,Tree.right,currHeight+1)"
   ]
  },
  {
   "cell_type": "markdown",
   "metadata": {
    "_cell_guid": "f58277de-5872-48ed-8b1a-1b693f66e6d6",
    "_uuid": "d6712ff6e9a54257ef804264543c5eedbf19aba5"
   },
   "source": [
    "## Test Run"
   ]
  },
  {
   "cell_type": "markdown",
   "metadata": {
    "_cell_guid": "1885322a-6620-4694-89b1-861fc671c126",
    "_uuid": "56b9b449b538a6dd60f5f6d0b3688da65e832942"
   },
   "source": [
    "- 데이터 셋의 출처는 아래와 같다. \n",
    "- 신용카드 사용의 farud 관련 데이터이다.\n",
    "- Source: https://www.kaggle.com/dalpozz/creditcardfraud\n"
   ]
  },
  {
   "cell_type": "code",
   "execution_count": 7,
   "metadata": {
    "_cell_guid": "b4d647aa-fdd5-4e78-914d-715a8e2579c0",
    "_uuid": "5a295f6d45be752095da313c704a7b0b8734b6bc",
    "execution": {
     "iopub.execute_input": "2022-01-21T12:12:50.463569Z",
     "iopub.status.busy": "2022-01-21T12:12:50.463363Z",
     "iopub.status.idle": "2022-01-21T12:12:54.481645Z",
     "shell.execute_reply": "2022-01-21T12:12:54.480943Z",
     "shell.execute_reply.started": "2022-01-21T12:12:50.463530Z"
    }
   },
   "outputs": [],
   "source": [
    "df=pd.read_csv(\"C:/Users/user/Dropbox/Taehoon/github_local/example/archive/creditcard.csv\")\n",
    "y_true=df['Class']\n",
    "df_data=df.drop('Class',1)"
   ]
  },
  {
   "cell_type": "markdown",
   "metadata": {
    "_cell_guid": "52ad61e8-e7d4-4149-84cc-b6d87278485e",
    "_uuid": "2183258a5cbcddd1963d6c4bfeb647315046bc1e"
   },
   "source": [
    "Next, we create the forest."
   ]
  },
  {
   "cell_type": "code",
   "execution_count": 8,
   "metadata": {
    "_cell_guid": "29be2a8e-6df4-46aa-82b8-8486e6141bdd",
    "_uuid": "5840afc723acd274db093f7d4d13a6a098326ea0",
    "execution": {
     "iopub.execute_input": "2022-01-21T12:12:54.483411Z",
     "iopub.status.busy": "2022-01-21T12:12:54.483065Z"
    }
   },
   "outputs": [],
   "source": [
    "sampleSize=10000\n",
    "ifor=iForest(df_data.sample(100000),10,sampleSize) ##10개의 iFOREST"
   ]
  },
  {
   "cell_type": "markdown",
   "metadata": {
    "_cell_guid": "7b1a7da5-a277-4781-b184-61fdb842f8c7",
    "_uuid": "46b8d7b1ed8b33cf787c4d250af91f83270e06fb"
   },
   "source": [
    "Next, we select 1000 random datapoints and get their path lengths. The purpose for this is to plot and see if anomalies actually have shorter path lengths."
   ]
  },
  {
   "cell_type": "code",
   "execution_count": 9,
   "metadata": {
    "_cell_guid": "898af762-2a51-4f1e-a8c6-4d7d01e67fc9",
    "_uuid": "51dc6a3b53c6f3fd55a8b5da01fa6d8a44f229cd"
   },
   "outputs": [],
   "source": [
    "posLenLst=[]\n",
    "negLenLst=[]\n",
    "\n",
    "for sim in range(1000):\n",
    "    ind=random.choice(df_data[y_true==1].index)\n",
    "    for tree in ifor:\n",
    "        posLenLst.append(pathLength(df_data.iloc[ind],tree,0))\n",
    "        \n",
    "    ind=random.choice(df_data[y_true==0].index)\n",
    "    for tree in ifor:\n",
    "        negLenLst.append(pathLength(df_data.iloc[ind],tree,0))"
   ]
  },
  {
   "cell_type": "markdown",
   "metadata": {
    "_cell_guid": "0c8a7daa-c64f-4310-9f6c-86e12820fa98",
    "_uuid": "16556fb64b274e15b98b42a300f9b50444bd4019"
   },
   "source": [
    "Finally, we plot the path lengths."
   ]
  },
  {
   "cell_type": "code",
   "execution_count": 10,
   "metadata": {
    "_cell_guid": "b13a17f9-9f11-4701-89a5-6323416d932a",
    "_uuid": "8b75a0f90c32773dc3a5e790f1faab54c5a75e66"
   },
   "outputs": [
    {
     "data": {
      "text/plain": [
       "<matplotlib.legend.Legend at 0x285574a2f98>"
      ]
     },
     "execution_count": 10,
     "metadata": {},
     "output_type": "execute_result"
    },
    {
     "data": {
      "image/png": "[encoded data removed]",
      "text/plain": [
       "<Figure size 864x576 with 1 Axes>"
      ]
     },
     "metadata": {
      "needs_background": "light"
     },
     "output_type": "display_data"
    }
   ],
   "source": [
    "bins = np.linspace(0,math.ceil(math.log(sampleSize,2)), math.ceil(math.log(sampleSize,2)))\n",
    "\n",
    "pyplot.figure(figsize=(12,8))\n",
    "pyplot.hist(posLenLst, bins, alpha=0.5, label='Anomaly')\n",
    "pyplot.hist(negLenLst, bins, alpha=0.5, label='Normal')\n",
    "pyplot.xlabel('Path Length')\n",
    "pyplot.ylabel('Frequency')\n",
    "pyplot.legend(loc='upper left')"
   ]
  },
  {
   "cell_type": "markdown",
   "metadata": {
    "_cell_guid": "44bc52cc-ee4e-457f-b2a2-9e3e9f9f288f",
    "_uuid": "2e9879d52665b6667c994860c25068d76b1f7866"
   },
   "source": [
    "Anomalies do seem to have a lower path length. Not bad for random division!"
   ]
  },
  {
   "cell_type": "markdown",
   "metadata": {
    "_cell_guid": "475a106d-ab55-4321-bdc9-6dd3dd9389bd",
    "_uuid": "e9620b249c239fa93f6a262b29663a332f9cf1d6"
   },
   "source": [
    "#### Notes:"
   ]
  },
  {
   "cell_type": "markdown",
   "metadata": {
    "_cell_guid": "38d5a51d-5462-474a-bd0f-3275c698a5b5",
    "_uuid": "d299377f28833af98507c7b4f2e3482f20bde462"
   },
   "source": [
    "The above implementation ignores three aspects of the actual algorithm fo the sake of simplicity.\n",
    "1. The average depth needs to be added to the depth once the current length hits the height limit\n",
    "2. The path lengths are not normalized between trees and hence the actual values are used for plotting\n",
    "3. The authors of the paper suggest using kurtosis to select features as a refinement over random selection"
   ]
  },
  {
   "cell_type": "markdown",
   "metadata": {
    "_cell_guid": "f9fa6258-9b16-4dd2-b1c7-0b98ed4086ea",
    "_uuid": "3b18dd45c14398a0afa398bf5150291ff54ae1e4"
   },
   "source": [
    "## Plotting the Data"
   ]
  },
  {
   "cell_type": "markdown",
   "metadata": {
    "_cell_guid": "c163e219-0be5-45db-bb42-3af9152f150c",
    "_uuid": "6f1a665571985cd3f59e47fbdeb1d93032b21700"
   },
   "source": [
    "T-SNE를 사용해 고차원의 데이터를 2차원과 3차원의 plot으로 나타내 확인해보았다. 목적은 거리기반의 이상탐지 알고리즘이 이 데이터 셋에서도 잘 작동하는지 이다. 하지만  T-SNE의 결과 이상치와 정상데이터가 멀리 떨어져 있지 않음을 확인하였고 `이를 통해 거리기반의 이상탐지 알고리즘은 잘 작동하지 않을거라고 생각되어진다.`"
   ]
  },
  {
   "cell_type": "code",
   "execution_count": 13,
   "metadata": {},
   "outputs": [],
   "source": [
    "import warnings\n",
    "warnings.filterwarnings(\"ignore\")"
   ]
  },
  {
   "cell_type": "code",
   "execution_count": 14,
   "metadata": {
    "_cell_guid": "f4e3169d-9c2c-4bcb-a6e2-8aeb0c729914",
    "_uuid": "10f5bd53b17b9008d454452aa1c75291ba760b1c"
   },
   "outputs": [],
   "source": [
    "from sklearn.manifold import TSNE"
   ]
  },
  {
   "cell_type": "code",
   "execution_count": 15,
   "metadata": {
    "_cell_guid": "49a5e240-c364-428e-8e97-8d5b3442c133",
    "_uuid": "bdab542bfaa77c188698abd80050f7e9ddf6f25c"
   },
   "outputs": [],
   "source": [
    "df_plt=df[df['Class']==0].sample(1000)\n",
    "df_plt_pos=df[df['Class']==1].sample(20)\n",
    "df_plt=pd.concat([df_plt,df_plt_pos])\n",
    "y_plt=df_plt['Class']\n",
    "X_plt=df_plt.drop('Class',1)"
   ]
  },
  {
   "cell_type": "code",
   "execution_count": 16,
   "metadata": {
    "_cell_guid": "99a3d29b-2a61-4a56-91c6-803757498543",
    "_uuid": "9639620a9989dcc39e7cf7e25d71cb24b70912bc"
   },
   "outputs": [],
   "source": [
    "X_embedded = TSNE(n_components=2).fit_transform(X_plt)"
   ]
  },
  {
   "cell_type": "code",
   "execution_count": 17,
   "metadata": {
    "_cell_guid": "09ef66ac-6bd9-4f14-b18c-c5d4294af071",
    "_uuid": "8e6823f7560b1a4e72d7271d350f2f5a47f4ac43"
   },
   "outputs": [
    {
     "data": {
      "text/plain": [
       "<matplotlib.colorbar.Colorbar at 0x2855c8a7240>"
      ]
     },
     "execution_count": 17,
     "metadata": {},
     "output_type": "execute_result"
    },
    {
     "data": {
      "image/png": "[encoded data removed]",
      "text/plain": [
       "<Figure size 864x576 with 2 Axes>"
      ]
     },
     "metadata": {
      "needs_background": "light"
     },
     "output_type": "display_data"
    }
   ],
   "source": [
    "pyplot.figure(figsize=(12,8))\n",
    "pyplot.scatter(X_embedded[:,0], X_embedded[:,1], c=y_plt, cmap=pyplot.cm.get_cmap(\"Paired\", 2))\n",
    "pyplot.colorbar(ticks=range(2))"
   ]
  },
  {
   "cell_type": "code",
   "execution_count": 18,
   "metadata": {},
   "outputs": [],
   "source": [
    "X_embedded = TSNE(n_components=3).fit_transform(X_plt)"
   ]
  },
  {
   "cell_type": "code",
   "execution_count": 19,
   "metadata": {},
   "outputs": [
    {
     "data": {
      "text/plain": [
       "<matplotlib.colorbar.Colorbar at 0x2855c9251d0>"
      ]
     },
     "execution_count": 19,
     "metadata": {},
     "output_type": "execute_result"
    },
    {
     "data": {
      "image/png": "[encoded data removed]",
      "text/plain": [
       "<Figure size 864x576 with 2 Axes>"
      ]
     },
     "metadata": {
      "needs_background": "light"
     },
     "output_type": "display_data"
    }
   ],
   "source": [
    "pyplot.figure(figsize=(12,8))\n",
    "pyplot.axes(projection='3d')\n",
    "pyplot.scatter(X_embedded[:,0], X_embedded[:,1], X_embedded[:,2], c=y_plt, cmap=pyplot.cm.get_cmap(\"Paired\", 2))\n",
    "pyplot.colorbar(ticks=range(2))"
   ]
  },
  {
   "cell_type": "markdown",
   "metadata": {
    "_cell_guid": "6c66d785-5527-4f48-bfcb-76f644bbde9d",
    "_uuid": "a6450f3c3f844d5e8846e133e1b1591adb5dd831"
   },
   "source": [
    "## 다양한 알고리즘 적합 및 평가확인"
   ]
  },
  {
   "cell_type": "markdown",
   "metadata": {
    "_cell_guid": "ed41c041-92c2-4475-a613-d06f48b43d57",
    "_uuid": "eba4bbaa3dda1577c5797783d28ab24202d2fd62"
   },
   "source": [
    "To keep things even, all of the algorithms are run with their default parameters."
   ]
  },
  {
   "cell_type": "markdown",
   "metadata": {
    "_cell_guid": "38ccdecd-6cc5-4d9e-b61f-0cf6a9f4fae3",
    "_uuid": "f20b14f5b5426ad31ecacd61a794b426e2351ff0"
   },
   "source": [
    "Let's start by importing the scikit-learn implementations of all 4 algorithms."
   ]
  },
  {
   "cell_type": "code",
   "execution_count": 20,
   "metadata": {
    "_cell_guid": "0da2ef65-865a-46d1-bba3-085eaa4ebe0d",
    "_uuid": "55a22d68269bdcd7d251291544952f5358a1d936"
   },
   "outputs": [],
   "source": [
    "from sklearn.ensemble import IsolationForest\n",
    "from sklearn.svm import OneClassSVM\n",
    "from sklearn.neighbors import LocalOutlierFactor ## Only available with scikit-learn 0.19 and later\n",
    "from sklearn.cluster import KMeans"
   ]
  },
  {
   "cell_type": "markdown",
   "metadata": {
    "_cell_guid": "1dd4c391-2656-4746-8f92-1d713b44492a",
    "_uuid": "5605915d2edb758623cbf4e8f907d8170ee38889"
   },
   "source": [
    "Next, let's create a train and test dataset."
   ]
  },
  {
   "cell_type": "code",
   "execution_count": 21,
   "metadata": {
    "_cell_guid": "ec02afde-f1f4-4ea8-98e9-5dcc35c9b510",
    "_uuid": "9f5aa9ec82465700c9b9f2ca1305e7408d88a121"
   },
   "outputs": [],
   "source": [
    "from sklearn.model_selection import train_test_split"
   ]
  },
  {
   "cell_type": "code",
   "execution_count": 22,
   "metadata": {
    "_cell_guid": "c51cbb06-aa24-4454-83ca-c42d3a5aa557",
    "_uuid": "0965b21b9059d99cfd4c2461d6ed3cc63de261c0"
   },
   "outputs": [],
   "source": [
    "X_train, X_test, y_train, y_test = train_test_split(df_data, y_true, test_size=0.3, random_state=42)"
   ]
  },
  {
   "cell_type": "markdown",
   "metadata": {
    "_cell_guid": "7f34e71d-f39d-43f6-ae93-a20ea51d626b",
    "_uuid": "f770fc43467b3a666981c72bceeccbaedcf65356"
   },
   "source": [
    "Finally, let's create a few helper functions that help with training and testing the models. The preprocess function is not used in this notebook but it might help improve the scores on the KMeans and One Class SVM models."
   ]
  },
  {
   "cell_type": "code",
   "execution_count": 23,
   "metadata": {
    "_cell_guid": "c9d25b03-9223-40cc-a101-5f55b977dbde",
    "_uuid": "9b9c37df64fc0cddbfb3feca93bcb142da57f270"
   },
   "outputs": [],
   "source": [
    "## Not required for Isolation Forest\n",
    "def preprocess(df_data):\n",
    "    for col in df_data:\n",
    "        df_data[col]=(df_data[col]-np.min(df_data[col]))/(np.max(df_data[col])-np.min(df_data[col]))\n",
    "    return"
   ]
  },
  {
   "cell_type": "markdown",
   "metadata": {
    "_cell_guid": "06776668-4513-4109-931c-160e4247c085",
    "_uuid": "5c9f1ce9f8809b7fa715468ef24d7e5753c5021b"
   },
   "source": [
    "<b>Note:</b> The below train and predict functions are designed to output ensemble models (bagged models), with the default size being 5 models. The Isolation Forest and One Class SVM use these functions."
   ]
  },
  {
   "cell_type": "code",
   "execution_count": 24,
   "metadata": {
    "_cell_guid": "c7b61f65-46ba-411a-942d-cfff8a1e290b",
    "_uuid": "4565902b66a86eba31a7b09bbd90db68e2923cca"
   },
   "outputs": [],
   "source": [
    "## Not valid for LOF\n",
    "def train(X,clf,ensembleSize=5,sampleSize=10000):\n",
    "    mdlLst=[]\n",
    "    for n in range(ensembleSize):\n",
    "        X=df_data.sample(sampleSize)\n",
    "        clf.fit(X)\n",
    "        mdlLst.append(clf)\n",
    "    return mdlLst"
   ]
  },
  {
   "cell_type": "code",
   "execution_count": 25,
   "metadata": {
    "_cell_guid": "abc7a7b9-f8d2-466e-9b3e-f9d0ef611200",
    "_uuid": "44981a687f2768724c9b7b29453371ffa2bab9b2"
   },
   "outputs": [],
   "source": [
    "## Not valif for LOF\n",
    "def predict(X,mdlLst):\n",
    "    y_pred=np.zeros(X.shape[0])\n",
    "    for clf in mdlLst:\n",
    "        y_pred=np.add(y_pred,clf.decision_function(X).reshape(X.shape[0],))\n",
    "    y_pred=(y_pred*1.0)/len(mdlLst)\n",
    "    return y_pred"
   ]
  },
  {
   "cell_type": "markdown",
   "metadata": {
    "_cell_guid": "787615be-6c75-4b33-bfe6-213bbc187d41",
    "_uuid": "33c0fde1de4e87e2a73013396a61fc3b2f388264"
   },
   "source": [
    "Finally, let's import some model scoring libraries. Since, we are dealing with a heavily imbalanced dataset, F1 Score is used as a proxy for model performance."
   ]
  },
  {
   "cell_type": "markdown",
   "metadata": {
    "_cell_guid": "82252a18-242d-4d19-b9d7-b9d768ebf9d2",
    "_uuid": "0736222c027239385a3a7f96d3aa4694427c5cc8"
   },
   "source": [
    "For more details, refer http://scikit-learn.org/stable/modules/generated/sklearn.metrics.f1_score.html"
   ]
  },
  {
   "cell_type": "code",
   "execution_count": 26,
   "metadata": {
    "_cell_guid": "201a5d09-d206-46a0-81f9-a44452ffda32",
    "_uuid": "40d4645e6706dc747d241f01c53a9eace10fe07b"
   },
   "outputs": [],
   "source": [
    "from sklearn.metrics import roc_auc_score\n",
    "from sklearn.metrics import confusion_matrix,f1_score"
   ]
  },
  {
   "cell_type": "markdown",
   "metadata": {
    "_cell_guid": "ea911ef4-f4cc-4388-bf8d-58f1fb075d38",
    "_uuid": "c92dbe4e580bd0526ed1d2d40dae699a389ebc55"
   },
   "source": [
    "#### Isolation Forest"
   ]
  },
  {
   "cell_type": "code",
   "execution_count": 27,
   "metadata": {
    "_cell_guid": "41633412-ca55-4daa-8087-059aac9e0d27",
    "_uuid": "d6edbea75777eea1556e652cb900ec8b081b217c"
   },
   "outputs": [],
   "source": [
    "alg=IsolationForest(n_estimators=100, max_samples='auto', contamination=0.01, \\\n",
    "                        max_features=1.0, bootstrap=False, n_jobs=-1, random_state=42, verbose=0,behaviour=\"new\")"
   ]
  },
  {
   "cell_type": "markdown",
   "metadata": {
    "_cell_guid": "e585ebd2-8b36-4bc4-88b4-d30194dd5c79",
    "_uuid": "df3a2bfff2f8299018330390616d5fd23551f6ce"
   },
   "source": [
    "<b>Note:</b> The magic function timeit does not let us use any variable that is created in the timeit cell. Hence, every cell with a timeit magic function will have a corresponding regular cell with the same code."
   ]
  },
  {
   "cell_type": "code",
   "execution_count": 28,
   "metadata": {
    "_cell_guid": "3ccb4341-a2d3-41dd-8073-a7d306cf0921",
    "_uuid": "3226bd047426cf5f2a915ea0e24eb35966929e62"
   },
   "outputs": [
    {
     "name": "stdout",
     "output_type": "stream",
     "text": [
      "2.43 s ± 96.7 ms per loop (mean ± std. dev. of 7 runs, 1 loop each)\n"
     ]
    }
   ],
   "source": [
    "%%timeit\n",
    "if_mdlLst=train(X_train,alg)"
   ]
  },
  {
   "cell_type": "code",
   "execution_count": 29,
   "metadata": {
    "_cell_guid": "66961d5a-15f3-465a-a705-a442b438ce22",
    "_uuid": "7151d3fea22c71a8e68750338ec3956119a7f810"
   },
   "outputs": [],
   "source": [
    "if_mdlLst=train(X_train,alg)"
   ]
  },
  {
   "cell_type": "code",
   "execution_count": 30,
   "metadata": {
    "_cell_guid": "7dcad90c-9f69-4e13-84ec-4ae4fa8ff0fc",
    "_uuid": "74a40a3f9d9a3320fa611c7f022d74d49ed02d6e"
   },
   "outputs": [
    {
     "name": "stdout",
     "output_type": "stream",
     "text": [
      "13.9 s ± 93.8 ms per loop (mean ± std. dev. of 7 runs, 1 loop each)\n"
     ]
    }
   ],
   "source": [
    "%%timeit\n",
    "if_y_pred=predict(X_test,if_mdlLst)\n",
    "if_y_pred=1-if_y_pred\n",
    "\n",
    "#Creating class labels based on decision function\n",
    "if_y_pred_class=if_y_pred.copy()\n",
    "if_y_pred_class[if_y_pred>=np.percentile(if_y_pred,95)]=1\n",
    "if_y_pred_class[if_y_pred<np.percentile(if_y_pred,95)]=0"
   ]
  },
  {
   "cell_type": "code",
   "execution_count": 31,
   "metadata": {
    "_cell_guid": "57b4d34d-2e2f-4fa6-8807-6ff326271e68",
    "_uuid": "b09730e14c6bad13cf6742f809a7b9570f72c26b"
   },
   "outputs": [],
   "source": [
    "if_y_pred=predict(X_test,if_mdlLst)\n",
    "if_y_pred=1-if_y_pred\n",
    "\n",
    "#Creating class labels based on decision function\n",
    "if_y_pred_class=if_y_pred.copy()\n",
    "if_y_pred_class[if_y_pred>=np.percentile(if_y_pred,95)]=1\n",
    "if_y_pred_class[if_y_pred<np.percentile(if_y_pred,95)]=0"
   ]
  },
  {
   "cell_type": "code",
   "execution_count": 32,
   "metadata": {
    "_cell_guid": "66ee10bf-ecf8-4230-9465-54269a6e276a",
    "_uuid": "6baa55e5fa91614b6d6b6888c632389dda1b6f33"
   },
   "outputs": [
    {
     "data": {
      "text/plain": [
       "0.8947409839479418"
      ]
     },
     "execution_count": 32,
     "metadata": {},
     "output_type": "execute_result"
    }
   ],
   "source": [
    "roc_auc_score(y_test, if_y_pred_class)"
   ]
  },
  {
   "cell_type": "code",
   "execution_count": 33,
   "metadata": {
    "_cell_guid": "9c226f2f-b03d-4efd-a7d1-9ae2aaca260b",
    "_uuid": "45edb5aef17a1dcc0817805fc25bd4c08b8391f6"
   },
   "outputs": [
    {
     "data": {
      "text/plain": [
       "0.05171240644136993"
      ]
     },
     "execution_count": 33,
     "metadata": {},
     "output_type": "execute_result"
    }
   ],
   "source": [
    "f1_score(y_test, if_y_pred_class)"
   ]
  },
  {
   "cell_type": "code",
   "execution_count": 34,
   "metadata": {
    "_cell_guid": "dabdd17a-9362-4688-9d8d-8a15e3583d9c",
    "_uuid": "04080b075bb4389f84aaa0ad84099c91229520f0"
   },
   "outputs": [],
   "source": [
    "if_cm=confusion_matrix(y_test, if_y_pred_class)"
   ]
  },
  {
   "cell_type": "code",
   "execution_count": 35,
   "metadata": {
    "_cell_guid": "96d74ca8-7381-4c8e-be7a-91b33168ad98",
    "_uuid": "39f2dde5fdc84a84f0d62d551015cb6afd200e4a"
   },
   "outputs": [
    {
     "data": {
      "text/plain": [
       "<matplotlib.axes._subplots.AxesSubplot at 0x2855cde6b70>"
      ]
     },
     "execution_count": 35,
     "metadata": {},
     "output_type": "execute_result"
    },
    {
     "data": {
      "image/png": "[encoded data removed]",
      "text/plain": [
       "<Figure size 576x288 with 2 Axes>"
      ]
     },
     "metadata": {
      "needs_background": "light"
     },
     "output_type": "display_data"
    }
   ],
   "source": [
    "import seaborn as sn\n",
    "     \n",
    "df_cm = pd.DataFrame(if_cm,\n",
    "                  ['True Normal','True Fraud'],['Pred Normal','Pred Fraud'])\n",
    "pyplot.figure(figsize = (8,4))\n",
    "sn.set(font_scale=1.4)#for label size\n",
    "sn.heatmap(df_cm, annot=True,annot_kws={\"size\": 16},fmt='g')# font size"
   ]
  },
  {
   "cell_type": "markdown",
   "metadata": {
    "_cell_guid": "b20124a9-964a-40f9-8fc2-ab48810817fc",
    "_uuid": "bab606524762a2c45a58e8a8f8fbae7f116894a4"
   },
   "source": [
    "#### KMeans"
   ]
  },
  {
   "cell_type": "markdown",
   "metadata": {
    "_cell_guid": "e536b129-d19b-49d2-8107-1026c50d6784",
    "_uuid": "93169598c9b25e0e041f9a750eb0519f2fcaf335"
   },
   "source": [
    "The top 5% of the farthest point from cluster centers are itentified as fraud (outliers)"
   ]
  },
  {
   "cell_type": "code",
   "execution_count": 36,
   "metadata": {
    "_cell_guid": "4cb2704d-218b-464a-b828-8d66e15466a6",
    "_uuid": "d5b6187f1ada860ee6fbd6c5075ab7ea6998bd90"
   },
   "outputs": [
    {
     "name": "stdout",
     "output_type": "stream",
     "text": [
      "17 s ± 77.6 ms per loop (mean ± std. dev. of 7 runs, 1 loop each)\n"
     ]
    }
   ],
   "source": [
    "%%timeit\n",
    "\n",
    "kmeans = KMeans(n_clusters=8, random_state=42,n_jobs=-1).fit(X_train)"
   ]
  },
  {
   "cell_type": "code",
   "execution_count": 37,
   "metadata": {
    "_cell_guid": "256a02ae-f67e-42a2-984f-c3582c7427ab",
    "_uuid": "7cc3539b7a247a5104017b36e363b131330ea374"
   },
   "outputs": [],
   "source": [
    "kmeans = KMeans(n_clusters=8, random_state=42,n_jobs=-1).fit(X_train)"
   ]
  },
  {
   "cell_type": "code",
   "execution_count": 38,
   "metadata": {
    "_cell_guid": "dddc5aea-5676-4b46-a373-ccb3b3825496",
    "_uuid": "23c8d87ed6b3c84a1e31c9a4952f69910a985b95"
   },
   "outputs": [
    {
     "name": "stdout",
     "output_type": "stream",
     "text": [
      "440 ms ± 16.5 ms per loop (mean ± std. dev. of 7 runs, 1 loop each)\n"
     ]
    }
   ],
   "source": [
    "%%timeit\n",
    "X_test_clusters=kmeans.predict(X_test)\n",
    "X_test_clusters_centers=kmeans.cluster_centers_\n",
    "dist = [np.linalg.norm(x-y) for x,y in zip(X_test.values,X_test_clusters_centers[X_test_clusters])]\n",
    "\n",
    "km_y_pred=np.array(dist)\n",
    "km_y_pred[dist>=np.percentile(dist,95)]=1\n",
    "km_y_pred[dist<np.percentile(dist,95)]=0"
   ]
  },
  {
   "cell_type": "code",
   "execution_count": 39,
   "metadata": {
    "_cell_guid": "b94b451c-76ee-4f5f-bf93-04ca8ddc237c",
    "_uuid": "13c93518fe879a38cf6b9e0c36f77e54bcc14ea8"
   },
   "outputs": [],
   "source": [
    "X_test_clusters=kmeans.predict(X_test)\n",
    "X_test_clusters_centers=kmeans.cluster_centers_\n",
    "dist = [np.linalg.norm(x-y) for x,y in zip(X_test.values,X_test_clusters_centers[X_test_clusters])]\n",
    "\n",
    "km_y_pred=np.array(dist)\n",
    "km_y_pred[dist>=np.percentile(dist,95)]=1\n",
    "km_y_pred[dist<np.percentile(dist,95)]=0"
   ]
  },
  {
   "cell_type": "code",
   "execution_count": 40,
   "metadata": {
    "_cell_guid": "ba0237c8-c415-4ab2-8ca8-1c0d9a73ce81",
    "_uuid": "8ec5a7a5c8082e76901ae41f02771587c0d53331"
   },
   "outputs": [
    {
     "data": {
      "text/plain": [
       "0.5191431432080258"
      ]
     },
     "execution_count": 40,
     "metadata": {},
     "output_type": "execute_result"
    }
   ],
   "source": [
    "roc_auc_score(y_test, km_y_pred)"
   ]
  },
  {
   "cell_type": "code",
   "execution_count": 41,
   "metadata": {
    "_uuid": "58827917c59212f454d77b051afc55cd08dc7cb5"
   },
   "outputs": [
    {
     "data": {
      "text/plain": [
       "0.005443411204354729"
      ]
     },
     "execution_count": 41,
     "metadata": {},
     "output_type": "execute_result"
    }
   ],
   "source": [
    "f1_score(y_test, km_y_pred)"
   ]
  },
  {
   "cell_type": "code",
   "execution_count": 42,
   "metadata": {
    "_cell_guid": "0acb5a4e-04b7-405e-93ab-a5dcfef9aeb4",
    "_uuid": "1a619b0eab644a5194b9e0ace40315d110811b7f"
   },
   "outputs": [],
   "source": [
    "km_cm=confusion_matrix(y_test, km_y_pred)"
   ]
  },
  {
   "cell_type": "code",
   "execution_count": 43,
   "metadata": {
    "_cell_guid": "b4f14479-a663-4477-9bca-96defa946f62",
    "_uuid": "0395710c992c731a7e2cdbf32c4c96e5350d2da4"
   },
   "outputs": [
    {
     "data": {
      "text/plain": [
       "<matplotlib.axes._subplots.AxesSubplot at 0x2850020ce48>"
      ]
     },
     "execution_count": 43,
     "metadata": {},
     "output_type": "execute_result"
    },
    {
     "data": {
      "image/png": "[encoded data removed]",
      "text/plain": [
       "<Figure size 576x288 with 2 Axes>"
      ]
     },
     "metadata": {},
     "output_type": "display_data"
    }
   ],
   "source": [
    "df_cm = pd.DataFrame(km_cm,\n",
    "                  ['True Normal','True Fraud'],['Pred Normal','Pred Fraud'])\n",
    "pyplot.figure(figsize = (8,4))\n",
    "sn.set(font_scale=1.4)#for label size\n",
    "sn.heatmap(df_cm, annot=True,annot_kws={\"size\": 16},fmt='g')# font size"
   ]
  },
  {
   "cell_type": "markdown",
   "metadata": {
    "_cell_guid": "d440bf60-90c9-453f-811d-08886a7ba655",
    "_uuid": "32972fdea5821d630e57eedcbe8966a99c906f6e"
   },
   "source": [
    "#### LOF"
   ]
  },
  {
   "cell_type": "markdown",
   "metadata": {
    "_cell_guid": "2d370adb-29fa-49af-8d1b-d603b6b5ae22",
    "_uuid": "d57fd4fde5dc04e7969faab0fd286d3e9d481ebe"
   },
   "source": [
    "Local Outlier Factor only looks at the local neighbourhood of a data point and hence cannot make predictions on out of sample data points. Hence we work directly with X_test here."
   ]
  },
  {
   "cell_type": "code",
   "execution_count": 44,
   "metadata": {
    "_cell_guid": "544ffd25-cda4-404c-a14d-802edaa86aba",
    "_uuid": "af7efe1d42c4f9964a18c0549a16b150b368f530"
   },
   "outputs": [],
   "source": [
    "clf=LocalOutlierFactor(n_neighbors=20, algorithm='auto', leaf_size=30, \\\n",
    "                   metric='minkowski', p=2, metric_params=None, contamination=0.1, n_jobs=-1)"
   ]
  },
  {
   "cell_type": "code",
   "execution_count": 45,
   "metadata": {
    "_cell_guid": "005f7e66-1d28-474c-a836-cad6332786bf",
    "_uuid": "1719ff667e4689e3d313fcde1ea7779d9b352d48"
   },
   "outputs": [
    {
     "name": "stdout",
     "output_type": "stream",
     "text": [
      "872 ms ± 29.2 ms per loop (mean ± std. dev. of 7 runs, 1 loop each)\n"
     ]
    }
   ],
   "source": [
    "%%timeit\n",
    "clf.fit(X_test)"
   ]
  },
  {
   "cell_type": "code",
   "execution_count": 46,
   "metadata": {
    "_cell_guid": "95af508c-cfc7-440a-8b5b-8db316178828",
    "_uuid": "d1630e479ebb4a19cf1fd06446933c72dd927a1b"
   },
   "outputs": [
    {
     "data": {
      "text/plain": [
       "LocalOutlierFactor(algorithm='auto', contamination=0.1, leaf_size=30,\n",
       "          metric='minkowski', metric_params=None, n_jobs=-1,\n",
       "          n_neighbors=20, novelty=False, p=2)"
      ]
     },
     "execution_count": 46,
     "metadata": {},
     "output_type": "execute_result"
    }
   ],
   "source": [
    "clf.fit(X_test)"
   ]
  },
  {
   "cell_type": "code",
   "execution_count": 47,
   "metadata": {
    "_cell_guid": "29633d28-76c9-4b61-bb25-ac43b606a5aa",
    "_uuid": "71aee18ce70f6e62566a025712f699a708fc3ac4"
   },
   "outputs": [
    {
     "name": "stdout",
     "output_type": "stream",
     "text": [
      "1.97 ms ± 23.4 µs per loop (mean ± std. dev. of 7 runs, 1000 loops each)\n"
     ]
    }
   ],
   "source": [
    "%%timeit\n",
    "lof_y_pred=clf.negative_outlier_factor_\n",
    "\n",
    "#Creating class labels based on decision function\n",
    "lof_y_pred_class=lof_y_pred.copy()\n",
    "lof_y_pred_class[lof_y_pred>=np.percentile(lof_y_pred,95)]=1\n",
    "lof_y_pred_class[lof_y_pred<np.percentile(lof_y_pred,95)]=0"
   ]
  },
  {
   "cell_type": "code",
   "execution_count": 48,
   "metadata": {
    "_cell_guid": "ee6179fd-29cc-4110-98cf-5273daf7eaba",
    "_uuid": "4cf611375cb843ad9d086e1b0de2716dc6ffdc39"
   },
   "outputs": [],
   "source": [
    "lof_y_pred=clf.negative_outlier_factor_\n",
    "\n",
    "#Creating class labels based on decision function\n",
    "lof_y_pred_class=lof_y_pred.copy()\n",
    "lof_y_pred_class[lof_y_pred>=np.percentile(lof_y_pred,95)]=1\n",
    "lof_y_pred_class[lof_y_pred<np.percentile(lof_y_pred,95)]=0"
   ]
  },
  {
   "cell_type": "code",
   "execution_count": 49,
   "metadata": {
    "_cell_guid": "d5881d03-14e1-43bb-8d35-4a844d5ff1b6",
    "_uuid": "44f197c9a206b612cb83fd9e49df5a0611839c55"
   },
   "outputs": [
    {
     "data": {
      "text/plain": [
       "0.4970491525762661"
      ]
     },
     "execution_count": 49,
     "metadata": {},
     "output_type": "execute_result"
    }
   ],
   "source": [
    "roc_auc_score(y_test, lof_y_pred_class)"
   ]
  },
  {
   "cell_type": "code",
   "execution_count": 50,
   "metadata": {
    "_uuid": "52b331d5658eb668914b17817f3cd62010cd7bc0"
   },
   "outputs": [
    {
     "data": {
      "text/plain": [
       "0.0027217056021773644"
      ]
     },
     "execution_count": 50,
     "metadata": {},
     "output_type": "execute_result"
    }
   ],
   "source": [
    "f1_score(y_test, lof_y_pred_class)"
   ]
  },
  {
   "cell_type": "code",
   "execution_count": 51,
   "metadata": {
    "_cell_guid": "080c3956-360a-4d39-92e7-8e6d6a2ecc88",
    "_uuid": "c1316b5e14d9c58ee8679cae32b3dec9cb917e64"
   },
   "outputs": [],
   "source": [
    "lof_cm=confusion_matrix(y_test, lof_y_pred_class)"
   ]
  },
  {
   "cell_type": "code",
   "execution_count": 52,
   "metadata": {
    "_cell_guid": "bdd32418-48bf-4739-ade3-64f65b739012",
    "_uuid": "3b6c38211fe62992d44b4e6eafaa37f903113a23"
   },
   "outputs": [
    {
     "data": {
      "text/plain": [
       "<matplotlib.axes._subplots.AxesSubplot at 0x28500282a20>"
      ]
     },
     "execution_count": 52,
     "metadata": {},
     "output_type": "execute_result"
    },
    {
     "data": {
      "image/png": "[encoded data removed]",
      "text/plain": [
       "<Figure size 576x288 with 2 Axes>"
      ]
     },
     "metadata": {},
     "output_type": "display_data"
    }
   ],
   "source": [
    "df_cm = pd.DataFrame(lof_cm,\n",
    "                  ['True Normal','True Fraud'],['Pred Normal','Pred Fraud'])\n",
    "pyplot.figure(figsize = (8,4))\n",
    "sn.set(font_scale=1.4)#for label size\n",
    "sn.heatmap(df_cm, annot=True,annot_kws={\"size\": 16},fmt='g')# font size"
   ]
  },
  {
   "cell_type": "markdown",
   "metadata": {
    "_cell_guid": "57b5bcfd-9141-425f-a591-ca5c2115806e",
    "_uuid": "1e9e944deeaffa41e7a5ac578fd0a706b8afc9d3"
   },
   "source": [
    "#### One-Class SVM*"
   ]
  },
  {
   "cell_type": "markdown",
   "metadata": {
    "_cell_guid": "35aac6f7-e4d3-4de7-9805-cd3b9540d30f",
    "_uuid": "51b4ff70e850624b3fe27983d4bb66f6df31fc1c"
   },
   "source": [
    "##### *Any kernel except linear will take a while. Feel free to grab a coffee, if you decide to change the kernel type"
   ]
  },
  {
   "cell_type": "code",
   "execution_count": 53,
   "metadata": {
    "_cell_guid": "3058fa30-566e-48fc-804e-777f586150b1",
    "_uuid": "3bf368b3f9b0239dc4ea2f64eead81e9a16a8efc"
   },
   "outputs": [],
   "source": [
    "alg=OneClassSVM(kernel='linear',gamma='auto', coef0=0.0, tol=0.001, nu=0.5, \\\n",
    "                shrinking=True, cache_size=500, verbose=False, max_iter=-1)"
   ]
  },
  {
   "cell_type": "code",
   "execution_count": 54,
   "metadata": {
    "_cell_guid": "de7a39c5-f104-4e6c-bc6c-9130e9b09dfa",
    "_uuid": "8cf5882be5743456d2ce297d23777ea4f96992bb"
   },
   "outputs": [
    {
     "name": "stdout",
     "output_type": "stream",
     "text": [
      "12.6 s ± 71.2 ms per loop (mean ± std. dev. of 7 runs, 1 loop each)\n"
     ]
    }
   ],
   "source": [
    "%%timeit\n",
    "osvm_mdlLst=train(X_train,alg)"
   ]
  },
  {
   "cell_type": "code",
   "execution_count": 55,
   "metadata": {
    "_cell_guid": "542c3efc-a8d8-452d-839d-03b7ec6f6cbe",
    "_uuid": "dacd2c39d995b46717982256110aaa94590bd319"
   },
   "outputs": [],
   "source": [
    "osvm_mdlLst=train(X_train,alg)"
   ]
  },
  {
   "cell_type": "code",
   "execution_count": 56,
   "metadata": {
    "_cell_guid": "f60066be-58f3-451f-871c-39c501ec4d40",
    "_uuid": "0c0d938e412cf88affb87000dceceb7ac59801ec"
   },
   "outputs": [
    {
     "name": "stdout",
     "output_type": "stream",
     "text": [
      "45.8 s ± 157 ms per loop (mean ± std. dev. of 7 runs, 1 loop each)\n"
     ]
    }
   ],
   "source": [
    "%%timeit\n",
    "osvm_y_pred=predict(X_test,osvm_mdlLst)\n",
    "\n",
    "#Creating class labels based on decision function\n",
    "osvm_y_pred_class=osvm_y_pred.copy()\n",
    "osvm_y_pred_class[osvm_y_pred<0]=1\n",
    "osvm_y_pred_class[osvm_y_pred>=0]=0"
   ]
  },
  {
   "cell_type": "code",
   "execution_count": 57,
   "metadata": {
    "_cell_guid": "a04a8ef3-9011-45ce-a813-2d9ba9793d56",
    "_uuid": "e5eaacb22adc30f9fbdbbc8605f5b2c46a7f0904"
   },
   "outputs": [],
   "source": [
    "osvm_y_pred=predict(X_test,osvm_mdlLst)\n",
    "\n",
    "#Creating class labels based on decision function\n",
    "osvm_y_pred_class=osvm_y_pred.copy()\n",
    "osvm_y_pred_class[osvm_y_pred<0]=1\n",
    "osvm_y_pred_class[osvm_y_pred>=0]=0"
   ]
  },
  {
   "cell_type": "code",
   "execution_count": 58,
   "metadata": {
    "_cell_guid": "3f73d28e-ac54-49b1-b407-a09b554bd87b",
    "_uuid": "a0380683ebc42ea3291480794a52d188f3753e8b"
   },
   "outputs": [
    {
     "data": {
      "text/plain": [
       "0.5106923937005377"
      ]
     },
     "execution_count": 58,
     "metadata": {},
     "output_type": "execute_result"
    }
   ],
   "source": [
    "roc_auc_score(y_test, osvm_y_pred_class)"
   ]
  },
  {
   "cell_type": "code",
   "execution_count": 59,
   "metadata": {
    "_cell_guid": "e7817298-64df-436a-8256-fdc363849afe",
    "_uuid": "8dd3305b86acae073f3abc94a400d7684c680bc5"
   },
   "outputs": [
    {
     "data": {
      "text/plain": [
       "0.0033086350715317587"
      ]
     },
     "execution_count": 59,
     "metadata": {},
     "output_type": "execute_result"
    }
   ],
   "source": [
    "f1_score(y_test, osvm_y_pred_class)"
   ]
  },
  {
   "cell_type": "code",
   "execution_count": 60,
   "metadata": {
    "_cell_guid": "933e4bb5-0687-45b5-90c8-4bc181bf797f",
    "_uuid": "3ba3a2eb25176763b0914550023aee6a6c6a2fd8"
   },
   "outputs": [],
   "source": [
    "osvm_cm=confusion_matrix(y_test, osvm_y_pred_class)"
   ]
  },
  {
   "cell_type": "code",
   "execution_count": 61,
   "metadata": {
    "_cell_guid": "6ab75281-60a9-4c70-9776-6ed149103fdc",
    "_uuid": "f3bac0d7835bdeaeade371ceca092e0fb336ba8b"
   },
   "outputs": [
    {
     "data": {
      "text/plain": [
       "<matplotlib.axes._subplots.AxesSubplot at 0x285006d12b0>"
      ]
     },
     "execution_count": 61,
     "metadata": {},
     "output_type": "execute_result"
    },
    {
     "data": {
      "image/png": "[encoded data removed]",
      "text/plain": [
       "<Figure size 576x288 with 2 Axes>"
      ]
     },
     "metadata": {},
     "output_type": "display_data"
    }
   ],
   "source": [
    "df_cm = pd.DataFrame(osvm_cm,\n",
    "                  ['True Normal','True Fraud'],['Pred Normal','Pred Fraud'])\n",
    "pyplot.figure(figsize = (8,4))\n",
    "sn.set(font_scale=1.4)#for label size\n",
    "sn.heatmap(df_cm, annot=True,annot_kws={\"size\": 16},fmt='g')# font size"
   ]
  },
  {
   "cell_type": "markdown",
   "metadata": {
    "_cell_guid": "8592907e-159c-40f6-ae3a-5fab20197f1e",
    "_uuid": "92f451da96f40d2cdefa2dced4180a2b943419f3"
   },
   "source": [
    "## Conclusion"
   ]
  },
  {
   "cell_type": "code",
   "execution_count": 62,
   "metadata": {
    "_cell_guid": "ee586a57-c98c-4e0c-8df8-85f26b79907a",
    "_uuid": "2b5994f5fa3cdc998bd19542d732b18a5c4e828d"
   },
   "outputs": [],
   "source": [
    "## Performance Plot\n",
    "train_times={\n",
    "    'Isolation Forest': 4.38,\n",
    "    'KMeans':20.9,\n",
    "    'LOF':2.06,\n",
    "    'OneClass SVM': 21.4\n",
    "}\n",
    "\n",
    "prediction_times={\n",
    "    'Isolation Forest':34.2,\n",
    "    'KMeans':0.052,\n",
    "    'LOF':0.00368,\n",
    "    'OneClass SVM': 71\n",
    "}"
   ]
  },
  {
   "cell_type": "code",
   "execution_count": 63,
   "metadata": {
    "_cell_guid": "65158c38-6342-4828-a05e-29fdb378fb68",
    "_uuid": "2ea87a8da5045bc2265211927c128cc764a69095"
   },
   "outputs": [
    {
     "data": {
      "text/plain": [
       "Text(0.5, 0, 'Time in seconds')"
      ]
     },
     "execution_count": 63,
     "metadata": {},
     "output_type": "execute_result"
    },
    {
     "data": {
      "image/png": "[encoded data removed]",
      "text/plain": [
       "<Figure size 432x288 with 1 Axes>"
      ]
     },
     "metadata": {},
     "output_type": "display_data"
    }
   ],
   "source": [
    "pyplot.title('Training Time')\n",
    "pyplot.barh(range(len(train_times)), list(train_times.values()), align='center')\n",
    "pyplot.yticks(range(len(train_times)), list(train_times.keys()))\n",
    "pyplot.xlabel('Time in seconds')"
   ]
  },
  {
   "cell_type": "markdown",
   "metadata": {
    "_cell_guid": "a2e4f221-ce16-4d2f-bd4d-8521303e73ae",
    "_uuid": "c758c3b641832da5e85b805d0fef6ebb6e736eda"
   },
   "source": [
    "Isolation forest has the 2nd fastest training time. This is very impressive considering that our model is actually an ensemble of 5 Isolation forest models."
   ]
  },
  {
   "cell_type": "code",
   "execution_count": 64,
   "metadata": {
    "_cell_guid": "a9fc853c-d56d-4746-8d71-ecfca65880eb",
    "_uuid": "370da815b6ed9cba2c527d4c1a0ef124025b9426"
   },
   "outputs": [
    {
     "data": {
      "text/plain": [
       "Text(0.5, 0, 'Time in seconds')"
      ]
     },
     "execution_count": 64,
     "metadata": {},
     "output_type": "execute_result"
    },
    {
     "data": {
      "image/png": "[encoded data removed]",
      "text/plain": [
       "<Figure size 432x288 with 1 Axes>"
      ]
     },
     "metadata": {},
     "output_type": "display_data"
    }
   ],
   "source": [
    "pyplot.title('Prediction Time')\n",
    "pyplot.barh(range(len(prediction_times)), list(prediction_times.values()), align='center')\n",
    "pyplot.yticks(range(len(prediction_times)), list(prediction_times.keys()))\n",
    "pyplot.xlabel('Time in seconds')"
   ]
  },
  {
   "cell_type": "markdown",
   "metadata": {
    "_cell_guid": "0594b209-5341-4ead-be61-9ba014aa84ce",
    "_uuid": "327641d627f10bb4ab6d240b0178746cf0f5ed9b"
   },
   "source": [
    "The algorithm doesn't fare so well but this might be due to the over head of the ensemble structure."
   ]
  },
  {
   "cell_type": "code",
   "execution_count": 65,
   "metadata": {
    "_cell_guid": "58090efc-4b63-4df2-836d-cf59ca475375",
    "_uuid": "46b103dc23e928f9532bb26acda81c7c16b2e324"
   },
   "outputs": [],
   "source": [
    "## Performance Plot\n",
    "auc_scores={\n",
    "    'Isolation Forest': roc_auc_score(y_test, if_y_pred_class),\n",
    "    'KMeans':roc_auc_score(y_test, km_y_pred),\n",
    "    'LOF':roc_auc_score(y_test, lof_y_pred_class),\n",
    "    'OneClass SVM': roc_auc_score(y_test, osvm_y_pred_class)\n",
    "}\n",
    "\n",
    "f1_scores={\n",
    "    'Isolation Forest':f1_score(y_test, if_y_pred_class),\n",
    "    'KMeans':f1_score(y_test, km_y_pred),\n",
    "    'LOF':f1_score(y_test, lof_y_pred_class),\n",
    "    'OneClass SVM': f1_score(y_test, osvm_y_pred_class)\n",
    "}"
   ]
  },
  {
   "cell_type": "code",
   "execution_count": 66,
   "metadata": {
    "_cell_guid": "23a9f9e1-368a-47ec-a42e-83483696232a",
    "_uuid": "9f426ca6b64a2e8f116dfed1f9585a10317b8abe"
   },
   "outputs": [
    {
     "data": {
      "text/plain": [
       "Text(0.5, 0, 'AUC Score')"
      ]
     },
     "execution_count": 66,
     "metadata": {},
     "output_type": "execute_result"
    },
    {
     "data": {
      "image/png": "[encoded data removed]",
      "text/plain": [
       "<Figure size 432x288 with 1 Axes>"
      ]
     },
     "metadata": {},
     "output_type": "display_data"
    }
   ],
   "source": [
    "pyplot.title('AUC Scores')\n",
    "pyplot.barh(range(len(auc_scores)), list(auc_scores.values()), align='center')\n",
    "pyplot.yticks(range(len(auc_scores)), list(auc_scores.keys()))\n",
    "pyplot.xlabel('AUC Score')"
   ]
  },
  {
   "cell_type": "code",
   "execution_count": 67,
   "metadata": {
    "_cell_guid": "4911c797-730c-4379-800e-2766d054b9fc",
    "_uuid": "63156179c7b9e5a692d86d47b3894a6ad68166f4"
   },
   "outputs": [
    {
     "data": {
      "text/plain": [
       "Text(0.5, 0, 'F1 Score')"
      ]
     },
     "execution_count": 67,
     "metadata": {},
     "output_type": "execute_result"
    },
    {
     "data": {
      "image/png": "[encoded data removed]",
      "text/plain": [
       "<Figure size 432x288 with 1 Axes>"
      ]
     },
     "metadata": {},
     "output_type": "display_data"
    }
   ],
   "source": [
    "pyplot.title('F1 Scores')\n",
    "pyplot.barh(range(len(f1_scores)), list(f1_scores.values()), align='center')\n",
    "pyplot.yticks(range(len(f1_scores)), list(f1_scores.keys()))\n",
    "pyplot.xlabel('F1 Score')"
   ]
  },
  {
   "cell_type": "markdown",
   "metadata": {
    "_cell_guid": "0bd16ffd-6ef4-49c0-bc02-70e21f8828f3",
    "_uuid": "5a5c3cf6caf8dbc7dc0ce2e2942908123edb5de6"
   },
   "source": [
    "Coming to model performance, our isolation forest ensemble model is a clear winner!"
   ]
  }
 ],
 "metadata": {
  "kernelspec": {
   "display_name": "Python 3",
   "language": "python",
   "name": "python3"
  },
  "language_info": {
   "codemirror_mode": {
    "name": "ipython",
    "version": 3
   },
   "file_extension": ".py",
   "mimetype": "text/x-python",
   "name": "python",
   "nbconvert_exporter": "python",
   "pygments_lexer": "ipython3",
   "version": "3.7.1"
  }
 },
 "nbformat": 4,
 "nbformat_minor": 4
}
