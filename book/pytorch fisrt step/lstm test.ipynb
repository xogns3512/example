{
 "cells": [
  {
   "cell_type": "code",
   "execution_count": 1,
   "id": "019e5a98",
   "metadata": {
    "ExecuteTime": {
     "end_time": "2022-02-20T08:21:53.236855Z",
     "start_time": "2022-02-20T08:21:51.974555Z"
    }
   },
   "outputs": [],
   "source": [
    "# Simple Character LSTM\n",
    "# Char RNN에서 설명한 부분은 생략했습니다.\n",
    "\n",
    "import torch \n",
    "import torch.nn as nn\n",
    "import torch.optim as optim\n",
    "import numpy as np"
   ]
  },
  {
   "cell_type": "code",
   "execution_count": 2,
   "id": "b63cd534",
   "metadata": {
    "ExecuteTime": {
     "end_time": "2022-02-20T08:21:53.251765Z",
     "start_time": "2022-02-20T08:21:53.238797Z"
    }
   },
   "outputs": [
    {
     "data": {
      "text/plain": [
       "35"
      ]
     },
     "execution_count": 2,
     "metadata": {},
     "output_type": "execute_result"
    }
   ],
   "source": [
    "# Preprocessing string data\n",
    "# alphabet(0-25), space(26),..., start, end \n",
    "\n",
    "string = \"hello pytorch. how long can a rnn cell remember? show me your limit!\"\n",
    "chars = \"abcdefghijklmnopqrstuvwxyz ?!.,:;01\"\n",
    "char_list = [i for i in chars]\n",
    "char_len = len(char_list)\n",
    "\n",
    "char_len"
   ]
  },
  {
   "cell_type": "code",
   "execution_count": 3,
   "id": "3881a963",
   "metadata": {
    "ExecuteTime": {
     "end_time": "2022-02-20T08:21:53.266617Z",
     "start_time": "2022-02-20T08:21:53.253607Z"
    }
   },
   "outputs": [],
   "source": [
    "# String to onehot vector\n",
    "# a -> [1 0 0 ... 0 0]\n",
    "\n",
    "def string_to_onehot(string):\n",
    "    start = np.zeros(shape=char_len ,dtype=int)\n",
    "    end = np.zeros(shape=char_len ,dtype=int)\n",
    "    start[-2] = 1\n",
    "    end[-1] = 1\n",
    "    for i in string:\n",
    "        idx = char_list.index(i)\n",
    "        zero = np.zeros(shape=char_len ,dtype=int)\n",
    "        zero[idx]=1\n",
    "        start = np.vstack([start,zero])\n",
    "    output = np.vstack([start,end])\n",
    "    return output"
   ]
  },
  {
   "cell_type": "code",
   "execution_count": 4,
   "id": "f37ed6a8",
   "metadata": {
    "ExecuteTime": {
     "end_time": "2022-02-20T08:21:53.281645Z",
     "start_time": "2022-02-20T08:21:53.267611Z"
    }
   },
   "outputs": [],
   "source": [
    "# Onehot vector to word\n",
    "# [1 0 0 ... 0 0] -> a \n",
    "\n",
    "def onehot_to_word(onehot_1):\n",
    "    onehot = torch.Tensor.numpy(onehot_1)\n",
    "    return char_list[onehot.argmax()]"
   ]
  },
  {
   "cell_type": "code",
   "execution_count": 5,
   "id": "d985c672",
   "metadata": {
    "ExecuteTime": {
     "end_time": "2022-02-20T08:21:53.311555Z",
     "start_time": "2022-02-20T08:21:53.288583Z"
    }
   },
   "outputs": [
    {
     "name": "stdout",
     "output_type": "stream",
     "text": [
      "torch.Size([70, 35])\n"
     ]
    }
   ],
   "source": [
    "# 하이퍼파라미터 설정\n",
    "# 문자열을 단어 하나씩 잘러서 사용하는걸로 구현해서 batch_size 1로 고정입니다.\n",
    "# batch_size가 1보다 큰 경우는 다음 실습코드에 있습니다.\n",
    "batch_size = 1\n",
    "\n",
    "# seq_len는 바꿔도 학습은 되지만 테스트시 편의성을 위해 1로 설정했습니다.\n",
    "seq_len = 1\n",
    "\n",
    "# num_layers는 입력 형식에만 맞게 형태를 바꿔주면 됩니다.\n",
    "num_layers = 3\n",
    "input_size = char_len\n",
    "hidden_size = 35 \n",
    "lr = 0.01\n",
    "num_epochs = 1000\n",
    "\n",
    "one_hot = torch.from_numpy(string_to_onehot(string)).type_as(torch.FloatTensor())\n",
    "\n",
    "print(one_hot.size())"
   ]
  },
  {
   "cell_type": "code",
   "execution_count": 10,
   "id": "3ad66a1c",
   "metadata": {
    "ExecuteTime": {
     "end_time": "2022-02-20T08:22:30.451092Z",
     "start_time": "2022-02-20T08:22:30.439124Z"
    }
   },
   "outputs": [],
   "source": [
    "# RNN with 1 hidden layer\n",
    "\n",
    "class RNN(nn.Module):\n",
    "    def __init__(self, input_size, hidden_size,num_layers):\n",
    "        super(RNN, self).__init__()\n",
    "        self.input_size = input_size\n",
    "        self.hidden_size = hidden_size\n",
    "        self.num_layers = num_layers\n",
    "        self.lstm = nn.LSTM(input_size,hidden_size,num_layers)\n",
    "        \n",
    "    def forward(self,input_,hidden,cell):\n",
    "        output,(hidden,cell) = self.lstm(input_,(hidden,cell))\n",
    "        return output,hidden,cell\n",
    "    \n",
    "    def init_hidden_cell(self):\n",
    "        hidden = torch.zeros(num_layers,batch_size,hidden_size)\n",
    "        cell = torch.zeros(num_layers,batch_size,hidden_size)\n",
    "        return hidden,cell\n",
    "    \n",
    "rnn = RNN(input_size,hidden_size, num_layers)"
   ]
  },
  {
   "cell_type": "code",
   "execution_count": 11,
   "id": "9d8cc1e3",
   "metadata": {
    "ExecuteTime": {
     "end_time": "2022-02-20T08:22:30.695570Z",
     "start_time": "2022-02-20T08:22:30.678553Z"
    }
   },
   "outputs": [],
   "source": [
    "# Loss function & Optimizer\n",
    "\n",
    "loss_func = nn.MSELoss()\n",
    "optimizer = torch.optim.Adam(rnn.parameters(), lr=lr)"
   ]
  },
  {
   "cell_type": "code",
   "execution_count": 12,
   "id": "a3f94a7e",
   "metadata": {
    "ExecuteTime": {
     "end_time": "2022-02-20T08:22:30.922653Z",
     "start_time": "2022-02-20T08:22:30.902706Z"
    }
   },
   "outputs": [
    {
     "name": "stdout",
     "output_type": "stream",
     "text": [
      "torch.Size([1, 1, 35])\n",
      "torch.Size([3, 1, 35]) torch.Size([3, 1, 35])\n",
      "torch.Size([1, 1, 35]) torch.Size([3, 1, 35]) torch.Size([3, 1, 35])\n"
     ]
    }
   ],
   "source": [
    "j=0\n",
    "input_data = one_hot[j:j+seq_len].view(seq_len, batch_size, input_size)\n",
    "print(input_data.size())\n",
    "\n",
    "hidden,cell = rnn.init_hidden_cell()\n",
    "print(hidden.size(),cell.size())\n",
    "\n",
    "output, hidden,cell = rnn(input_data,hidden,cell)\n",
    "print(output.size(),hidden.size(),cell.size())"
   ]
  },
  {
   "cell_type": "code",
   "execution_count": 13,
   "id": "ea4403ad",
   "metadata": {
    "ExecuteTime": {
     "end_time": "2022-02-20T08:24:01.479214Z",
     "start_time": "2022-02-20T08:22:32.311222Z"
    },
    "scrolled": true
   },
   "outputs": [
    {
     "name": "stdout",
     "output_type": "stream",
     "text": [
      "tensor(2.4501, grad_fn=<AddBackward0>)\n",
      "tensor(1.8204, grad_fn=<AddBackward0>)\n",
      "tensor(1.7699, grad_fn=<AddBackward0>)\n",
      "tensor(1.6191, grad_fn=<AddBackward0>)\n",
      "tensor(1.3797, grad_fn=<AddBackward0>)\n",
      "tensor(1.1901, grad_fn=<AddBackward0>)\n",
      "tensor(0.7511, grad_fn=<AddBackward0>)\n",
      "tensor(0.3722, grad_fn=<AddBackward0>)\n",
      "tensor(0.1707, grad_fn=<AddBackward0>)\n",
      "tensor(0.0900, grad_fn=<AddBackward0>)\n",
      "tensor(0.0557, grad_fn=<AddBackward0>)\n",
      "tensor(0.0385, grad_fn=<AddBackward0>)\n",
      "tensor(0.0294, grad_fn=<AddBackward0>)\n",
      "tensor(0.0247, grad_fn=<AddBackward0>)\n",
      "tensor(0.0192, grad_fn=<AddBackward0>)\n",
      "tensor(0.0157, grad_fn=<AddBackward0>)\n",
      "tensor(0.0132, grad_fn=<AddBackward0>)\n",
      "tensor(0.0117, grad_fn=<AddBackward0>)\n",
      "tensor(0.0106, grad_fn=<AddBackward0>)\n",
      "tensor(0.0097, grad_fn=<AddBackward0>)\n",
      "tensor(0.0086, grad_fn=<AddBackward0>)\n",
      "tensor(0.0078, grad_fn=<AddBackward0>)\n",
      "tensor(0.0106, grad_fn=<AddBackward0>)\n",
      "tensor(0.0082, grad_fn=<AddBackward0>)\n",
      "tensor(0.0075, grad_fn=<AddBackward0>)\n",
      "tensor(0.0067, grad_fn=<AddBackward0>)\n",
      "tensor(0.0063, grad_fn=<AddBackward0>)\n",
      "tensor(0.0060, grad_fn=<AddBackward0>)\n",
      "tensor(0.0058, grad_fn=<AddBackward0>)\n",
      "tensor(0.0056, grad_fn=<AddBackward0>)\n",
      "tensor(0.0055, grad_fn=<AddBackward0>)\n",
      "tensor(0.0053, grad_fn=<AddBackward0>)\n",
      "tensor(0.0052, grad_fn=<AddBackward0>)\n",
      "tensor(0.0051, grad_fn=<AddBackward0>)\n",
      "tensor(0.0050, grad_fn=<AddBackward0>)\n",
      "tensor(0.0051, grad_fn=<AddBackward0>)\n",
      "tensor(0.0053, grad_fn=<AddBackward0>)\n",
      "tensor(0.0049, grad_fn=<AddBackward0>)\n",
      "tensor(0.0048, grad_fn=<AddBackward0>)\n",
      "tensor(0.0047, grad_fn=<AddBackward0>)\n",
      "tensor(0.0046, grad_fn=<AddBackward0>)\n",
      "tensor(0.0045, grad_fn=<AddBackward0>)\n",
      "tensor(0.0045, grad_fn=<AddBackward0>)\n",
      "tensor(0.0044, grad_fn=<AddBackward0>)\n",
      "tensor(0.0044, grad_fn=<AddBackward0>)\n",
      "tensor(0.0043, grad_fn=<AddBackward0>)\n",
      "tensor(0.0043, grad_fn=<AddBackward0>)\n",
      "tensor(0.0043, grad_fn=<AddBackward0>)\n",
      "tensor(0.0042, grad_fn=<AddBackward0>)\n",
      "tensor(0.0042, grad_fn=<AddBackward0>)\n",
      "tensor(0.0042, grad_fn=<AddBackward0>)\n",
      "tensor(0.0051, grad_fn=<AddBackward0>)\n",
      "tensor(0.0043, grad_fn=<AddBackward0>)\n",
      "tensor(0.0041, grad_fn=<AddBackward0>)\n",
      "tensor(0.0041, grad_fn=<AddBackward0>)\n",
      "tensor(0.0040, grad_fn=<AddBackward0>)\n",
      "tensor(0.0040, grad_fn=<AddBackward0>)\n",
      "tensor(0.0040, grad_fn=<AddBackward0>)\n",
      "tensor(0.0039, grad_fn=<AddBackward0>)\n",
      "tensor(0.0039, grad_fn=<AddBackward0>)\n",
      "tensor(0.0047, grad_fn=<AddBackward0>)\n",
      "tensor(0.0040, grad_fn=<AddBackward0>)\n",
      "tensor(0.0038, grad_fn=<AddBackward0>)\n",
      "tensor(0.0032, grad_fn=<AddBackward0>)\n",
      "tensor(0.0027, grad_fn=<AddBackward0>)\n",
      "tensor(0.0027, grad_fn=<AddBackward0>)\n",
      "tensor(0.0028, grad_fn=<AddBackward0>)\n",
      "tensor(0.0026, grad_fn=<AddBackward0>)\n",
      "tensor(0.0025, grad_fn=<AddBackward0>)\n",
      "tensor(0.0024, grad_fn=<AddBackward0>)\n",
      "tensor(0.0024, grad_fn=<AddBackward0>)\n",
      "tensor(0.0024, grad_fn=<AddBackward0>)\n",
      "tensor(0.0023, grad_fn=<AddBackward0>)\n",
      "tensor(0.0023, grad_fn=<AddBackward0>)\n",
      "tensor(0.0023, grad_fn=<AddBackward0>)\n",
      "tensor(0.0023, grad_fn=<AddBackward0>)\n",
      "tensor(0.0023, grad_fn=<AddBackward0>)\n",
      "tensor(0.0023, grad_fn=<AddBackward0>)\n",
      "tensor(0.0022, grad_fn=<AddBackward0>)\n",
      "tensor(0.0022, grad_fn=<AddBackward0>)\n",
      "tensor(0.0022, grad_fn=<AddBackward0>)\n",
      "tensor(0.0022, grad_fn=<AddBackward0>)\n",
      "tensor(0.0028, grad_fn=<AddBackward0>)\n",
      "tensor(0.0023, grad_fn=<AddBackward0>)\n",
      "tensor(0.0022, grad_fn=<AddBackward0>)\n",
      "tensor(0.0022, grad_fn=<AddBackward0>)\n",
      "tensor(0.0022, grad_fn=<AddBackward0>)\n",
      "tensor(0.0022, grad_fn=<AddBackward0>)\n",
      "tensor(0.0022, grad_fn=<AddBackward0>)\n",
      "tensor(0.0021, grad_fn=<AddBackward0>)\n",
      "tensor(0.0021, grad_fn=<AddBackward0>)\n",
      "tensor(0.0021, grad_fn=<AddBackward0>)\n",
      "tensor(0.0021, grad_fn=<AddBackward0>)\n",
      "tensor(0.0021, grad_fn=<AddBackward0>)\n",
      "tensor(0.0021, grad_fn=<AddBackward0>)\n",
      "tensor(0.0021, grad_fn=<AddBackward0>)\n",
      "tensor(0.0021, grad_fn=<AddBackward0>)\n",
      "tensor(0.0021, grad_fn=<AddBackward0>)\n",
      "tensor(0.0021, grad_fn=<AddBackward0>)\n",
      "tensor(0.0021, grad_fn=<AddBackward0>)\n"
     ]
    }
   ],
   "source": [
    "unroll_len = one_hot.size()[0]//seq_len -1\n",
    "for i in range(num_epochs):\n",
    "    hidden,cell = rnn.init_hidden_cell()\n",
    "    \n",
    "    loss = 0\n",
    "    for j in range(unroll_len):\n",
    "        input_data = one_hot[j:j+seq_len].view(seq_len,batch_size,input_size) \n",
    "        label = one_hot[j+1:j+seq_len+1].view(seq_len,batch_size,input_size)\n",
    "        \n",
    "        optimizer.zero_grad()\n",
    "        \n",
    "        output, hidden, cell = rnn(input_data,hidden,cell)\n",
    "        loss += loss_func(output.view(1,-1),label.view(1,-1))\n",
    "        \n",
    "    loss.backward()\n",
    "    optimizer.step()\n",
    "\n",
    "    if i%10 ==0:\n",
    "        print(loss)"
   ]
  },
  {
   "cell_type": "code",
   "execution_count": 42,
   "id": "c86d69e0",
   "metadata": {
    "ExecuteTime": {
     "end_time": "2022-02-20T08:30:21.404669Z",
     "start_time": "2022-02-20T08:30:21.366731Z"
    }
   },
   "outputs": [
    {
     "name": "stdout",
     "output_type": "stream",
     "text": [
      "hello pytorch. how long can a rnn cell remember? show me your limit!"
     ]
    }
   ],
   "source": [
    "hidden,cell = rnn.init_hidden_cell()\n",
    "\n",
    "for j in range(unroll_len-1):\n",
    "    input_data = one_hot[j:j+1].view(1,batch_size,hidden_size) \n",
    "    \n",
    "    output, hidden, cell = rnn(input_data,hidden,cell)\n",
    "    print(onehot_to_word(output.data),end=\"\") "
   ]
  },
  {
   "cell_type": "code",
   "execution_count": 40,
   "id": "4da3ada5",
   "metadata": {
    "ExecuteTime": {
     "end_time": "2022-02-20T08:30:19.281695Z",
     "start_time": "2022-02-20T08:30:19.269723Z"
    }
   },
   "outputs": [],
   "source": [
    "start = torch.zeros(1,len(char_list))\n",
    "start[:,-2]=1"
   ]
  },
  {
   "cell_type": "code",
   "execution_count": 50,
   "id": "92ed4065",
   "metadata": {
    "ExecuteTime": {
     "end_time": "2022-02-20T08:32:15.051875Z",
     "start_time": "2022-02-20T08:32:15.016301Z"
    },
    "scrolled": true
   },
   "outputs": [
    {
     "name": "stdout",
     "output_type": "stream",
     "text": [
      "hello pytorch. how long can a rnn cell remember? show me your limit!\n"
     ]
    }
   ],
   "source": [
    "with torch.no_grad():\n",
    "    hidden,cell = rnn.init_hidden_cell()\n",
    "    output_string = \"\"\n",
    "    for i in range(len(string)):\n",
    "        \n",
    "        input_data = one_hot[i:i+1].view(1,batch_size,hidden_size)\n",
    "        output, hidden, cell = rnn(input_data,hidden,cell)\n",
    "        output_string += onehot_to_word(output.data)\n",
    "        input_ = output\n",
    "    print(output_string)"
   ]
  },
  {
   "cell_type": "code",
   "execution_count": null,
   "id": "906be60b",
   "metadata": {},
   "outputs": [],
   "source": []
  }
 ],
 "metadata": {
  "kernelspec": {
   "display_name": "pytorch",
   "language": "python",
   "name": "pytorch"
  },
  "language_info": {
   "codemirror_mode": {
    "name": "ipython",
    "version": 3
   },
   "file_extension": ".py",
   "mimetype": "text/x-python",
   "name": "python",
   "nbconvert_exporter": "python",
   "pygments_lexer": "ipython3",
   "version": "3.7.11"
  },
  "toc": {
   "base_numbering": 1,
   "nav_menu": {},
   "number_sections": true,
   "sideBar": true,
   "skip_h1_title": false,
   "title_cell": "Table of Contents",
   "title_sidebar": "Contents",
   "toc_cell": false,
   "toc_position": {},
   "toc_section_display": true,
   "toc_window_display": false
  }
 },
 "nbformat": 4,
 "nbformat_minor": 5
}
