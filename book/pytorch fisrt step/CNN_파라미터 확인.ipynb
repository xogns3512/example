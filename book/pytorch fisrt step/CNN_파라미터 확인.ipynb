{
 "cells": [
  {
   "cell_type": "markdown",
   "id": "3d163136",
   "metadata": {},
   "source": [
    "# Convolutional Neural Network\n",
    "- 컨볼루션 연산의 다양한 인자들을 바꿔보며 결과가 어떻게 달라지는지 알아보는 노트북입니다.\n",
    "- https://pytorch.org/docs/stable/nn.html?highlight=conv2d#torch.nn.Conv2d\n",
    "\n",
    "\n",
    "    - in_channels: 입력의 채널 수\n",
    "    - out_channels: 출력의 채널 수\n",
    "    - kernel_size: 필터 혹은 커널의 크기\n",
    "    - stride: 필터 적용의 간격 (stride: 걸음걸이)\n",
    "    - padding: 입력 데이터를 추가적으로 둘러싸는 층의 두께\n",
    "    - dilation: 책에서 다루지 않고 넘어간 내용이라 링크로 대체합니다. (https://laonple.blog.me/220991967450)\n",
    "    - groups: 입력을 채널 단위로 몇개의 분리된 그룹으로 볼 것인가\n",
    "    - bias: 편차의 사용여부\n",
    "    - padding_mode: 패딩 적용 방식 (ex. zero padding은 0으로 채우는 경우)"
   ]
  },
  {
   "cell_type": "code",
   "execution_count": 1,
   "id": "2fb4d30b",
   "metadata": {
    "ExecuteTime": {
     "end_time": "2022-02-19T01:10:31.326877Z",
     "start_time": "2022-02-19T01:10:25.276542Z"
    }
   },
   "outputs": [],
   "source": [
    "import torch\n",
    "import torch.nn as nn\n",
    "import torchvision.datasets as dset\n",
    "import torchvision.transforms as transforms\n",
    "from torch.utils.data import DataLoader\n",
    "import matplotlib.pyplot as plt"
   ]
  },
  {
   "cell_type": "code",
   "execution_count": 2,
   "id": "52f3ab5c",
   "metadata": {
    "ExecuteTime": {
     "end_time": "2022-02-19T01:10:38.516930Z",
     "start_time": "2022-02-19T01:10:35.306757Z"
    }
   },
   "outputs": [
    {
     "name": "stdout",
     "output_type": "stream",
     "text": [
      "Downloading http://yann.lecun.com/exdb/mnist/train-images-idx3-ubyte.gz\n",
      "Downloading http://yann.lecun.com/exdb/mnist/train-images-idx3-ubyte.gz to ../MNIST\\raw\\train-images-idx3-ubyte.gz\n"
     ]
    },
    {
     "data": {
      "application/vnd.jupyter.widget-view+json": {
       "model_id": "fdb0f65f688b4ece90b6f6a09e059008",
       "version_major": 2,
       "version_minor": 0
      },
      "text/plain": [
       "  0%|          | 0/9912422 [00:00<?, ?it/s]"
      ]
     },
     "metadata": {},
     "output_type": "display_data"
    },
    {
     "name": "stdout",
     "output_type": "stream",
     "text": [
      "Extracting ../MNIST\\raw\\train-images-idx3-ubyte.gz to ../MNIST\\raw\n",
      "\n",
      "Downloading http://yann.lecun.com/exdb/mnist/train-labels-idx1-ubyte.gz\n",
      "Downloading http://yann.lecun.com/exdb/mnist/train-labels-idx1-ubyte.gz to ../MNIST\\raw\\train-labels-idx1-ubyte.gz\n"
     ]
    },
    {
     "data": {
      "application/vnd.jupyter.widget-view+json": {
       "model_id": "477ca4f3d53d464eab179eaf5d38717d",
       "version_major": 2,
       "version_minor": 0
      },
      "text/plain": [
       "  0%|          | 0/28881 [00:00<?, ?it/s]"
      ]
     },
     "metadata": {},
     "output_type": "display_data"
    },
    {
     "name": "stdout",
     "output_type": "stream",
     "text": [
      "Extracting ../MNIST\\raw\\train-labels-idx1-ubyte.gz to ../MNIST\\raw\n",
      "\n",
      "Downloading http://yann.lecun.com/exdb/mnist/t10k-images-idx3-ubyte.gz\n",
      "Downloading http://yann.lecun.com/exdb/mnist/t10k-images-idx3-ubyte.gz to ../MNIST\\raw\\t10k-images-idx3-ubyte.gz\n"
     ]
    },
    {
     "data": {
      "application/vnd.jupyter.widget-view+json": {
       "model_id": "1a6e81dc70aa4ab5aab4fb7d24d8b9aa",
       "version_major": 2,
       "version_minor": 0
      },
      "text/plain": [
       "  0%|          | 0/1648877 [00:00<?, ?it/s]"
      ]
     },
     "metadata": {},
     "output_type": "display_data"
    },
    {
     "name": "stdout",
     "output_type": "stream",
     "text": [
      "Extracting ../MNIST\\raw\\t10k-images-idx3-ubyte.gz to ../MNIST\\raw\n",
      "\n",
      "Downloading http://yann.lecun.com/exdb/mnist/t10k-labels-idx1-ubyte.gz\n",
      "Downloading http://yann.lecun.com/exdb/mnist/t10k-labels-idx1-ubyte.gz to ../MNIST\\raw\\t10k-labels-idx1-ubyte.gz\n"
     ]
    },
    {
     "data": {
      "application/vnd.jupyter.widget-view+json": {
       "model_id": "826b0f920f1341ef9870c39b054c3ef3",
       "version_major": 2,
       "version_minor": 0
      },
      "text/plain": [
       "  0%|          | 0/4542 [00:00<?, ?it/s]"
      ]
     },
     "metadata": {},
     "output_type": "display_data"
    },
    {
     "name": "stdout",
     "output_type": "stream",
     "text": [
      "Extracting ../MNIST\\raw\\t10k-labels-idx1-ubyte.gz to ../MNIST\\raw\n",
      "\n"
     ]
    }
   ],
   "source": [
    "mnist_train = dset.MNIST(\"../\", train=True, transform=transforms.ToTensor(), target_transform=None, download=True)"
   ]
  },
  {
   "cell_type": "code",
   "execution_count": 3,
   "id": "95787449",
   "metadata": {
    "ExecuteTime": {
     "end_time": "2022-02-19T01:11:27.996658Z",
     "start_time": "2022-02-19T01:11:27.977740Z"
    }
   },
   "outputs": [
    {
     "name": "stdout",
     "output_type": "stream",
     "text": [
      "Dataset MNIST\n",
      "    Number of datapoints: 60000\n",
      "    Root location: ../\n",
      "    Split: Train\n",
      "    StandardTransform\n",
      "Transform: ToTensor()\n",
      "torch.Size([1, 28, 28]) 5\n",
      "torch.Size([1, 28, 28]) 5\n"
     ]
    }
   ],
   "source": [
    "print(mnist_train)\n",
    "\n",
    "# dataset.__getitem__(idx)\n",
    "image,label = mnist_train.__getitem__(0)\n",
    "print(image.size(),label)\n",
    "\n",
    "# dataset[idx]\n",
    "image,label = mnist_train[0]\n",
    "print(image.size(),label)"
   ]
  },
  {
   "cell_type": "code",
   "execution_count": 5,
   "id": "ccca9861",
   "metadata": {
    "ExecuteTime": {
     "end_time": "2022-02-19T01:11:58.869532Z",
     "start_time": "2022-02-19T01:11:58.857480Z"
    }
   },
   "outputs": [
    {
     "name": "stdout",
     "output_type": "stream",
     "text": [
      "60000\n"
     ]
    },
    {
     "data": {
      "text/plain": [
       "60000"
      ]
     },
     "execution_count": 5,
     "metadata": {},
     "output_type": "execute_result"
    }
   ],
   "source": [
    "# dataset.__len__()\n",
    "print(mnist_train.__len__())\n",
    "\n",
    "# len(dataset)\n",
    "len(mnist_train)"
   ]
  },
  {
   "cell_type": "code",
   "execution_count": 6,
   "id": "5905a539",
   "metadata": {
    "ExecuteTime": {
     "end_time": "2022-02-19T01:12:04.845487Z",
     "start_time": "2022-02-19T01:12:04.512582Z"
    }
   },
   "outputs": [
    {
     "data": {
      "image/png": "[encoded data removed]",
      "text/plain": [
       "<Figure size 432x288 with 1 Axes>"
      ]
     },
     "metadata": {
      "needs_background": "light"
     },
     "output_type": "display_data"
    },
    {
     "data": {
      "image/png": "[encoded data removed]",
      "text/plain": [
       "<Figure size 432x288 with 1 Axes>"
      ]
     },
     "metadata": {
      "needs_background": "light"
     },
     "output_type": "display_data"
    },
    {
     "data": {
      "image/png": "[encoded data removed]",
      "text/plain": [
       "<Figure size 432x288 with 1 Axes>"
      ]
     },
     "metadata": {
      "needs_background": "light"
     },
     "output_type": "display_data"
    }
   ],
   "source": [
    "for i in range(3):\n",
    "    img= mnist_train[i][0].numpy()\n",
    "    plt.imshow(img[0],cmap='gray')\n",
    "    plt.show()"
   ]
  },
  {
   "cell_type": "markdown",
   "id": "4b6a4531",
   "metadata": {},
   "source": [
    "## 3. Convolution Layer\n",
    "    - torch.nn.Conv2d(in_channels, out_channels, kernel_size, stride=1, padding=0, dilation=1, groups=1, bias=True, padding_mode='zeros')\n",
    "    - Channels\n",
    "    - Kernel size\n",
    "    - Stride\n",
    "    - Padding\n",
    "    - 파이토치 텐서 사이즈는 다음과 같은 형태를 가지고 있습니다 -> [Batch,Channel,Height,Width]\n",
    "## Channels\n",
    "    - 채널을 바꾸면 어떻게 될까?"
   ]
  },
  {
   "cell_type": "code",
   "execution_count": 9,
   "id": "2b66bcf1",
   "metadata": {
    "ExecuteTime": {
     "end_time": "2022-02-19T01:13:34.237360Z",
     "start_time": "2022-02-19T01:13:33.969235Z"
    }
   },
   "outputs": [
    {
     "name": "stdout",
     "output_type": "stream",
     "text": [
      "torch.Size([1, 3, 28, 28])\n"
     ]
    },
    {
     "data": {
      "image/png": "[encoded data removed]",
      "text/plain": [
       "<Figure size 432x288 with 1 Axes>"
      ]
     },
     "metadata": {
      "needs_background": "light"
     },
     "output_type": "display_data"
    },
    {
     "data": {
      "image/png": "[encoded data removed]",
      "text/plain": [
       "<Figure size 432x288 with 1 Axes>"
      ]
     },
     "metadata": {
      "needs_background": "light"
     },
     "output_type": "display_data"
    },
    {
     "data": {
      "image/png": "[encoded data removed]",
      "text/plain": [
       "<Figure size 432x288 with 1 Axes>"
      ]
     },
     "metadata": {
      "needs_background": "light"
     },
     "output_type": "display_data"
    }
   ],
   "source": [
    "# 먼저 트레이닝 데이터의 첫번째 이미지-라벨 쌍을 불러옵니다.\n",
    "image,label = mnist_train[0]\n",
    "\n",
    "# nn.Conv2d 연산을 적용할 수 있도록 이미지 데이터의 형태를 [1,1,28,28]로 만들어줍니다.\n",
    "# 이는 view 말고도 unsqueeze 함수로도 구현할 수 있습니다.\n",
    "image = image.view(-1,image.size()[0],image.size()[1],image.size()[2])\n",
    "\n",
    "# 1개의 채널을 입력으로 받아서 3개의 채널이 나오는 컨볼루션 연산을 정의합니다.\n",
    "conv_layer = nn.Conv2d(in_channels=1,out_channels=3,kernel_size=1)\n",
    "\n",
    "# 연산에 입력 이미지를 넣습니다.\n",
    "output = conv_layer(image)\n",
    "\n",
    "# 결과의 형태를 확인합니다. \n",
    "# 연산에서 정의한대로 결과값의 형태는 [1,3,28,28]이 나옵니다. \n",
    "print(output.size())\n",
    "\n",
    "# 출력의 각 채널별 이미지를 띄워봅니다. \n",
    "for i in range(output.size()[1]):\n",
    "    plt.imshow(output[0,i,:,:].data.numpy(),cmap='gray',vmin=-1,vmax=1)\n",
    "    plt.show()"
   ]
  },
  {
   "cell_type": "markdown",
   "id": "4e3aca16",
   "metadata": {},
   "source": [
    "## Kernel Size\n",
    "- 커널 혹은 필터의 크기가 어떤 역할을 할까?"
   ]
  },
  {
   "cell_type": "code",
   "execution_count": 10,
   "id": "7efbf098",
   "metadata": {
    "ExecuteTime": {
     "end_time": "2022-02-19T01:15:04.784685Z",
     "start_time": "2022-02-19T01:15:04.399710Z"
    }
   },
   "outputs": [
    {
     "data": {
      "image/png": "[encoded data removed]",
      "text/plain": [
       "<Figure size 432x288 with 1 Axes>"
      ]
     },
     "metadata": {
      "needs_background": "light"
     },
     "output_type": "display_data"
    },
    {
     "name": "stdout",
     "output_type": "stream",
     "text": [
      "커널 사이즈가 1인 경우 결과값의 크기:torch.Size([1, 1, 28, 28])\n"
     ]
    },
    {
     "data": {
      "image/png": "[encoded data removed]",
      "text/plain": [
       "<Figure size 432x288 with 1 Axes>"
      ]
     },
     "metadata": {
      "needs_background": "light"
     },
     "output_type": "display_data"
    },
    {
     "name": "stdout",
     "output_type": "stream",
     "text": [
      "커널 사이즈가 3인 경우 결과값의 크기:torch.Size([1, 1, 26, 26])\n"
     ]
    },
    {
     "data": {
      "image/png": "[encoded data removed]",
      "text/plain": [
       "<Figure size 432x288 with 1 Axes>"
      ]
     },
     "metadata": {
      "needs_background": "light"
     },
     "output_type": "display_data"
    },
    {
     "name": "stdout",
     "output_type": "stream",
     "text": [
      "커널 사이즈가 5인 경우 결과값의 크기:torch.Size([1, 1, 24, 24])\n"
     ]
    }
   ],
   "source": [
    "# 커널 사이즈를 1로 하는 경우\n",
    "conv_layer = nn.Conv2d(in_channels=1,out_channels=1,kernel_size=1)\n",
    "output = conv_layer(image)\n",
    "plt.imshow(output[0,0,:,:].data.numpy(),cmap='gray')\n",
    "plt.show()\n",
    "print(\"커널 사이즈가 1인 경우 결과값의 크기:{}\".format(output.size()))\n",
    "\n",
    "\n",
    "# 커널 사이즈를 3로 하는 경우\n",
    "conv_layer = nn.Conv2d(in_channels=1,out_channels=1,kernel_size=3)\n",
    "output = conv_layer(image)\n",
    "plt.imshow(output[0,0,:,:].data.numpy(),cmap='gray')\n",
    "plt.show()\n",
    "print(\"커널 사이즈가 3인 경우 결과값의 크기:{}\".format(output.size()))\n",
    "\n",
    "\n",
    "# 커널 사이즈를 5로 하는 경우\n",
    "conv_layer = nn.Conv2d(in_channels=1,out_channels=1,kernel_size=5)\n",
    "output = conv_layer(image)\n",
    "plt.imshow(output[0,0,:,:].data.numpy(),cmap='gray')\n",
    "plt.show()\n",
    "print(\"커널 사이즈가 5인 경우 결과값의 크기:{}\".format(output.size()))"
   ]
  },
  {
   "cell_type": "markdown",
   "id": "1177e891",
   "metadata": {},
   "source": [
    "## Stride\n",
    "- 스트라이드를 다르게 하면 어떻게 될까?"
   ]
  },
  {
   "cell_type": "code",
   "execution_count": 11,
   "id": "ca183362",
   "metadata": {
    "ExecuteTime": {
     "end_time": "2022-02-19T01:15:28.784940Z",
     "start_time": "2022-02-19T01:15:28.505657Z"
    },
    "scrolled": false
   },
   "outputs": [
    {
     "data": {
      "image/png": "[encoded data removed]",
      "text/plain": [
       "<Figure size 432x288 with 1 Axes>"
      ]
     },
     "metadata": {
      "needs_background": "light"
     },
     "output_type": "display_data"
    },
    {
     "name": "stdout",
     "output_type": "stream",
     "text": [
      "스트라이드가 1인 경우 결과값의 크기:torch.Size([1, 1, 28, 28])\n"
     ]
    },
    {
     "data": {
      "image/png": "[encoded data removed]",
      "text/plain": [
       "<Figure size 432x288 with 1 Axes>"
      ]
     },
     "metadata": {
      "needs_background": "light"
     },
     "output_type": "display_data"
    },
    {
     "name": "stdout",
     "output_type": "stream",
     "text": [
      "스트라이드가 3인 경우 결과값의 크기:torch.Size([1, 1, 10, 10])\n"
     ]
    },
    {
     "data": {
      "image/png": "[encoded data removed]",
      "text/plain": [
       "<Figure size 432x288 with 1 Axes>"
      ]
     },
     "metadata": {
      "needs_background": "light"
     },
     "output_type": "display_data"
    },
    {
     "name": "stdout",
     "output_type": "stream",
     "text": [
      "스트라이드가 5인 경우 결과값의 크기:torch.Size([1, 1, 6, 6])\n"
     ]
    }
   ],
   "source": [
    "# 스트라이드가 1인 경우\n",
    "conv_layer = nn.Conv2d(in_channels=1,out_channels=1,kernel_size=1,stride=1)\n",
    "output = conv_layer(image)\n",
    "plt.imshow(output[0,0,:,:].data.numpy(),cmap='gray')\n",
    "plt.show()\n",
    "print(\"스트라이드가 1인 경우 결과값의 크기:{}\".format(output.size()))\n",
    "\n",
    "\n",
    "# 스트라이드가 3인 경우\n",
    "conv_layer = nn.Conv2d(in_channels=1,out_channels=1,kernel_size=1,stride=3)\n",
    "output = conv_layer(image)\n",
    "plt.imshow(output[0,0,:,:].data.numpy(),cmap='gray')\n",
    "plt.show()\n",
    "print(\"스트라이드가 3인 경우 결과값의 크기:{}\".format(output.size()))\n",
    "\n",
    "\n",
    "# 스트라이드가 5인 경우\n",
    "conv_layer = nn.Conv2d(in_channels=1,out_channels=1,kernel_size=1,stride=5)\n",
    "output = conv_layer(image)\n",
    "plt.imshow(output[0,0,:,:].data.numpy(),cmap='gray')\n",
    "plt.show()\n",
    "print(\"스트라이드가 5인 경우 결과값의 크기:{}\".format(output.size()))"
   ]
  },
  {
   "cell_type": "markdown",
   "id": "e4ef6ad3",
   "metadata": {},
   "source": [
    "## Padding\n",
    "- 패딩을 다르게 주면 어떻게 변할까?"
   ]
  },
  {
   "cell_type": "code",
   "execution_count": 14,
   "id": "963b7ed4",
   "metadata": {
    "ExecuteTime": {
     "end_time": "2022-02-19T01:15:57.722376Z",
     "start_time": "2022-02-19T01:15:57.431734Z"
    }
   },
   "outputs": [
    {
     "data": {
      "image/png": "[encoded data removed]",
      "text/plain": [
       "<Figure size 432x288 with 1 Axes>"
      ]
     },
     "metadata": {
      "needs_background": "light"
     },
     "output_type": "display_data"
    },
    {
     "name": "stdout",
     "output_type": "stream",
     "text": [
      "패딩이 0인 경우 결과값의 크기:torch.Size([1, 1, 28, 28])\n"
     ]
    },
    {
     "data": {
      "image/png": "[encoded data removed]",
      "text/plain": [
       "<Figure size 432x288 with 1 Axes>"
      ]
     },
     "metadata": {
      "needs_background": "light"
     },
     "output_type": "display_data"
    },
    {
     "name": "stdout",
     "output_type": "stream",
     "text": [
      "패딩이 1인 경우 결과값의 크기:torch.Size([1, 1, 30, 30])\n"
     ]
    },
    {
     "data": {
      "image/png": "[encoded data removed]",
      "text/plain": [
       "<Figure size 432x288 with 1 Axes>"
      ]
     },
     "metadata": {
      "needs_background": "light"
     },
     "output_type": "display_data"
    },
    {
     "name": "stdout",
     "output_type": "stream",
     "text": [
      "패딩이 2인 경우 결과값의 크기:torch.Size([1, 1, 32, 32])\n"
     ]
    }
   ],
   "source": [
    "# 패딩이 없는 경우\n",
    "conv_layer = nn.Conv2d(in_channels=1,out_channels=1,kernel_size=1,padding=0)\n",
    "output = conv_layer(image)\n",
    "plt.imshow(output[0,0,:,:].data.numpy(),cmap='gray')\n",
    "plt.show()\n",
    "print(\"패딩이 0인 경우 결과값의 크기:{}\".format(output.size()))\n",
    "\n",
    "# 패딩이 1인 경우\n",
    "conv_layer = nn.Conv2d(in_channels=1,out_channels=1,kernel_size=1,padding=1)\n",
    "output = conv_layer(image)\n",
    "plt.imshow(output[0,0,:,:].data.numpy(),cmap='gray')\n",
    "plt.show()\n",
    "print(\"패딩이 1인 경우 결과값의 크기:{}\".format(output.size()))\n",
    "\n",
    "# 패딩이 2인 경우\n",
    "conv_layer = nn.Conv2d(in_channels=1,out_channels=1,kernel_size=1,padding=2)\n",
    "output = conv_layer(image)\n",
    "plt.imshow(output[0,0,:,:].data.numpy(),cmap='gray')\n",
    "plt.show()\n",
    "print(\"패딩이 2인 경우 결과값의 크기:{}\".format(output.size()))"
   ]
  },
  {
   "cell_type": "code",
   "execution_count": null,
   "id": "1e7fd0a6",
   "metadata": {},
   "outputs": [],
   "source": []
  }
 ],
 "metadata": {
  "kernelspec": {
   "display_name": "pytorch",
   "language": "python",
   "name": "pytorch"
  },
  "language_info": {
   "codemirror_mode": {
    "name": "ipython",
    "version": 3
   },
   "file_extension": ".py",
   "mimetype": "text/x-python",
   "name": "python",
   "nbconvert_exporter": "python",
   "pygments_lexer": "ipython3",
   "version": "3.7.11"
  },
  "toc": {
   "base_numbering": 1,
   "nav_menu": {},
   "number_sections": true,
   "sideBar": true,
   "skip_h1_title": false,
   "title_cell": "Table of Contents",
   "title_sidebar": "Contents",
   "toc_cell": false,
   "toc_position": {},
   "toc_section_display": true,
   "toc_window_display": false
  }
 },
 "nbformat": 4,
 "nbformat_minor": 5
}
