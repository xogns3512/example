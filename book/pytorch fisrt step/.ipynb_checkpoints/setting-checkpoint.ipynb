{
 "cells": [
  {
   "cell_type": "code",
   "execution_count": 1,
   "id": "b98ffcc0",
   "metadata": {
    "ExecuteTime": {
     "end_time": "2022-02-17T14:08:14.535748Z",
     "start_time": "2022-02-17T14:08:10.275315Z"
    }
   },
   "outputs": [],
   "source": [
    "import torch"
   ]
  },
  {
   "cell_type": "code",
   "execution_count": 2,
   "id": "555bc51f",
   "metadata": {
    "ExecuteTime": {
     "end_time": "2022-02-17T14:08:52.852373Z",
     "start_time": "2022-02-17T14:08:52.796521Z"
    }
   },
   "outputs": [
    {
     "data": {
      "text/plain": [
       "'NVIDIA GeForce GTX 1060'"
      ]
     },
     "execution_count": 2,
     "metadata": {},
     "output_type": "execute_result"
    }
   ],
   "source": [
    "torch.cuda.get_device_name(0) "
   ]
  },
  {
   "cell_type": "code",
   "execution_count": 3,
   "id": "4dfc6e42",
   "metadata": {
    "ExecuteTime": {
     "end_time": "2022-02-17T14:08:57.220470Z",
     "start_time": "2022-02-17T14:08:57.203513Z"
    }
   },
   "outputs": [
    {
     "data": {
      "text/plain": [
       "True"
      ]
     },
     "execution_count": 3,
     "metadata": {},
     "output_type": "execute_result"
    }
   ],
   "source": [
    "torch.cuda.is_available() "
   ]
  },
  {
   "cell_type": "code",
   "execution_count": 4,
   "id": "35ab0c31",
   "metadata": {
    "ExecuteTime": {
     "end_time": "2022-02-17T14:09:00.489001Z",
     "start_time": "2022-02-17T14:09:00.484991Z"
    },
    "scrolled": true
   },
   "outputs": [
    {
     "data": {
      "text/plain": [
       "'1.10.2'"
      ]
     },
     "execution_count": 4,
     "metadata": {},
     "output_type": "execute_result"
    }
   ],
   "source": [
    "torch.__version__"
   ]
  },
  {
   "cell_type": "code",
   "execution_count": 11,
   "id": "83c775ce",
   "metadata": {
    "ExecuteTime": {
     "end_time": "2022-02-17T14:19:48.128689Z",
     "start_time": "2022-02-17T14:19:46.283294Z"
    }
   },
   "outputs": [
    {
     "name": "stdout",
     "output_type": "stream",
     "text": [
      "tensor([[0., 0., 0.],\n",
      "        [0., 0., 0.]], device='cuda:0')\n"
     ]
    }
   ],
   "source": [
    "cpu_tensor = torch.zeros(2,3)\n",
    "device = torch.device(\"cuda:0\")\n",
    "gpu_tensor = cpu_tensor_tensor.to(device)\n",
    "print(gpu_tensor)"
   ]
  }
 ],
 "metadata": {
  "kernelspec": {
   "display_name": "pytorch",
   "language": "python",
   "name": "pytorch"
  },
  "language_info": {
   "codemirror_mode": {
    "name": "ipython",
    "version": 3
   },
   "file_extension": ".py",
   "mimetype": "text/x-python",
   "name": "python",
   "nbconvert_exporter": "python",
   "pygments_lexer": "ipython3",
   "version": "3.7.11"
  },
  "toc": {
   "base_numbering": 1,
   "nav_menu": {},
   "number_sections": true,
   "sideBar": true,
   "skip_h1_title": false,
   "title_cell": "Table of Contents",
   "title_sidebar": "Contents",
   "toc_cell": false,
   "toc_position": {},
   "toc_section_display": true,
   "toc_window_display": false
  }
 },
 "nbformat": 4,
 "nbformat_minor": 5
}
