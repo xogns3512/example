{
 "cells": [
  {
   "cell_type": "code",
   "execution_count": 1,
   "id": "60fbb89a",
   "metadata": {
    "ExecuteTime": {
     "end_time": "2022-02-17T14:50:06.583073Z",
     "start_time": "2022-02-17T14:50:05.248897Z"
    }
   },
   "outputs": [],
   "source": [
    "import torch"
   ]
  },
  {
   "cell_type": "code",
   "execution_count": 20,
   "id": "dbf62f87",
   "metadata": {
    "ExecuteTime": {
     "end_time": "2022-02-17T15:09:11.800821Z",
     "start_time": "2022-02-17T15:09:08.899573Z"
    }
   },
   "outputs": [],
   "source": [
    "# 데이터나 학습 결과를 출력하기 위해 사용합니다.\n",
    "import matplotlib.pyplot as plt\n",
    "# 넘파이와 파이토치를 불러옵니다.\n",
    "import numpy as np"
   ]
  },
  {
   "cell_type": "code",
   "execution_count": 2,
   "id": "cb41011d",
   "metadata": {
    "ExecuteTime": {
     "end_time": "2022-02-17T14:50:06.598043Z",
     "start_time": "2022-02-17T14:50:06.589069Z"
    }
   },
   "outputs": [],
   "source": [
    "X=torch.Tensor(2,3)"
   ]
  },
  {
   "cell_type": "code",
   "execution_count": 3,
   "id": "cb9eaffd",
   "metadata": {
    "ExecuteTime": {
     "end_time": "2022-02-17T14:50:06.612725Z",
     "start_time": "2022-02-17T14:50:06.599036Z"
    }
   },
   "outputs": [],
   "source": [
    "X = torch.tensor([[1,2,3],[4,5,6]])"
   ]
  },
  {
   "cell_type": "code",
   "execution_count": 4,
   "id": "bf2ccba8",
   "metadata": {
    "ExecuteTime": {
     "end_time": "2022-02-17T14:50:06.642647Z",
     "start_time": "2022-02-17T14:50:06.620712Z"
    }
   },
   "outputs": [],
   "source": [
    "x_tensor = torch.tensor(data=[2.0,3.0],requires_grad=True)"
   ]
  },
  {
   "cell_type": "markdown",
   "id": "8dd5e37d",
   "metadata": {},
   "source": [
    "기울기를 계산하는 코드 예제"
   ]
  },
  {
   "cell_type": "code",
   "execution_count": 5,
   "id": "5daa8b97",
   "metadata": {
    "ExecuteTime": {
     "end_time": "2022-02-17T14:50:06.672559Z",
     "start_time": "2022-02-17T14:50:06.650624Z"
    }
   },
   "outputs": [],
   "source": [
    "x = torch.tensor(data=[2.0,3.0],requires_grad=True)\n",
    "y=x**2\n",
    "z=2*y + 3"
   ]
  },
  {
   "cell_type": "code",
   "execution_count": 6,
   "id": "607a9f77",
   "metadata": {
    "ExecuteTime": {
     "end_time": "2022-02-17T14:50:07.185437Z",
     "start_time": "2022-02-17T14:50:07.152562Z"
    }
   },
   "outputs": [
    {
     "data": {
      "text/plain": [
       "tensor([11., 21.], grad_fn=<AddBackward0>)"
      ]
     },
     "execution_count": 6,
     "metadata": {},
     "output_type": "execute_result"
    }
   ],
   "source": [
    "z"
   ]
  },
  {
   "cell_type": "code",
   "execution_count": 7,
   "id": "fc74988a",
   "metadata": {
    "ExecuteTime": {
     "end_time": "2022-02-17T14:50:07.424799Z",
     "start_time": "2022-02-17T14:50:07.415823Z"
    }
   },
   "outputs": [],
   "source": [
    "target = torch.tensor([3.0,4.0])"
   ]
  },
  {
   "cell_type": "code",
   "execution_count": 8,
   "id": "ae6c47c2",
   "metadata": {
    "ExecuteTime": {
     "end_time": "2022-02-17T14:50:07.666093Z",
     "start_time": "2022-02-17T14:50:07.650137Z"
    }
   },
   "outputs": [
    {
     "data": {
      "text/plain": [
       "tensor([ 8., 17.], grad_fn=<AbsBackward0>)"
      ]
     },
     "execution_count": 8,
     "metadata": {},
     "output_type": "execute_result"
    }
   ],
   "source": [
    "torch.abs(z-target)"
   ]
  },
  {
   "cell_type": "code",
   "execution_count": 9,
   "id": "c1709ef0",
   "metadata": {
    "ExecuteTime": {
     "end_time": "2022-02-17T14:50:08.703704Z",
     "start_time": "2022-02-17T14:50:08.672786Z"
    }
   },
   "outputs": [
    {
     "name": "stdout",
     "output_type": "stream",
     "text": [
      "tensor([ 8., 12.]) None None\n"
     ]
    },
    {
     "name": "stderr",
     "output_type": "stream",
     "text": [
      "C:\\Users\\user\\Anaconda3\\envs\\pytorch\\lib\\site-packages\\torch\\_tensor.py:1013: UserWarning: The .grad attribute of a Tensor that is not a leaf Tensor is being accessed. Its .grad attribute won't be populated during autograd.backward(). If you indeed want the .grad field to be populated for a non-leaf Tensor, use .retain_grad() on the non-leaf Tensor. If you access the non-leaf Tensor by mistake, make sure you access the leaf Tensor instead. See github.com/pytorch/pytorch/pull/30531 for more informations. (Triggered internally at  aten\\src\\ATen/core/TensorBody.h:417.)\n",
      "  return self._grad\n"
     ]
    }
   ],
   "source": [
    "target = torch.tensor([3.0,4.0])\n",
    "loss = torch.sum(torch.abs(z-target))\n",
    "loss.backward()\n",
    "print(x.grad,y.grad,z.grad)"
   ]
  },
  {
   "cell_type": "markdown",
   "id": "2be8f895",
   "metadata": {},
   "source": [
    "선형회귀분석 모델"
   ]
  },
  {
   "cell_type": "code",
   "execution_count": 26,
   "id": "65499c4b",
   "metadata": {
    "ExecuteTime": {
     "end_time": "2022-02-17T15:13:22.082696Z",
     "start_time": "2022-02-17T15:13:22.064687Z"
    }
   },
   "outputs": [],
   "source": [
    "import torch\n",
    "import torch.nn as nn\n",
    "import torch.optim as optim\n",
    "import torch.nn.init as init"
   ]
  },
  {
   "cell_type": "code",
   "execution_count": 27,
   "id": "7a7c7e4b",
   "metadata": {
    "ExecuteTime": {
     "end_time": "2022-02-17T15:13:22.277120Z",
     "start_time": "2022-02-17T15:13:22.263157Z"
    }
   },
   "outputs": [],
   "source": [
    "num_data = 1000\n",
    "num_epoch = 500"
   ]
  },
  {
   "cell_type": "code",
   "execution_count": 28,
   "id": "f51efcf6",
   "metadata": {
    "ExecuteTime": {
     "end_time": "2022-02-17T15:13:22.442263Z",
     "start_time": "2022-02-17T15:13:22.424969Z"
    }
   },
   "outputs": [],
   "source": [
    "x = init.uniform_(torch.Tensor(num_data,1),-10,10)\n",
    "noise = init.normal_(torch.FloatTensor(num_data,1),std = 1)\n",
    "y = 2*x+3\n",
    "y_noise = y + noise"
   ]
  },
  {
   "cell_type": "code",
   "execution_count": 29,
   "id": "29165be1",
   "metadata": {
    "ExecuteTime": {
     "end_time": "2022-02-17T15:13:22.700973Z",
     "start_time": "2022-02-17T15:13:22.583289Z"
    }
   },
   "outputs": [
    {
     "data": {
      "image/png": "[encoded data removed]",
      "text/plain": [
       "<Figure size 720x720 with 1 Axes>"
      ]
     },
     "metadata": {
      "needs_background": "light"
     },
     "output_type": "display_data"
    }
   ],
   "source": [
    "# figure의 크기를 지정해줍니다.\n",
    "plt.figure(figsize=(10,10))\n",
    "# x축에는 x를 사용하고 y축에는 y_noise를 사용해 scatter plot 해줍니다.\n",
    "# 이때 점의 크기는 7, 점의 색상은 회색으로 임의로 지정했습니다.\n",
    "plt.scatter(x.numpy(),y_noise.numpy(),s=7,c=\"gray\")\n",
    "# figure의 x,y 축 범위를 지정해줍니다.\n",
    "plt.axis([-12, 12, -25, 25])\n",
    "# figure를 출력합니다.\n",
    "plt.show()"
   ]
  },
  {
   "cell_type": "code",
   "execution_count": 30,
   "id": "e24c27f2",
   "metadata": {
    "ExecuteTime": {
     "end_time": "2022-02-17T15:13:22.745852Z",
     "start_time": "2022-02-17T15:13:22.734882Z"
    }
   },
   "outputs": [],
   "source": [
    "model = nn.Linear(1,1)\n",
    "loss_func = nn.L1Loss()"
   ]
  },
  {
   "cell_type": "code",
   "execution_count": 31,
   "id": "80d8cc5e",
   "metadata": {
    "ExecuteTime": {
     "end_time": "2022-02-17T15:13:22.895487Z",
     "start_time": "2022-02-17T15:13:22.887508Z"
    }
   },
   "outputs": [],
   "source": [
    "optimizer = optim.SGD(model.parameters(),lr=0.01)"
   ]
  },
  {
   "cell_type": "code",
   "execution_count": 32,
   "id": "8959ebee",
   "metadata": {
    "ExecuteTime": {
     "end_time": "2022-02-17T15:13:23.644483Z",
     "start_time": "2022-02-17T15:13:23.048080Z"
    }
   },
   "outputs": [
    {
     "name": "stdout",
     "output_type": "stream",
     "text": [
      "tensor(7.8727)\n",
      "0.5177110433578491 0.8413782119750977\n",
      "0.5657137036323547 0.8432582020759583\n",
      "0.6137163639068604 0.8451381921768188\n",
      "0.6616002321243286 0.8470782041549683\n",
      "0.7093491554260254 0.8490781784057617\n",
      "0.756965696811676 0.8511582016944885\n",
      "0.8045090436935425 0.8532782196998596\n",
      "0.8518040180206299 0.855498194694519\n",
      "0.8988409638404846 0.8578181862831116\n",
      "0.9458442330360413 0.8601582050323486\n",
      "tensor(5.6036)\n",
      "0.9925180077552795 0.8626381754875183\n",
      "1.0388870239257812 0.8652381896972656\n",
      "1.084897756576538 0.8679782152175903\n",
      "1.1305785179138184 0.8708382248878479\n",
      "1.1760501861572266 0.873778223991394\n",
      "1.2212287187576294 0.876838207244873\n",
      "1.2659056186676025 0.8800781965255737\n",
      "1.310035228729248 0.8834581971168518\n",
      "1.3531718254089355 0.8870981931686401\n",
      "1.3957761526107788 0.8908981680870056\n",
      "tensor(3.5788)\n",
      "1.4373501539230347 0.8949381709098816\n",
      "1.4776946306228638 0.8992781639099121\n",
      "1.5167255401611328 0.9038381576538086\n",
      "1.5546165704727173 0.9085981845855713\n",
      "1.5914149284362793 0.9135782122612\n",
      "1.6247131824493408 0.9191381931304932\n",
      "1.6563578844070435 0.9249781966209412\n",
      "1.6858220100402832 0.931158185005188\n",
      "1.712655782699585 0.9377182126045227\n",
      "1.7364094257354736 0.9447182416915894\n",
      "tensor(2.3878)\n",
      "1.758692741394043 0.9518982172012329\n",
      "1.7787081003189087 0.9593381881713867\n",
      "1.79659104347229 0.9670981764793396\n",
      "1.8123493194580078 0.9751181602478027\n",
      "1.8275026082992554 0.9832181334495544\n",
      "1.8417458534240723 0.9914381504058838\n",
      "1.8547769784927368 0.9997981786727905\n",
      "1.8666433095932007 1.008338212966919\n",
      "1.8777825832366943 1.0169782638549805\n",
      "1.888019323348999 1.02573823928833\n",
      "tensor(2.0884)\n",
      "1.8970645666122437 1.0345582962036133\n",
      "1.9055417776107788 1.0434383153915405\n",
      "1.9136958122253418 1.0523183345794678\n",
      "1.9213184118270874 1.0612783432006836\n",
      "1.928410530090332 1.070278286933899\n",
      "1.9353764057159424 1.0792982578277588\n",
      "1.942164421081543 1.0883382558822632\n",
      "1.9485111236572266 1.097398281097412\n",
      "1.9546988010406494 1.106458306312561\n",
      "1.96048104763031 1.115578293800354\n",
      "tensor(1.9554)\n",
      "1.965884804725647 1.1247183084487915\n",
      "1.9712885618209839 1.133858323097229\n",
      "1.9761791229248047 1.143038272857666\n",
      "1.9809091091156006 1.152198314666748\n",
      "1.9851948022842407 1.161378264427185\n",
      "1.9893031120300293 1.170538306236267\n",
      "1.9934114217758179 1.1796983480453491\n",
      "1.9966912269592285 1.1888583898544312\n",
      "1.9994953870773315 1.1979783773422241\n",
      "2.002058506011963 1.2070584297180176\n",
      "tensor(1.8542)\n",
      "2.0045790672302246 1.2161184549331665\n",
      "2.006864070892334 1.2251384258270264\n",
      "2.0091490745544434 1.2341583967208862\n",
      "2.0114340782165527 1.243178367614746\n",
      "2.013719081878662 1.252198338508606\n",
      "2.0157320499420166 1.2612183094024658\n",
      "2.0176024436950684 1.2701983451843262\n",
      "2.0193135738372803 1.279158353805542\n",
      "2.021024703979492 1.2881183624267578\n",
      "2.022536039352417 1.297058343887329\n",
      "tensor(1.7690)\n",
      "2.023909330368042 1.3059782981872559\n",
      "2.025282621383667 1.3148982524871826\n",
      "2.0265097618103027 1.3237982988357544\n",
      "2.027583122253418 1.3326783180236816\n",
      "2.028563976287842 1.3415383100509644\n",
      "2.029372215270996 1.3503782749176025\n",
      "2.0301742553710938 1.3591983318328857\n",
      "2.0310165882110596 1.3679983615875244\n",
      "2.031839609146118 1.3767783641815186\n",
      "2.0324859619140625 1.3855383396148682\n",
      "tensor(1.6898)\n",
      "2.033132314682007 1.3942983150482178\n",
      "2.033778667449951 1.4030582904815674\n",
      "2.0342719554901123 1.4117982387542725\n",
      "2.034837007522583 1.4205182790756226\n",
      "2.0354020595550537 1.4292383193969727\n",
      "2.036007881164551 1.4379183053970337\n",
      "2.0363070964813232 1.4465583562850952\n",
      "2.036320209503174 1.4551583528518677\n",
      "2.0364456176757812 1.463718295097351\n",
      "2.0366508960723877 1.472238302230835\n",
      "tensor(1.6146)\n",
      "2.0362539291381836 1.4806582927703857\n",
      "2.035776376724243 1.489038348197937\n",
      "2.0354440212249756 1.4973783493041992\n",
      "2.0352556705474854 1.505698323249817\n",
      "2.0352156162261963 1.51399827003479\n",
      "2.035407543182373 1.5222582817077637\n",
      "2.03559947013855 1.5305182933807373\n",
      "2.0357913970947266 1.538778305053711\n",
      "2.035890817642212 1.54701828956604\n",
      "2.0358340740203857 1.5552382469177246\n",
      "tensor(1.5458)\n",
      "2.0358574390411377 1.5634382963180542\n",
      "2.035620927810669 1.5715982913970947\n",
      "2.0353844165802 1.5797582864761353\n",
      "2.0349812507629395 1.5878982543945312\n",
      "2.0345475673675537 1.5959182977676392\n",
      "2.0342819690704346 1.603898286819458\n",
      "2.0338711738586426 1.6118582487106323\n",
      "2.033478021621704 1.6197983026504517\n",
      "2.032926321029663 1.627698302268982\n",
      "2.032475471496582 1.6355782747268677\n",
      "tensor(1.4812)\n",
      "2.032024621963501 1.6434582471847534\n",
      "2.031672477722168 1.6513181924819946\n",
      "2.031320333480835 1.6591781377792358\n",
      "2.030862331390381 1.667018175125122\n",
      "2.0306360721588135 1.6748181581497192\n",
      "2.030364990234375 1.6825981140136719\n",
      "2.0302298069000244 1.6903181076049805\n",
      "2.029937505722046 1.6980180740356445\n",
      "2.0293469429016113 1.7056580781936646\n",
      "2.0287563800811768 1.7132980823516846\n",
      "tensor(1.4208)\n",
      "2.0283312797546387 1.72091805934906\n",
      "2.027899980545044 1.728518009185791\n",
      "2.0278072357177734 1.7360180616378784\n",
      "2.027848243713379 1.7434780597686768\n",
      "2.0280561447143555 1.7509180307388306\n",
      "2.028090238571167 1.7583180665969849\n",
      "2.0281848907470703 1.7656980752944946\n",
      "2.027924060821533 1.7730380296707153\n",
      "2.027663230895996 1.780377984046936\n",
      "2.027331590652466 1.7876980304718018\n",
      "tensor(1.3655)\n",
      "2.0271589756011963 1.794998049736023\n",
      "2.0269863605499268 1.8022980690002441\n",
      "2.0268137454986572 1.8095980882644653\n",
      "2.02644944190979 1.816878080368042\n",
      "2.026226282119751 1.8241181373596191\n",
      "2.0261731147766113 1.8312981128692627\n",
      "2.0259931087493896 1.8384580612182617\n",
      "2.0257716178894043 1.8455981016159058\n",
      "2.025289535522461 1.8526980876922607\n",
      "2.024681568145752 1.8597581386566162\n",
      "tensor(1.3135)\n",
      "2.0242130756378174 1.8667981624603271\n",
      "2.023604393005371 1.8738181591033936\n",
      "2.022995710372925 1.88083815574646\n",
      "2.0224053859710693 1.8878381252288818\n",
      "2.0220048427581787 1.8947981595993042\n",
      "2.021545648574829 1.9017181396484375\n",
      "2.020998477935791 1.9086180925369263\n",
      "2.020573377609253 1.9154781103134155\n",
      "2.020098924636841 1.9222980737686157\n",
      "2.0196244716644287 1.929118037223816\n",
      "tensor(1.2652)\n",
      "2.01920485496521 1.9358980655670166\n",
      "2.0189270973205566 1.9426580667495728\n",
      "2.018829584121704 1.9493780136108398\n",
      "2.0185513496398926 1.9560580253601074\n",
      "2.018273115158081 1.962738037109375\n",
      "2.0181884765625 1.9693779945373535\n",
      "2.017947196960449 1.975998044013977\n",
      "2.0175323486328125 1.982598066329956\n",
      "2.017259359359741 1.9891180992126465\n",
      "2.01698637008667 1.995638132095337\n",
      "tensor(1.2210)\n",
      "2.0166404247283936 2.002138137817383\n",
      "2.016223192214966 2.008618116378784\n",
      "2.015753984451294 2.015078067779541\n",
      "2.0152275562286377 2.021497964859009\n",
      "2.0147011280059814 2.0279178619384766\n",
      "2.014127731323242 2.0342979431152344\n",
      "2.013697862625122 2.0406579971313477\n",
      "2.013267993927002 2.047018051147461\n",
      "2.0128281116485596 2.0533580780029297\n",
      "2.0128743648529053 2.059638023376465\n",
      "tensor(1.1799)\n",
      "2.0128650665283203 2.0658581256866455\n",
      "2.0128557682037354 2.072078227996826\n",
      "2.012991428375244 2.0782783031463623\n",
      "2.013127088546753 2.0844783782958984\n",
      "2.0129966735839844 2.090618371963501\n",
      "2.012514352798462 2.0967183113098145\n",
      "2.0120630264282227 2.1027584075927734\n",
      "2.0113394260406494 2.1087584495544434\n",
      "2.010615825653076 2.1147584915161133\n",
      "2.0099306106567383 2.1207385063171387\n",
      "tensor(1.1425)\n",
      "2.009343385696411 2.1266984939575195\n",
      "2.008981943130493 2.1326184272766113\n",
      "2.008620500564575 2.138538360595703\n",
      "2.0082590579986572 2.144458293914795\n",
      "2.00809645652771 2.150358200073242\n",
      "2.00788950920105 2.1562182903289795\n",
      "2.0078628063201904 2.1620583534240723\n",
      "2.007533073425293 2.1678383350372314\n",
      "2.0072033405303955 2.1736183166503906\n",
      "2.0069823265075684 2.179338216781616\n",
      "tensor(1.1081)\n",
      "2.006946086883545 2.1850383281707764\n",
      "2.0070807933807373 2.190678358078003\n",
      "2.007178544998169 2.196258306503296\n",
      "2.0075042247772217 2.2017982006073\n",
      "2.007319450378418 2.2072582244873047\n",
      "2.0071346759796143 2.2127182483673096\n",
      "2.0070505142211914 2.21815824508667\n",
      "2.006910800933838 2.223558187484741\n",
      "2.0067710876464844 2.2289581298828125\n",
      "2.0068166255950928 2.2343180179595947\n",
      "tensor(1.0779)\n",
      "2.006862163543701 2.239677906036377\n",
      "2.006725549697876 2.2450180053710938\n",
      "2.006588935852051 2.2503581047058105\n",
      "2.0063717365264893 2.2556581497192383\n",
      "2.0064024925231934 2.260918140411377\n",
      "2.0064332485198975 2.2661781311035156\n",
      "2.0064640045166016 2.2714381217956543\n",
      "2.0065560340881348 2.2766780853271484\n",
      "2.0062997341156006 2.281818151473999\n",
      "2.0061941146850586 2.286938190460205\n",
      "tensor(1.0502)\n",
      "2.0060884952545166 2.292058229446411\n",
      "2.005934000015259 2.2971582412719727\n",
      "2.0059568881988525 2.3022382259368896\n",
      "2.0060689449310303 2.3072383403778076\n",
      "2.0060360431671143 2.312218427658081\n",
      "2.0059654712677 2.3171584606170654\n",
      "2.0061066150665283 2.321998357772827\n",
      "2.0062477588653564 2.326838254928589\n",
      "2.0060861110687256 2.331618309020996\n",
      "2.0059244632720947 2.3363983631134033\n",
      "tensor(1.0258)\n",
      "2.005762815475464 2.3411784172058105\n",
      "2.0055549144744873 2.3459184169769287\n",
      "2.005230188369751 2.3506383895874023\n",
      "2.0047566890716553 2.355318307876587\n",
      "2.0042831897735596 2.3599982261657715\n",
      "2.003809690475464 2.364678144454956\n",
      "2.003336191177368 2.3693580627441406\n",
      "2.003031015396118 2.3740179538726807\n",
      "2.0027787685394287 2.3786380290985107\n",
      "2.002373456954956 2.3831980228424072\n",
      "tensor(1.0038)\n",
      "2.0019681453704834 2.3877580165863037\n",
      "2.001980781555176 2.3922579288482666\n",
      "2.001993417739868 2.3967578411102295\n",
      "2.0020060539245605 2.4012577533721924\n",
      "2.0018670558929443 2.4057376384735107\n",
      "2.0016865730285645 2.4101977348327637\n",
      "2.0015060901641846 2.4146578311920166\n",
      "2.0012807846069336 2.4190778732299805\n",
      "2.0011610984802246 2.4234578609466553\n",
      "2.0010275840759277 2.4278178215026855\n",
      "tensor(0.9839)\n",
      "2.0010271072387695 2.4321377277374268\n",
      "2.0011513233184814 2.4364378452301025\n",
      "2.0013186931610107 2.4406778812408447\n",
      "2.0014607906341553 2.4448578357696533\n",
      "2.0019643306732178 2.448997735977173\n",
      "2.0024678707122803 2.453117847442627\n",
      "2.002864122390747 2.457197904586792\n",
      "2.003260374069214 2.461277961730957\n",
      "2.0036566257476807 2.465358018875122\n",
      "2.003974676132202 2.4694180488586426\n",
      "tensor(0.9666)\n",
      "2.0043418407440186 2.473438024520874\n",
      "2.004755973815918 2.477437973022461\n",
      "2.005044937133789 2.4814178943634033\n",
      "2.005507469177246 2.485377788543701\n",
      "2.005970001220703 2.489337682723999\n",
      "2.006331443786621 2.493257761001587\n",
      "2.0066044330596924 2.4971377849578857\n",
      "2.0068774223327637 2.5010178089141846\n",
      "2.007150411605835 2.5048978328704834\n",
      "2.007432699203491 2.508737802505493\n",
      "tensor(0.9510)\n",
      "2.007453203201294 2.512537717819214\n",
      "2.0075154304504395 2.51627779006958\n",
      "2.007577657699585 2.5200178623199463\n",
      "2.007554054260254 2.523737907409668\n",
      "2.00746488571167 2.5274178981781006\n",
      "2.007375717163086 2.531097888946533\n",
      "2.0074262619018555 2.5347578525543213\n",
      "2.007476806640625 2.5384178161621094\n",
      "2.0073323249816895 2.542057752609253\n",
      "2.0068347454071045 2.5456576347351074\n",
      "tensor(0.9374)\n",
      "2.006587505340576 2.5492377281188965\n",
      "2.0061445236206055 2.552797794342041\n",
      "2.005897283554077 2.55637788772583\n",
      "2.005723237991333 2.559877872467041\n",
      "2.005549192428589 2.563377857208252\n",
      "2.0053751468658447 2.566877841949463\n",
      "2.005096912384033 2.5703577995300293\n",
      "2.0048186779022217 2.5738377571105957\n",
      "2.0044612884521484 2.5772976875305176\n",
      "2.004189968109131 2.5807178020477295\n",
      "tensor(0.9251)\n",
      "2.004117012023926 2.5840978622436523\n",
      "2.0040440559387207 2.587477922439575\n",
      "2.0039477348327637 2.5908379554748535\n",
      "2.003756523132324 2.5941779613494873\n",
      "2.0036003589630127 2.597437858581543\n",
      "2.0030550956726074 2.6006178855895996\n",
      "2.0025599002838135 2.6037778854370117\n",
      "2.0023603439331055 2.606937885284424\n",
      "2.002112627029419 2.610057830810547\n",
      "2.001924514770508 2.6131577491760254\n",
      "tensor(0.9145)\n",
      "2.0020828247070312 2.616217851638794\n",
      "2.002169370651245 2.619257926940918\n",
      "2.0022385120391846 2.622257947921753\n",
      "2.002054214477539 2.625217914581299\n",
      "2.0019798278808594 2.6281578540802\n",
      "2.0019054412841797 2.6310977935791016\n",
      "2.001882314682007 2.633997678756714\n",
      "2.0018866062164307 2.6368777751922607\n",
      "2.0018908977508545 2.6397578716278076\n",
      "2.0018951892852783 2.6426379680633545\n",
      "tensor(0.9059)\n",
      "2.001899480819702 2.6455180644989014\n",
      "2.001981735229492 2.648358106613159\n",
      "2.0020639896392822 2.651198148727417\n",
      "2.0019845962524414 2.6540181636810303\n",
      "2.0019052028656006 2.6568381786346436\n",
      "2.0018258094787598 2.659658193588257\n",
      "2.001746416091919 2.66247820854187\n",
      "2.0018134117126465 2.665278196334839\n",
      "2.001880407333374 2.6680781841278076\n",
      "2.001769542694092 2.670858144760132\n",
      "tensor(0.8979)\n",
      "2.0018088817596436 2.6736180782318115\n",
      "2.0016534328460693 2.6763579845428467\n",
      "2.0015347003936768 2.6790781021118164\n",
      "2.001798391342163 2.681758165359497\n",
      "2.0020620822906494 2.6844382286071777\n",
      "2.0021371841430664 2.687098264694214\n",
      "2.0023069381713867 2.6897382736206055\n",
      "2.0023763179779053 2.692338228225708\n",
      "2.0024116039276123 2.694878339767456\n",
      "2.0024468898773193 2.697418451309204\n",
      "tensor(0.8909)\n",
      "2.0024821758270264 2.699958562850952\n",
      "2.0026142597198486 2.7024786472320557\n",
      "2.002746343612671 2.704998731613159\n",
      "2.002878427505493 2.7075188159942627\n",
      "2.0030105113983154 2.710038900375366\n",
      "2.0029752254486084 2.7125189304351807\n",
      "2.0029399394989014 2.714998960494995\n",
      "2.0028624534606934 2.717458963394165\n",
      "2.0030322074890137 2.719878911972046\n",
      "2.003201961517334 2.7222988605499268\n",
      "tensor(0.8847)\n",
      "2.0031564235687256 2.7246787548065186\n"
     ]
    },
    {
     "name": "stdout",
     "output_type": "stream",
     "text": [
      "2.003011465072632 2.7270188331604004\n",
      "2.0029075145721436 2.729318857192993\n",
      "2.0028035640716553 2.731618881225586\n",
      "2.002580165863037 2.7338788509368896\n",
      "2.0025315284729004 2.736118793487549\n",
      "2.0025546550750732 2.7383387088775635\n",
      "2.0027356147766113 2.7405385971069336\n",
      "2.0028185844421387 2.7427186965942383\n",
      "2.002901554107666 2.744898796081543\n",
      "tensor(0.8796)\n",
      "2.0031187534332275 2.7470388412475586\n",
      "2.003335952758789 2.749178886413574\n",
      "2.0035531520843506 2.75131893157959\n",
      "2.0035712718963623 2.7534189224243164\n",
      "2.003589391708374 2.755518913269043\n",
      "2.0036075115203857 2.7576189041137695\n",
      "2.0035552978515625 2.759678840637207\n",
      "2.0035030841827393 2.7617387771606445\n",
      "2.003450870513916 2.763798713684082\n",
      "2.0033986568450928 2.7658586502075195\n",
      "tensor(0.8752)\n",
      "2.0033464431762695 2.767918586730957\n",
      "2.0032942295074463 2.7699785232543945\n",
      "2.0032174587249756 2.7720184326171875\n",
      "2.0029830932617188 2.774038314819336\n",
      "2.0029022693634033 2.776038408279419\n",
      "2.002932548522949 2.7780184745788574\n",
      "2.002962827682495 2.779998540878296\n",
      "2.003068685531616 2.7819385528564453\n",
      "2.0032904148101807 2.783818483352661\n",
      "2.003312587738037 2.7857184410095215\n",
      "tensor(0.8712)\n",
      "2.0035343170166016 2.7875983715057373\n",
      "2.0036587715148926 2.7894582748413086\n",
      "2.003880500793457 2.7912983894348145\n",
      "2.004005193710327 2.793118476867676\n",
      "2.004124402999878 2.7949185371398926\n",
      "2.0042436122894287 2.7967185974121094\n",
      "2.0043628215789795 2.798518657684326\n",
      "2.0042948722839355 2.8002986907958984\n",
      "2.0043482780456543 2.802058696746826\n",
      "2.004225015640259 2.8037986755371094\n",
      "tensor(0.8680)\n",
      "2.004253625869751 2.805518627166748\n",
      "2.004282236099243 2.8072385787963867\n",
      "2.0040862560272217 2.8089184761047363\n",
      "2.004023313522339 2.8105785846710205\n",
      "2.0039212703704834 2.81221866607666\n",
      "2.0041756629943848 2.813798666000366\n",
      "2.004430055618286 2.8153786659240723\n",
      "2.0046825408935547 2.816938638687134\n",
      "2.0049350261688232 2.8184986114501953\n",
      "2.0050113201141357 2.8200786113739014\n",
      "tensor(0.8653)\n",
      "2.0052638053894043 2.821638584136963\n",
      "2.005340099334717 2.823218584060669\n",
      "2.0055925846099854 2.8247785568237305\n",
      "2.005845069885254 2.826338529586792\n",
      "2.0059213638305664 2.827918529510498\n",
      "2.006173849105835 2.8294785022735596\n",
      "2.0061676502227783 2.8310184478759766\n",
      "2.006234884262085 2.8325183391571045\n",
      "2.0063021183013916 2.8340182304382324\n",
      "2.0063693523406982 2.8355181217193604\n",
      "tensor(0.8629)\n",
      "2.0064117908477783 2.836998224258423\n",
      "2.0064542293548584 2.8384783267974854\n",
      "2.006279230117798 2.839918375015259\n",
      "2.0061042308807373 2.8413584232330322\n",
      "2.0059292316436768 2.8427984714508057\n",
      "2.005754232406616 2.844238519668579\n",
      "2.0055792331695557 2.8456785678863525\n",
      "2.005370616912842 2.8470985889434814\n",
      "2.005162000656128 2.8485186100006104\n",
      "2.0051677227020264 2.84989857673645\n",
      "tensor(0.8608)\n",
      "2.005302906036377 2.851238489151001\n",
      "2.0054380893707275 2.8525784015655518\n",
      "2.0055148601531982 2.853898286819458\n",
      "2.005591630935669 2.8552181720733643\n",
      "2.0057413578033447 2.856518268585205\n",
      "2.0058910846710205 2.857818365097046\n",
      "2.0059382915496826 2.859098434448242\n",
      "2.005859375 2.860358476638794\n",
      "2.0057804584503174 2.8616185188293457\n",
      "2.0057015419006348 2.8628785610198975\n",
      "tensor(0.8591)\n",
      "2.005622625350952 2.864138603210449\n",
      "2.005657196044922 2.8653786182403564\n",
      "2.0056917667388916 2.8666186332702637\n",
      "2.0054256916046143 2.867818593978882\n",
      "2.0053324699401855 2.8690385818481445\n",
      "2.0049996376037598 2.870218515396118\n",
      "2.0048396587371826 2.8714184761047363\n",
      "2.0049781799316406 2.8725783824920654\n",
      "2.00494384765625 2.873718500137329\n",
      "2.0049095153808594 2.8748586177825928\n",
      "tensor(0.8577)\n",
      "2.0048751831054688 2.8759987354278564\n",
      "2.004840850830078 2.87713885307312\n",
      "2.0048065185546875 2.878278970718384\n",
      "2.004772186279297 2.8794190883636475\n",
      "2.0048303604125977 2.8805391788482666\n",
      "2.0047874450683594 2.8816192150115967\n",
      "2.004744529724121 2.8826992511749268\n",
      "2.0048673152923584 2.8837592601776123\n",
      "2.0047831535339355 2.8847591876983643\n",
      "2.0046989917755127 2.885759115219116\n",
      "tensor(0.8565)\n",
      "2.00461483001709 2.886759042739868\n",
      "2.0045151710510254 2.8877389430999756\n",
      "2.0046136379241943 2.8886990547180176\n",
      "2.0047695636749268 2.889639139175415\n",
      "2.004727363586426 2.890599250793457\n",
      "2.004883289337158 2.8915393352508545\n",
      "2.0050392150878906 2.892479419708252\n",
      "2.00479793548584 2.8934195041656494\n",
      "2.0049538612365723 2.894359588623047\n",
      "2.004910707473755 2.8952796459198\n",
      "tensor(0.8556)\n",
      "2.0048675537109375 2.8961997032165527\n",
      "2.00482439994812 2.8971197605133057\n",
      "2.0046770572662354 2.898019790649414\n",
      "2.0045297145843506 2.8989198207855225\n",
      "2.0044302940368652 2.8997998237609863\n",
      "2.0044338703155518 2.900639772415161\n",
      "2.0043673515319824 2.9014596939086914\n",
      "2.004300832748413 2.9022796154022217\n",
      "2.0042343139648438 2.903099536895752\n",
      "2.0041677951812744 2.9039194583892822\n",
      "tensor(0.8548)\n",
      "2.004101276397705 2.9047393798828125\n",
      "2.0041067600250244 2.9055392742156982\n",
      "2.0041122436523438 2.906339168548584\n",
      "2.004117727279663 2.9071390628814697\n",
      "2.0041232109069824 2.9079389572143555\n",
      "2.0042922496795654 2.908719062805176\n",
      "2.0042977333068848 2.9095189571380615\n",
      "2.0044667720794678 2.910299062728882\n",
      "2.004472255706787 2.9110989570617676\n",
      "2.00464129447937 2.911879062652588\n",
      "tensor(0.8542)\n",
      "2.0046467781066895 2.9126789569854736\n",
      "2.0048158168792725 2.913459062576294\n",
      "2.0049848556518555 2.9142391681671143\n",
      "2.004990339279175 2.9150390625\n",
      "2.005159378051758 2.9158191680908203\n",
      "2.005164861679077 2.916619062423706\n",
      "2.00533390045166 2.9173991680145264\n",
      "2.0053393840789795 2.918199062347412\n",
      "2.0055856704711914 2.918959140777588\n",
      "2.0055911540985107 2.9197590351104736\n",
      "tensor(0.8536)\n",
      "2.00567364692688 2.920539140701294\n",
      "2.005919933319092 2.9212992191314697\n",
      "2.006002426147461 2.92207932472229\n",
      "2.00608491897583 2.9228594303131104\n",
      "2.006167411804199 2.9236395359039307\n",
      "2.0062499046325684 2.924419641494751\n",
      "2.0063323974609375 2.9251997470855713\n",
      "2.0064148902893066 2.9259798526763916\n",
      "2.00656795501709 2.9267399311065674\n",
      "2.006721019744873 2.927500009536743\n",
      "tensor(0.8530)\n",
      "2.0069141387939453 2.9282400608062744\n",
      "2.0071072578430176 2.9289801120758057\n",
      "2.0072600841522217 2.9297001361846924\n",
      "2.007412910461426 2.930420160293579\n",
      "2.00756573677063 2.931140184402466\n",
      "2.007718563079834 2.9318602085113525\n",
      "2.007871389389038 2.9325802326202393\n",
      "2.008024215698242 2.933300256729126\n",
      "2.0081770420074463 2.9340202808380127\n",
      "2.008193254470825 2.934720277786255\n",
      "tensor(0.8524)\n",
      "2.008209466934204 2.935420274734497\n",
      "2.008225679397583 2.9361202716827393\n",
      "2.008241891860962 2.9368202686309814\n",
      "2.008258104324341 2.9375202655792236\n",
      "2.0082743167877197 2.938220262527466\n",
      "2.0082905292510986 2.938920259475708\n",
      "2.0083067417144775 2.93962025642395\n",
      "2.0083229541778564 2.9403202533721924\n",
      "2.0083391666412354 2.9410202503204346\n",
      "2.0083553791046143 2.9417202472686768\n"
     ]
    }
   ],
   "source": [
    "# 손실이 어떻게 변하는지 확인하기 위해 loss_arr를 만들어 기록합니다.\n",
    "loss_arr =[]\n",
    "# 또한 목표값은 y_noise로 지정해줍니다.\n",
    "label = y_noise\n",
    "\n",
    "for i in range(num_epoch):\n",
    "    optimizer.zero_grad()\n",
    "    output = model(x)\n",
    "    \n",
    "    loss = loss_func(output,label)\n",
    "    loss.backward()\n",
    "    optimizer.step()\n",
    "    \n",
    "    if i%10 ==0:\n",
    "        print(loss.data)\n",
    "    param_list = list(model.parameters())\n",
    "    print(param_list[0].item(),param_list[1].item())\n",
    "    # 손실을 loss_arr에 추가해줍니다.\n",
    "    loss_arr.append(loss.detach().numpy())"
   ]
  },
  {
   "cell_type": "code",
   "execution_count": 34,
   "id": "6d3070f5",
   "metadata": {
    "ExecuteTime": {
     "end_time": "2022-02-17T15:13:27.735207Z",
     "start_time": "2022-02-17T15:13:27.553637Z"
    }
   },
   "outputs": [
    {
     "data": {
      "image/png": "[encoded data removed]",
      "text/plain": [
       "<Figure size 1080x1080 with 1 Axes>"
      ]
     },
     "metadata": {
      "needs_background": "light"
     },
     "output_type": "display_data"
    }
   ],
   "source": [
    "plt.figure(figsize=(15,15))\n",
    "plt.scatter(x.numpy(),y_noise.numpy(),s=5,c=\"gray\")\n",
    "plt.scatter(x.detach().numpy(),output.detach().numpy(),s=5,c=\"red\")\n",
    "plt.axis([-10, 10, -30, 30])\n",
    "plt.show()"
   ]
  },
  {
   "cell_type": "code",
   "execution_count": 35,
   "id": "fad702c8",
   "metadata": {
    "ExecuteTime": {
     "end_time": "2022-02-17T15:13:36.656856Z",
     "start_time": "2022-02-17T15:13:36.520221Z"
    }
   },
   "outputs": [
    {
     "data": {
      "image/png": "[encoded data removed]",
      "text/plain": [
       "<Figure size 432x288 with 1 Axes>"
      ]
     },
     "metadata": {
      "needs_background": "light"
     },
     "output_type": "display_data"
    }
   ],
   "source": [
    "# matplotlib의 plot 함수를 이용해 손실이 어떻게 줄어가는지 확인합니다. \n",
    "plt.plot(loss_arr)\n",
    "plt.show()"
   ]
  },
  {
   "cell_type": "code",
   "execution_count": 36,
   "id": "664f99da",
   "metadata": {
    "ExecuteTime": {
     "end_time": "2022-02-17T15:13:46.299778Z",
     "start_time": "2022-02-17T15:13:46.281824Z"
    }
   },
   "outputs": [
    {
     "name": "stdout",
     "output_type": "stream",
     "text": [
      "Weight: 2.0083553791046143 \n",
      "Bias:   2.9417202472686768\n"
     ]
    }
   ],
   "source": [
    "# 현재 모델은 weight와 bias을 변수로 가지고 있는데 그 값들이 학습 후 실제 몇인지 수치적으로 확인해봅니다.\n",
    "param_list = list(model.parameters())\n",
    "print(\"Weight:\",param_list[0].item(),\"\\nBias:  \",param_list[1].item())"
   ]
  },
  {
   "cell_type": "code",
   "execution_count": null,
   "id": "a7131686",
   "metadata": {},
   "outputs": [],
   "source": []
  }
 ],
 "metadata": {
  "kernelspec": {
   "display_name": "pytorch",
   "language": "python",
   "name": "pytorch"
  },
  "language_info": {
   "codemirror_mode": {
    "name": "ipython",
    "version": 3
   },
   "file_extension": ".py",
   "mimetype": "text/x-python",
   "name": "python",
   "nbconvert_exporter": "python",
   "pygments_lexer": "ipython3",
   "version": "3.7.11"
  },
  "toc": {
   "base_numbering": 1,
   "nav_menu": {},
   "number_sections": true,
   "sideBar": true,
   "skip_h1_title": false,
   "title_cell": "Table of Contents",
   "title_sidebar": "Contents",
   "toc_cell": false,
   "toc_position": {},
   "toc_section_display": true,
   "toc_window_display": false
  }
 },
 "nbformat": 4,
 "nbformat_minor": 5
}
