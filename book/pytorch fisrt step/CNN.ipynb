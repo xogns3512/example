{
 "cells": [
  {
   "cell_type": "markdown",
   "id": "5f4dc94e",
   "metadata": {},
   "source": [
    "## CNN"
   ]
  },
  {
   "cell_type": "code",
   "execution_count": 1,
   "id": "dcd78ab3",
   "metadata": {
    "ExecuteTime": {
     "end_time": "2022-02-19T08:09:22.643254Z",
     "start_time": "2022-02-19T08:09:21.315936Z"
    }
   },
   "outputs": [],
   "source": [
    "import torch\n",
    "import torch.nn as nn\n",
    "import torch.optim as optim\n",
    "import torch.nn.init as init\n",
    "import torchvision.datasets as dset\n",
    "import torchvision.transforms as transforms\n",
    "from torch.utils.data import DataLoader\n",
    "\n",
    "\n",
    "batch_size = 256\n",
    "learning_rate = 0.0002\n",
    "num_epoch = 20"
   ]
  },
  {
   "cell_type": "code",
   "execution_count": 2,
   "id": "2259ab66",
   "metadata": {
    "ExecuteTime": {
     "end_time": "2022-02-19T08:09:22.688092Z",
     "start_time": "2022-02-19T08:09:22.644210Z"
    }
   },
   "outputs": [],
   "source": [
    "mnist_train = dset.MNIST(\"../\", train=True, transform=transforms.ToTensor(), target_transform=None, download=True)\n",
    "mnist_test = dset.MNIST(\"../\", train=False, transform=transforms.ToTensor(), target_transform=None, download=True)\n",
    "\n",
    "train_loader = torch.utils.data.DataLoader(mnist_train, batch_size = batch_size, shuffle = True, num_workers=2, drop_last=True)\n",
    "test_loader = torch.utils.data.DataLoader(mnist_test, batch_size = batch_size, shuffle = False, num_workers=2, drop_last=True)"
   ]
  },
  {
   "cell_type": "code",
   "execution_count": 3,
   "id": "edecbcb2",
   "metadata": {
    "ExecuteTime": {
     "end_time": "2022-02-19T08:09:22.703084Z",
     "start_time": "2022-02-19T08:09:22.689090Z"
    }
   },
   "outputs": [],
   "source": [
    "class CNN(nn.Module):\n",
    "    def __init__(self):\n",
    "        super(CNN,self).__init__()\n",
    "        self.layer =nn.Sequential(\n",
    "            nn.Conv2d(1,16,5),\n",
    "            nn.ReLU(),\n",
    "            nn.Conv2d(16,32,5),\n",
    "            nn.ReLU(),\n",
    "            nn.MaxPool2d(2,2),\n",
    "            nn.Conv2d(32,64,5),\n",
    "            nn.ReLU(),\n",
    "            nn.MaxPool2d(2,2))\n",
    "        self.fc_layer = nn.Sequential(\n",
    "            nn.Linear(64*3*3,100),\n",
    "            nn.ReLU(),\n",
    "            nn.Linear(100,10))\n",
    "    def forward(self,x):\n",
    "        out = self.layer(x)\n",
    "        out = out.view(batch_size,-1)\n",
    "        out = self.fc_layer(out)\n",
    "        return out"
   ]
  },
  {
   "cell_type": "code",
   "execution_count": 4,
   "id": "23819985",
   "metadata": {
    "ExecuteTime": {
     "end_time": "2022-02-19T08:09:22.807772Z",
     "start_time": "2022-02-19T08:09:22.705047Z"
    }
   },
   "outputs": [],
   "source": [
    "device = torch.device(\"cuda:0\" if torch.cuda.is_available() else \"cpu\")\n",
    "model = CNN().to(device)\n",
    "loss_func = nn.CrossEntropyLoss()\n",
    "optimizer = torch.optim.Adam(model.parameters(),lr = learning_rate)"
   ]
  },
  {
   "cell_type": "code",
   "execution_count": 5,
   "id": "31880b11",
   "metadata": {
    "ExecuteTime": {
     "end_time": "2022-02-19T08:11:54.991613Z",
     "start_time": "2022-02-19T08:09:22.808770Z"
    }
   },
   "outputs": [
    {
     "name": "stdout",
     "output_type": "stream",
     "text": [
      "tensor(2.2994, device='cuda:0', grad_fn=<NllLossBackward0>)\n",
      "tensor(0.3678, device='cuda:0', grad_fn=<NllLossBackward0>)\n",
      "tensor(0.1957, device='cuda:0', grad_fn=<NllLossBackward0>)\n",
      "tensor(0.1789, device='cuda:0', grad_fn=<NllLossBackward0>)\n",
      "tensor(0.0904, device='cuda:0', grad_fn=<NllLossBackward0>)\n",
      "tensor(0.0722, device='cuda:0', grad_fn=<NllLossBackward0>)\n",
      "tensor(0.0565, device='cuda:0', grad_fn=<NllLossBackward0>)\n",
      "tensor(0.0610, device='cuda:0', grad_fn=<NllLossBackward0>)\n",
      "tensor(0.0361, device='cuda:0', grad_fn=<NllLossBackward0>)\n",
      "tensor(0.0374, device='cuda:0', grad_fn=<NllLossBackward0>)\n",
      "tensor(0.0462, device='cuda:0', grad_fn=<NllLossBackward0>)\n",
      "tensor(0.0258, device='cuda:0', grad_fn=<NllLossBackward0>)\n",
      "tensor(0.0301, device='cuda:0', grad_fn=<NllLossBackward0>)\n",
      "tensor(0.0335, device='cuda:0', grad_fn=<NllLossBackward0>)\n",
      "tensor(0.0220, device='cuda:0', grad_fn=<NllLossBackward0>)\n",
      "tensor(0.0411, device='cuda:0', grad_fn=<NllLossBackward0>)\n",
      "tensor(0.0325, device='cuda:0', grad_fn=<NllLossBackward0>)\n",
      "tensor(0.0053, device='cuda:0', grad_fn=<NllLossBackward0>)\n",
      "tensor(0.0225, device='cuda:0', grad_fn=<NllLossBackward0>)\n",
      "tensor(0.0176, device='cuda:0', grad_fn=<NllLossBackward0>)\n"
     ]
    }
   ],
   "source": [
    "loss_arr = []\n",
    "for i in range(num_epoch):\n",
    "    for j,[image,label] in enumerate(train_loader):\n",
    "        x = image.to(device)\n",
    "        y_ = label.to(device)\n",
    "        \n",
    "        optimizer.zero_grad()\n",
    "        output = model.forward(x)\n",
    "        loss = loss_func(output,y_)\n",
    "        loss.backward()\n",
    "        optimizer.step()\n",
    "        \n",
    "        if j%1000==0:\n",
    "            print(loss)\n",
    "            loss_arr.append(loss.cpu().detach().numpy())"
   ]
  },
  {
   "cell_type": "code",
   "execution_count": 6,
   "id": "4172f951",
   "metadata": {
    "ExecuteTime": {
     "end_time": "2022-02-19T08:11:59.321071Z",
     "start_time": "2022-02-19T08:11:54.993608Z"
    },
    "scrolled": true
   },
   "outputs": [
    {
     "name": "stdout",
     "output_type": "stream",
     "text": [
      "Accuracy of Test Data: 10.496794700622559\n"
     ]
    }
   ],
   "source": [
    "correct = 0 \n",
    "total = 0 \n",
    "\n",
    "with torch.no_grad():\n",
    "    for image,label in test_loader:\n",
    "        x = image.to(device)\n",
    "        y = image.to(device)\n",
    "        \n",
    "        output = model.forward(x)\n",
    "        _,output_index = torch.max(output,1)\n",
    "        \n",
    "        total+=label.size(0)\n",
    "        correct+=(output_index == y_).sum().float()\n",
    "        \n",
    "    print(\"Accuracy of Test Data: {}\".format(100*correct/total))"
   ]
  }
 ],
 "metadata": {
  "kernelspec": {
   "display_name": "pytorch",
   "language": "python",
   "name": "pytorch"
  },
  "language_info": {
   "codemirror_mode": {
    "name": "ipython",
    "version": 3
   },
   "file_extension": ".py",
   "mimetype": "text/x-python",
   "name": "python",
   "nbconvert_exporter": "python",
   "pygments_lexer": "ipython3",
   "version": "3.7.11"
  },
  "toc": {
   "base_numbering": 1,
   "nav_menu": {},
   "number_sections": true,
   "sideBar": true,
   "skip_h1_title": false,
   "title_cell": "Table of Contents",
   "title_sidebar": "Contents",
   "toc_cell": false,
   "toc_position": {},
   "toc_section_display": true,
   "toc_window_display": false
  }
 },
 "nbformat": 4,
 "nbformat_minor": 5
}
