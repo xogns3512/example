{
 "cells": [
  {
   "cell_type": "markdown",
   "metadata": {},
   "source": [
    "# 그리디"
   ]
  },
  {
   "cell_type": "markdown",
   "metadata": {},
   "source": [
    "## 1이 될때까지"
   ]
  },
  {
   "cell_type": "code",
   "execution_count": 1,
   "metadata": {
    "ExecuteTime": {
     "end_time": "2022-03-17T04:27:10.731961Z",
     "start_time": "2022-03-17T04:27:10.719030Z"
    }
   },
   "outputs": [],
   "source": [
    "n = 30\n",
    "k = 5"
   ]
  },
  {
   "cell_type": "code",
   "execution_count": 2,
   "metadata": {
    "ExecuteTime": {
     "end_time": "2022-03-17T04:27:10.746888Z",
     "start_time": "2022-03-17T04:27:10.733003Z"
    }
   },
   "outputs": [],
   "source": [
    "num = 0\n",
    "while n!=1:\n",
    "    if n%k ==0:\n",
    "        n = n//k\n",
    "        num += 1\n",
    "    else:\n",
    "        n = n-1\n",
    "        num += 1"
   ]
  },
  {
   "cell_type": "markdown",
   "metadata": {},
   "source": [
    "# 구현"
   ]
  },
  {
   "cell_type": "markdown",
   "metadata": {},
   "source": [
    "## 상하좌우"
   ]
  },
  {
   "cell_type": "code",
   "execution_count": 47,
   "metadata": {
    "ExecuteTime": {
     "end_time": "2022-03-17T06:30:45.563132Z",
     "start_time": "2022-03-17T06:30:45.552161Z"
    }
   },
   "outputs": [],
   "source": [
    "n = 5\n",
    "x, y = 1,1"
   ]
  },
  {
   "cell_type": "code",
   "execution_count": 48,
   "metadata": {
    "ExecuteTime": {
     "end_time": "2022-03-17T06:30:45.712830Z",
     "start_time": "2022-03-17T06:30:45.702858Z"
    }
   },
   "outputs": [],
   "source": [
    "# L R U D\n",
    "dx = [0, 0, -1, 1]\n",
    "dy = [-1, 1, 0, 0]\n",
    "move_type = [\"L\",\"R\",\"U\",\"D\"]"
   ]
  },
  {
   "cell_type": "code",
   "execution_count": 49,
   "metadata": {
    "ExecuteTime": {
     "end_time": "2022-03-17T06:30:45.863255Z",
     "start_time": "2022-03-17T06:30:45.858269Z"
    }
   },
   "outputs": [],
   "source": [
    "move_list = [\"R\",\"R\",\"R\",\"U\",\"D\",\"D\"]"
   ]
  },
  {
   "cell_type": "code",
   "execution_count": 50,
   "metadata": {
    "ExecuteTime": {
     "end_time": "2022-03-17T06:30:46.378720Z",
     "start_time": "2022-03-17T06:30:46.368748Z"
    }
   },
   "outputs": [
    {
     "name": "stdout",
     "output_type": "stream",
     "text": [
      "1 2\n",
      "1 3\n",
      "1 4\n",
      "2 4\n",
      "3 4\n"
     ]
    }
   ],
   "source": [
    "for step in move_list:\n",
    "    for i in range(len(move_type)):\n",
    "        if step == move_type[i]:\n",
    "            nx = x +dx[i]\n",
    "            ny = y +dy[i]\n",
    "    if nx < 1 or ny<1 or nx >n or ny > n:\n",
    "        continue\n",
    "    x, y = nx, ny\n",
    "    print(x,y)"
   ]
  },
  {
   "cell_type": "markdown",
   "metadata": {},
   "source": [
    "## 시각"
   ]
  },
  {
   "cell_type": "code",
   "execution_count": 64,
   "metadata": {
    "ExecuteTime": {
     "end_time": "2022-03-17T06:39:23.358740Z",
     "start_time": "2022-03-17T06:39:23.352334Z"
    }
   },
   "outputs": [],
   "source": [
    "count = 0 "
   ]
  },
  {
   "cell_type": "code",
   "execution_count": 65,
   "metadata": {
    "ExecuteTime": {
     "end_time": "2022-03-17T06:39:23.542510Z",
     "start_time": "2022-03-17T06:39:23.526970Z"
    }
   },
   "outputs": [],
   "source": [
    "h = 5"
   ]
  },
  {
   "cell_type": "code",
   "execution_count": 66,
   "metadata": {
    "ExecuteTime": {
     "end_time": "2022-03-17T06:39:23.708206Z",
     "start_time": "2022-03-17T06:39:23.686920Z"
    }
   },
   "outputs": [],
   "source": [
    "for H in range(h+1):\n",
    "    for M in range(60):\n",
    "        for S in range(60):\n",
    "            if '3' in str(H)+str(M)+str(S):\n",
    "                count += 1"
   ]
  },
  {
   "cell_type": "code",
   "execution_count": 67,
   "metadata": {
    "ExecuteTime": {
     "end_time": "2022-03-17T06:39:23.862226Z",
     "start_time": "2022-03-17T06:39:23.855257Z"
    }
   },
   "outputs": [
    {
     "data": {
      "text/plain": [
       "11475"
      ]
     },
     "execution_count": 67,
     "metadata": {},
     "output_type": "execute_result"
    }
   ],
   "source": [
    "count"
   ]
  },
  {
   "cell_type": "markdown",
   "metadata": {},
   "source": [
    "## 왕실의 나이트"
   ]
  },
  {
   "cell_type": "code",
   "execution_count": 89,
   "metadata": {
    "ExecuteTime": {
     "end_time": "2022-03-17T08:30:13.945713Z",
     "start_time": "2022-03-17T08:30:13.931358Z"
    }
   },
   "outputs": [],
   "source": [
    "input_data = 'a1'"
   ]
  },
  {
   "cell_type": "code",
   "execution_count": 90,
   "metadata": {
    "ExecuteTime": {
     "end_time": "2022-03-17T08:30:14.143234Z",
     "start_time": "2022-03-17T08:30:14.137251Z"
    }
   },
   "outputs": [],
   "source": [
    "# row = int(ord(input_data[0]) - 96)\n",
    "# col = int(input_data[1])\n",
    "row = int(input_data[1])\n",
    "col = int(ord(input_data[0]) - 96)"
   ]
  },
  {
   "cell_type": "code",
   "execution_count": 91,
   "metadata": {
    "ExecuteTime": {
     "end_time": "2022-03-17T08:30:14.294242Z",
     "start_time": "2022-03-17T08:30:14.290252Z"
    }
   },
   "outputs": [],
   "source": [
    "steps = [(-2,-1),(-1,-2),(1,-2),(2,-1),(2,1),(1,2),(-1,2),(-2,1)]"
   ]
  },
  {
   "cell_type": "code",
   "execution_count": 92,
   "metadata": {
    "ExecuteTime": {
     "end_time": "2022-03-17T08:30:14.475807Z",
     "start_time": "2022-03-17T08:30:14.460600Z"
    }
   },
   "outputs": [],
   "source": [
    "result = 0"
   ]
  },
  {
   "cell_type": "code",
   "execution_count": 93,
   "metadata": {
    "ExecuteTime": {
     "end_time": "2022-03-17T08:30:14.611639Z",
     "start_time": "2022-03-17T08:30:14.595681Z"
    }
   },
   "outputs": [],
   "source": [
    "for step in steps:\n",
    "    next_row = row+step[0]\n",
    "    next_col = col+step[1]\n",
    "    \n",
    "    if next_row >=1 and next_row<=8 and next_col>=1 and next_col<=8:\n",
    "        result+=1"
   ]
  },
  {
   "cell_type": "code",
   "execution_count": 94,
   "metadata": {
    "ExecuteTime": {
     "end_time": "2022-03-17T08:30:14.792815Z",
     "start_time": "2022-03-17T08:30:14.787792Z"
    }
   },
   "outputs": [
    {
     "data": {
      "text/plain": [
       "2"
      ]
     },
     "execution_count": 94,
     "metadata": {},
     "output_type": "execute_result"
    }
   ],
   "source": [
    "result"
   ]
  },
  {
   "cell_type": "markdown",
   "metadata": {},
   "source": [
    "## 게임개발"
   ]
  },
  {
   "cell_type": "code",
   "execution_count": 135,
   "metadata": {
    "ExecuteTime": {
     "end_time": "2022-03-17T09:02:42.180092Z",
     "start_time": "2022-03-17T09:02:42.161916Z"
    }
   },
   "outputs": [],
   "source": [
    "n, m = 4,4\n",
    "x, y , direction = 1,1,0\n",
    "map_value = [[1,1,1,1],[1,0,0,1],[1,1,0,1],[1,1,1,1]]"
   ]
  },
  {
   "cell_type": "code",
   "execution_count": 136,
   "metadata": {
    "ExecuteTime": {
     "end_time": "2022-03-17T09:02:42.376257Z",
     "start_time": "2022-03-17T09:02:42.362295Z"
    }
   },
   "outputs": [
    {
     "data": {
      "text/plain": [
       "[[0, 0, 0, 0], [0, 0, 0, 0], [0, 0, 0, 0], [0, 0, 0, 0]]"
      ]
     },
     "execution_count": 136,
     "metadata": {},
     "output_type": "execute_result"
    }
   ],
   "source": [
    "d = [[0]*m for _ in range(n)]\n",
    "d"
   ]
  },
  {
   "cell_type": "code",
   "execution_count": 137,
   "metadata": {
    "ExecuteTime": {
     "end_time": "2022-03-17T09:02:42.542971Z",
     "start_time": "2022-03-17T09:02:42.536988Z"
    }
   },
   "outputs": [],
   "source": [
    "d[x][y] = 1"
   ]
  },
  {
   "cell_type": "code",
   "execution_count": 138,
   "metadata": {
    "ExecuteTime": {
     "end_time": "2022-03-17T09:02:42.739149Z",
     "start_time": "2022-03-17T09:02:42.722811Z"
    }
   },
   "outputs": [],
   "source": [
    "# 북 동 남 서 \n",
    "dx = [-1,0,1,0]\n",
    "dy = [0,1,0,-1]"
   ]
  },
  {
   "cell_type": "code",
   "execution_count": 139,
   "metadata": {
    "ExecuteTime": {
     "end_time": "2022-03-17T09:02:42.907072Z",
     "start_time": "2022-03-17T09:02:42.900089Z"
    }
   },
   "outputs": [],
   "source": [
    "def turn_left():\n",
    "    global direction\n",
    "    direction -= 1\n",
    "    if direction == -1:\n",
    "        direction = 3 "
   ]
  },
  {
   "cell_type": "code",
   "execution_count": 140,
   "metadata": {
    "ExecuteTime": {
     "end_time": "2022-03-17T09:02:43.072739Z",
     "start_time": "2022-03-17T09:02:43.057744Z"
    }
   },
   "outputs": [],
   "source": [
    "count = 1\n",
    "turn_time = 0"
   ]
  },
  {
   "cell_type": "code",
   "execution_count": 141,
   "metadata": {
    "ExecuteTime": {
     "end_time": "2022-03-17T09:02:43.240139Z",
     "start_time": "2022-03-17T09:02:43.226657Z"
    }
   },
   "outputs": [],
   "source": [
    "while True:\n",
    "    turn_left()\n",
    "    nx = x +dx[direction]\n",
    "    ny = y +dy[direction]\n",
    "\n",
    "    # 회전이후 정면에 가지 않은 칸이 존재시에\n",
    "    if d[nx][ny] == 0 and map_value[nx][ny]==0:\n",
    "        d[nx][ny] = 1 \n",
    "        x = nx\n",
    "        y = ny\n",
    "        count += 1\n",
    "        turn_time = 0 \n",
    "        continue\n",
    "    # 회전 이후 정면에 가보지 않은 칸이 없거나 바다인 경우    \n",
    "    else:\n",
    "        turn_time += 1\n",
    "    # 네 방향 모두 막혀 있는 경우\n",
    "    if turn_time ==4:\n",
    "        nx = x - dx[direction]\n",
    "        ny = y - dy[direction]\n",
    "        # 뒤로 이동가능시에 이동하기\n",
    "        if map_value[nx][ny]==0:\n",
    "            x = nx\n",
    "            y = ny\n",
    "        # 뒤로 이동 할수 없을 경우\n",
    "        else:\n",
    "            break\n",
    "        turn_time = 0\n"
   ]
  },
  {
   "cell_type": "code",
   "execution_count": 142,
   "metadata": {
    "ExecuteTime": {
     "end_time": "2022-03-17T09:02:43.696848Z",
     "start_time": "2022-03-17T09:02:43.682358Z"
    }
   },
   "outputs": [
    {
     "data": {
      "text/plain": [
       "3"
      ]
     },
     "execution_count": 142,
     "metadata": {},
     "output_type": "execute_result"
    }
   ],
   "source": [
    "count"
   ]
  },
  {
   "cell_type": "markdown",
   "metadata": {},
   "source": [
    "# DFS / BFS"
   ]
  },
  {
   "cell_type": "markdown",
   "metadata": {},
   "source": [
    "- stack"
   ]
  },
  {
   "cell_type": "code",
   "execution_count": 151,
   "metadata": {
    "ExecuteTime": {
     "end_time": "2022-03-17T11:41:22.659644Z",
     "start_time": "2022-03-17T11:41:22.644684Z"
    }
   },
   "outputs": [
    {
     "name": "stdout",
     "output_type": "stream",
     "text": [
      "[5, 2, 3, 1]\n",
      "[1, 3, 2, 5]\n"
     ]
    }
   ],
   "source": [
    "stack = []\n",
    "\n",
    "stack.append(5)\n",
    "stack.append(2)\n",
    "stack.append(3)\n",
    "stack.append(7)\n",
    "stack.pop()\n",
    "stack.append(1)\n",
    "stack.append(4)\n",
    "stack.pop()\n",
    "\n",
    "print(stack)\n",
    "print(stack[::-1])\n"
   ]
  },
  {
   "cell_type": "markdown",
   "metadata": {},
   "source": [
    "- Queue"
   ]
  },
  {
   "cell_type": "code",
   "execution_count": 152,
   "metadata": {
    "ExecuteTime": {
     "end_time": "2022-03-17T11:41:23.875916Z",
     "start_time": "2022-03-17T11:41:23.867937Z"
    }
   },
   "outputs": [],
   "source": [
    "from collections import deque"
   ]
  },
  {
   "cell_type": "code",
   "execution_count": 155,
   "metadata": {
    "ExecuteTime": {
     "end_time": "2022-03-17T11:42:12.109678Z",
     "start_time": "2022-03-17T11:42:12.091727Z"
    }
   },
   "outputs": [
    {
     "name": "stdout",
     "output_type": "stream",
     "text": [
      "deque([3, 7, 1, 4])\n",
      "deque([4, 1, 7, 3])\n"
     ]
    }
   ],
   "source": [
    "queue = deque()\n",
    "queue.append(5)\n",
    "queue.append(2)\n",
    "queue.append(3)\n",
    "queue.append(7)\n",
    "queue.popleft()\n",
    "queue.append(1)\n",
    "queue.append(4)\n",
    "queue.popleft()\n",
    "\n",
    "print(queue)\n",
    "queue.reverse()\n",
    "print(queue)"
   ]
  },
  {
   "cell_type": "code",
   "execution_count": 156,
   "metadata": {
    "ExecuteTime": {
     "end_time": "2022-03-17T11:42:34.780070Z",
     "start_time": "2022-03-17T11:42:34.773052Z"
    }
   },
   "outputs": [
    {
     "data": {
      "text/plain": [
       "[4, 1, 7, 3]"
      ]
     },
     "execution_count": 156,
     "metadata": {},
     "output_type": "execute_result"
    }
   ],
   "source": [
    "list(queue)"
   ]
  },
  {
   "cell_type": "markdown",
   "metadata": {},
   "source": [
    "- recursive function"
   ]
  },
  {
   "cell_type": "code",
   "execution_count": 158,
   "metadata": {
    "ExecuteTime": {
     "end_time": "2022-03-17T13:24:28.429355Z",
     "start_time": "2022-03-17T13:24:28.423371Z"
    }
   },
   "outputs": [],
   "source": [
    "def recursive_function(i):\n",
    "    if i==100:\n",
    "        return\n",
    "    print(i,'번째 재귀함수에서',i+1,'번째 재귀함수를 호출합니다.')\n",
    "    recursive_function(i+1)\n",
    "    print(i,'번째 재귀함수를 종료합니다.')"
   ]
  },
  {
   "cell_type": "code",
   "execution_count": 159,
   "metadata": {
    "ExecuteTime": {
     "end_time": "2022-03-17T13:24:31.424686Z",
     "start_time": "2022-03-17T13:24:31.401748Z"
    },
    "scrolled": true
   },
   "outputs": [
    {
     "name": "stdout",
     "output_type": "stream",
     "text": [
      "1 번째 재귀함수에서 2 번째 재귀함수를 호출합니다.\n",
      "2 번째 재귀함수에서 3 번째 재귀함수를 호출합니다.\n",
      "3 번째 재귀함수에서 4 번째 재귀함수를 호출합니다.\n",
      "4 번째 재귀함수에서 5 번째 재귀함수를 호출합니다.\n",
      "5 번째 재귀함수에서 6 번째 재귀함수를 호출합니다.\n",
      "6 번째 재귀함수에서 7 번째 재귀함수를 호출합니다.\n",
      "7 번째 재귀함수에서 8 번째 재귀함수를 호출합니다.\n",
      "8 번째 재귀함수에서 9 번째 재귀함수를 호출합니다.\n",
      "9 번째 재귀함수에서 10 번째 재귀함수를 호출합니다.\n",
      "10 번째 재귀함수에서 11 번째 재귀함수를 호출합니다.\n",
      "11 번째 재귀함수에서 12 번째 재귀함수를 호출합니다.\n",
      "12 번째 재귀함수에서 13 번째 재귀함수를 호출합니다.\n",
      "13 번째 재귀함수에서 14 번째 재귀함수를 호출합니다.\n",
      "14 번째 재귀함수에서 15 번째 재귀함수를 호출합니다.\n",
      "15 번째 재귀함수에서 16 번째 재귀함수를 호출합니다.\n",
      "16 번째 재귀함수에서 17 번째 재귀함수를 호출합니다.\n",
      "17 번째 재귀함수에서 18 번째 재귀함수를 호출합니다.\n",
      "18 번째 재귀함수에서 19 번째 재귀함수를 호출합니다.\n",
      "19 번째 재귀함수에서 20 번째 재귀함수를 호출합니다.\n",
      "20 번째 재귀함수에서 21 번째 재귀함수를 호출합니다.\n",
      "21 번째 재귀함수에서 22 번째 재귀함수를 호출합니다.\n",
      "22 번째 재귀함수에서 23 번째 재귀함수를 호출합니다.\n",
      "23 번째 재귀함수에서 24 번째 재귀함수를 호출합니다.\n",
      "24 번째 재귀함수에서 25 번째 재귀함수를 호출합니다.\n",
      "25 번째 재귀함수에서 26 번째 재귀함수를 호출합니다.\n",
      "26 번째 재귀함수에서 27 번째 재귀함수를 호출합니다.\n",
      "27 번째 재귀함수에서 28 번째 재귀함수를 호출합니다.\n",
      "28 번째 재귀함수에서 29 번째 재귀함수를 호출합니다.\n",
      "29 번째 재귀함수에서 30 번째 재귀함수를 호출합니다.\n",
      "30 번째 재귀함수에서 31 번째 재귀함수를 호출합니다.\n",
      "31 번째 재귀함수에서 32 번째 재귀함수를 호출합니다.\n",
      "32 번째 재귀함수에서 33 번째 재귀함수를 호출합니다.\n",
      "33 번째 재귀함수에서 34 번째 재귀함수를 호출합니다.\n",
      "34 번째 재귀함수에서 35 번째 재귀함수를 호출합니다.\n",
      "35 번째 재귀함수에서 36 번째 재귀함수를 호출합니다.\n",
      "36 번째 재귀함수에서 37 번째 재귀함수를 호출합니다.\n",
      "37 번째 재귀함수에서 38 번째 재귀함수를 호출합니다.\n",
      "38 번째 재귀함수에서 39 번째 재귀함수를 호출합니다.\n",
      "39 번째 재귀함수에서 40 번째 재귀함수를 호출합니다.\n",
      "40 번째 재귀함수에서 41 번째 재귀함수를 호출합니다.\n",
      "41 번째 재귀함수에서 42 번째 재귀함수를 호출합니다.\n",
      "42 번째 재귀함수에서 43 번째 재귀함수를 호출합니다.\n",
      "43 번째 재귀함수에서 44 번째 재귀함수를 호출합니다.\n",
      "44 번째 재귀함수에서 45 번째 재귀함수를 호출합니다.\n",
      "45 번째 재귀함수에서 46 번째 재귀함수를 호출합니다.\n",
      "46 번째 재귀함수에서 47 번째 재귀함수를 호출합니다.\n",
      "47 번째 재귀함수에서 48 번째 재귀함수를 호출합니다.\n",
      "48 번째 재귀함수에서 49 번째 재귀함수를 호출합니다.\n",
      "49 번째 재귀함수에서 50 번째 재귀함수를 호출합니다.\n",
      "50 번째 재귀함수에서 51 번째 재귀함수를 호출합니다.\n",
      "51 번째 재귀함수에서 52 번째 재귀함수를 호출합니다.\n",
      "52 번째 재귀함수에서 53 번째 재귀함수를 호출합니다.\n",
      "53 번째 재귀함수에서 54 번째 재귀함수를 호출합니다.\n",
      "54 번째 재귀함수에서 55 번째 재귀함수를 호출합니다.\n",
      "55 번째 재귀함수에서 56 번째 재귀함수를 호출합니다.\n",
      "56 번째 재귀함수에서 57 번째 재귀함수를 호출합니다.\n",
      "57 번째 재귀함수에서 58 번째 재귀함수를 호출합니다.\n",
      "58 번째 재귀함수에서 59 번째 재귀함수를 호출합니다.\n",
      "59 번째 재귀함수에서 60 번째 재귀함수를 호출합니다.\n",
      "60 번째 재귀함수에서 61 번째 재귀함수를 호출합니다.\n",
      "61 번째 재귀함수에서 62 번째 재귀함수를 호출합니다.\n",
      "62 번째 재귀함수에서 63 번째 재귀함수를 호출합니다.\n",
      "63 번째 재귀함수에서 64 번째 재귀함수를 호출합니다.\n",
      "64 번째 재귀함수에서 65 번째 재귀함수를 호출합니다.\n",
      "65 번째 재귀함수에서 66 번째 재귀함수를 호출합니다.\n",
      "66 번째 재귀함수에서 67 번째 재귀함수를 호출합니다.\n",
      "67 번째 재귀함수에서 68 번째 재귀함수를 호출합니다.\n",
      "68 번째 재귀함수에서 69 번째 재귀함수를 호출합니다.\n",
      "69 번째 재귀함수에서 70 번째 재귀함수를 호출합니다.\n",
      "70 번째 재귀함수에서 71 번째 재귀함수를 호출합니다.\n",
      "71 번째 재귀함수에서 72 번째 재귀함수를 호출합니다.\n",
      "72 번째 재귀함수에서 73 번째 재귀함수를 호출합니다.\n",
      "73 번째 재귀함수에서 74 번째 재귀함수를 호출합니다.\n",
      "74 번째 재귀함수에서 75 번째 재귀함수를 호출합니다.\n",
      "75 번째 재귀함수에서 76 번째 재귀함수를 호출합니다.\n",
      "76 번째 재귀함수에서 77 번째 재귀함수를 호출합니다.\n",
      "77 번째 재귀함수에서 78 번째 재귀함수를 호출합니다.\n",
      "78 번째 재귀함수에서 79 번째 재귀함수를 호출합니다.\n",
      "79 번째 재귀함수에서 80 번째 재귀함수를 호출합니다.\n",
      "80 번째 재귀함수에서 81 번째 재귀함수를 호출합니다.\n",
      "81 번째 재귀함수에서 82 번째 재귀함수를 호출합니다.\n",
      "82 번째 재귀함수에서 83 번째 재귀함수를 호출합니다.\n",
      "83 번째 재귀함수에서 84 번째 재귀함수를 호출합니다.\n",
      "84 번째 재귀함수에서 85 번째 재귀함수를 호출합니다.\n",
      "85 번째 재귀함수에서 86 번째 재귀함수를 호출합니다.\n",
      "86 번째 재귀함수에서 87 번째 재귀함수를 호출합니다.\n",
      "87 번째 재귀함수에서 88 번째 재귀함수를 호출합니다.\n",
      "88 번째 재귀함수에서 89 번째 재귀함수를 호출합니다.\n",
      "89 번째 재귀함수에서 90 번째 재귀함수를 호출합니다.\n",
      "90 번째 재귀함수에서 91 번째 재귀함수를 호출합니다.\n",
      "91 번째 재귀함수에서 92 번째 재귀함수를 호출합니다.\n",
      "92 번째 재귀함수에서 93 번째 재귀함수를 호출합니다.\n",
      "93 번째 재귀함수에서 94 번째 재귀함수를 호출합니다.\n",
      "94 번째 재귀함수에서 95 번째 재귀함수를 호출합니다.\n",
      "95 번째 재귀함수에서 96 번째 재귀함수를 호출합니다.\n",
      "96 번째 재귀함수에서 97 번째 재귀함수를 호출합니다.\n",
      "97 번째 재귀함수에서 98 번째 재귀함수를 호출합니다.\n",
      "98 번째 재귀함수에서 99 번째 재귀함수를 호출합니다.\n",
      "99 번째 재귀함수에서 100 번째 재귀함수를 호출합니다.\n",
      "99 번째 재귀함수를 종료합니다.\n",
      "98 번째 재귀함수를 종료합니다.\n",
      "97 번째 재귀함수를 종료합니다.\n",
      "96 번째 재귀함수를 종료합니다.\n",
      "95 번째 재귀함수를 종료합니다.\n",
      "94 번째 재귀함수를 종료합니다.\n",
      "93 번째 재귀함수를 종료합니다.\n",
      "92 번째 재귀함수를 종료합니다.\n",
      "91 번째 재귀함수를 종료합니다.\n",
      "90 번째 재귀함수를 종료합니다.\n",
      "89 번째 재귀함수를 종료합니다.\n",
      "88 번째 재귀함수를 종료합니다.\n",
      "87 번째 재귀함수를 종료합니다.\n",
      "86 번째 재귀함수를 종료합니다.\n",
      "85 번째 재귀함수를 종료합니다.\n",
      "84 번째 재귀함수를 종료합니다.\n",
      "83 번째 재귀함수를 종료합니다.\n",
      "82 번째 재귀함수를 종료합니다.\n",
      "81 번째 재귀함수를 종료합니다.\n",
      "80 번째 재귀함수를 종료합니다.\n",
      "79 번째 재귀함수를 종료합니다.\n",
      "78 번째 재귀함수를 종료합니다.\n",
      "77 번째 재귀함수를 종료합니다.\n",
      "76 번째 재귀함수를 종료합니다.\n",
      "75 번째 재귀함수를 종료합니다.\n",
      "74 번째 재귀함수를 종료합니다.\n",
      "73 번째 재귀함수를 종료합니다.\n",
      "72 번째 재귀함수를 종료합니다.\n",
      "71 번째 재귀함수를 종료합니다.\n",
      "70 번째 재귀함수를 종료합니다.\n",
      "69 번째 재귀함수를 종료합니다.\n",
      "68 번째 재귀함수를 종료합니다.\n",
      "67 번째 재귀함수를 종료합니다.\n",
      "66 번째 재귀함수를 종료합니다.\n",
      "65 번째 재귀함수를 종료합니다.\n",
      "64 번째 재귀함수를 종료합니다.\n",
      "63 번째 재귀함수를 종료합니다.\n",
      "62 번째 재귀함수를 종료합니다.\n",
      "61 번째 재귀함수를 종료합니다.\n",
      "60 번째 재귀함수를 종료합니다.\n",
      "59 번째 재귀함수를 종료합니다.\n",
      "58 번째 재귀함수를 종료합니다.\n",
      "57 번째 재귀함수를 종료합니다.\n",
      "56 번째 재귀함수를 종료합니다.\n",
      "55 번째 재귀함수를 종료합니다.\n",
      "54 번째 재귀함수를 종료합니다.\n",
      "53 번째 재귀함수를 종료합니다.\n",
      "52 번째 재귀함수를 종료합니다.\n",
      "51 번째 재귀함수를 종료합니다.\n",
      "50 번째 재귀함수를 종료합니다.\n",
      "49 번째 재귀함수를 종료합니다.\n",
      "48 번째 재귀함수를 종료합니다.\n",
      "47 번째 재귀함수를 종료합니다.\n",
      "46 번째 재귀함수를 종료합니다.\n",
      "45 번째 재귀함수를 종료합니다.\n",
      "44 번째 재귀함수를 종료합니다.\n",
      "43 번째 재귀함수를 종료합니다.\n",
      "42 번째 재귀함수를 종료합니다.\n",
      "41 번째 재귀함수를 종료합니다.\n",
      "40 번째 재귀함수를 종료합니다.\n",
      "39 번째 재귀함수를 종료합니다.\n",
      "38 번째 재귀함수를 종료합니다.\n",
      "37 번째 재귀함수를 종료합니다.\n",
      "36 번째 재귀함수를 종료합니다.\n",
      "35 번째 재귀함수를 종료합니다.\n",
      "34 번째 재귀함수를 종료합니다.\n",
      "33 번째 재귀함수를 종료합니다.\n",
      "32 번째 재귀함수를 종료합니다.\n",
      "31 번째 재귀함수를 종료합니다.\n",
      "30 번째 재귀함수를 종료합니다.\n",
      "29 번째 재귀함수를 종료합니다.\n",
      "28 번째 재귀함수를 종료합니다.\n",
      "27 번째 재귀함수를 종료합니다.\n",
      "26 번째 재귀함수를 종료합니다.\n",
      "25 번째 재귀함수를 종료합니다.\n",
      "24 번째 재귀함수를 종료합니다.\n",
      "23 번째 재귀함수를 종료합니다.\n",
      "22 번째 재귀함수를 종료합니다.\n",
      "21 번째 재귀함수를 종료합니다.\n",
      "20 번째 재귀함수를 종료합니다.\n",
      "19 번째 재귀함수를 종료합니다.\n",
      "18 번째 재귀함수를 종료합니다.\n",
      "17 번째 재귀함수를 종료합니다.\n",
      "16 번째 재귀함수를 종료합니다.\n",
      "15 번째 재귀함수를 종료합니다.\n",
      "14 번째 재귀함수를 종료합니다.\n",
      "13 번째 재귀함수를 종료합니다.\n",
      "12 번째 재귀함수를 종료합니다.\n",
      "11 번째 재귀함수를 종료합니다.\n",
      "10 번째 재귀함수를 종료합니다.\n",
      "9 번째 재귀함수를 종료합니다.\n",
      "8 번째 재귀함수를 종료합니다.\n",
      "7 번째 재귀함수를 종료합니다.\n",
      "6 번째 재귀함수를 종료합니다.\n",
      "5 번째 재귀함수를 종료합니다.\n",
      "4 번째 재귀함수를 종료합니다.\n",
      "3 번째 재귀함수를 종료합니다.\n",
      "2 번째 재귀함수를 종료합니다.\n",
      "1 번째 재귀함수를 종료합니다.\n"
     ]
    }
   ],
   "source": [
    "recursive_function(1)"
   ]
  },
  {
   "cell_type": "markdown",
   "metadata": {},
   "source": [
    "- 인접리스트"
   ]
  },
  {
   "cell_type": "code",
   "execution_count": 165,
   "metadata": {
    "ExecuteTime": {
     "end_time": "2022-03-17T13:35:12.987714Z",
     "start_time": "2022-03-17T13:35:12.983727Z"
    }
   },
   "outputs": [],
   "source": [
    "graph = [[ ] for _ in range(3)]\n",
    "\n",
    "graph[0].append((1,7))\n",
    "graph[0].append((2,5))\n",
    "graph[1].append((0,7))\n",
    "graph[2].append((0,5))"
   ]
  },
  {
   "cell_type": "code",
   "execution_count": 166,
   "metadata": {
    "ExecuteTime": {
     "end_time": "2022-03-17T13:35:13.197265Z",
     "start_time": "2022-03-17T13:35:13.183307Z"
    }
   },
   "outputs": [
    {
     "data": {
      "text/plain": [
       "[[(1, 7), (2, 5)], [(0, 7)], [(0, 5)]]"
      ]
     },
     "execution_count": 166,
     "metadata": {},
     "output_type": "execute_result"
    }
   ],
   "source": [
    "graph"
   ]
  },
  {
   "cell_type": "markdown",
   "metadata": {},
   "source": [
    "- dfs\n",
    "    - depth first search\n",
    "    - 깊이 우선 탐색이라고 부르며, 그래프에서 깊은 부분을 우선적으로 탐색하는 알고리즘\n",
    "    - 재귀적인 방식으로 간결하게구현할 수 있다."
   ]
  },
  {
   "cell_type": "code",
   "execution_count": 179,
   "metadata": {
    "ExecuteTime": {
     "end_time": "2022-03-17T13:43:07.705238Z",
     "start_time": "2022-03-17T13:43:07.687285Z"
    }
   },
   "outputs": [],
   "source": [
    "def dfs(graph, v, visited):\n",
    "    visited[v] = True\n",
    "    print(v, end = ' ')\n",
    "    \n",
    "    # 현재 노드와 연결된 다른노드를 재귀적으로 방문\n",
    "    for i in graph[v]:\n",
    "        if not visited[i]:\n",
    "            dfs(graph, i , visited)"
   ]
  },
  {
   "cell_type": "code",
   "execution_count": 180,
   "metadata": {
    "ExecuteTime": {
     "end_time": "2022-03-17T13:43:07.884757Z",
     "start_time": "2022-03-17T13:43:07.870832Z"
    }
   },
   "outputs": [],
   "source": [
    "graph = [\n",
    "    [],\n",
    "    [2,3,8],\n",
    "    [1,7],\n",
    "    [1,4,5],\n",
    "    [3,5],\n",
    "    [3,4],\n",
    "    [7],\n",
    "    [2,6,8],\n",
    "    [1,7]\n",
    "]"
   ]
  },
  {
   "cell_type": "code",
   "execution_count": 181,
   "metadata": {
    "ExecuteTime": {
     "end_time": "2022-03-17T13:43:08.064277Z",
     "start_time": "2022-03-17T13:43:08.047322Z"
    }
   },
   "outputs": [],
   "source": [
    "visited = [False]*9"
   ]
  },
  {
   "cell_type": "code",
   "execution_count": 182,
   "metadata": {
    "ExecuteTime": {
     "end_time": "2022-03-17T13:43:08.230117Z",
     "start_time": "2022-03-17T13:43:08.217152Z"
    }
   },
   "outputs": [
    {
     "name": "stdout",
     "output_type": "stream",
     "text": [
      "1 2 7 6 8 3 4 5 "
     ]
    }
   ],
   "source": [
    "dfs(graph,1,visited)"
   ]
  },
  {
   "cell_type": "markdown",
   "metadata": {},
   "source": [
    "- BFS\n",
    "    - breadth first search \n",
    "    - 너비우선 탐색 알고리즘 \n",
    "    - 쉽게말해, 가까운 노드부터 탐색하는 알고리즘\n",
    "    - DFS는 최대한 멀리있는 노드를 우선으로 탐색하는 방식으로 동작하는 반면, \n",
    "    - BFS는 그 반대라고 할 수 있다.?\n",
    "    - 그렇다면 최대한 가까운 곳에 있는 노드를 우선적으로 탐색하는 방식이라고 얘기할 수 있을 듯 하다.\n",
    "    - BFS는 큐자료구조에 기초한다는 점에서 구현이 간단하다.\n",
    "    \n",
    "        \n",
    "        1. 탐색시작노드를 큐에 삽입하고 방문처리를 한다.\n",
    "        2. 큐에서 노드를 꺼내 해당노드의 인접노드중에서 방문하지 않은 노드를 모두 큐에 삽입하고 방문처리 \n",
    "        3. 2의 과정을 더이상 수행할 수 없을때까지 반복한다.\n",
    "        \n",
    "    - 실제 수행시간은 DFS보다 좋은 편이다."
   ]
  },
  {
   "cell_type": "code",
   "execution_count": 183,
   "metadata": {
    "ExecuteTime": {
     "end_time": "2022-03-17T15:07:09.335166Z",
     "start_time": "2022-03-17T15:07:09.325976Z"
    }
   },
   "outputs": [],
   "source": [
    "from collections import deque"
   ]
  },
  {
   "cell_type": "code",
   "execution_count": 184,
   "metadata": {
    "ExecuteTime": {
     "end_time": "2022-03-17T15:44:04.784458Z",
     "start_time": "2022-03-17T15:44:04.772591Z"
    }
   },
   "outputs": [],
   "source": [
    "def bfs(graph, start,visited):\n",
    "    queue = deque([start])\n",
    "    visited[start] = True\n",
    "    \n",
    "    while queue:\n",
    "        v = queue.popleft()\n",
    "        print(v, end = ' ')\n",
    "        \n",
    "        for i in graph[v]:\n",
    "            if not visited[i]:\n",
    "                queue.append(i)\n",
    "                visited[i]=True\n",
    "            "
   ]
  },
  {
   "cell_type": "code",
   "execution_count": 185,
   "metadata": {
    "ExecuteTime": {
     "end_time": "2022-03-17T15:44:10.144005Z",
     "start_time": "2022-03-17T15:44:10.130946Z"
    }
   },
   "outputs": [],
   "source": [
    "graph = [\n",
    "    [],\n",
    "    [2,3,8],\n",
    "    [1,7],\n",
    "    [1,4,5],\n",
    "    [3,5],\n",
    "    [3,4],\n",
    "    [7],\n",
    "    [2,6,8],\n",
    "    [1,7]\n",
    "]"
   ]
  },
  {
   "cell_type": "code",
   "execution_count": 186,
   "metadata": {
    "ExecuteTime": {
     "end_time": "2022-03-17T15:44:17.208541Z",
     "start_time": "2022-03-17T15:44:17.196270Z"
    }
   },
   "outputs": [],
   "source": [
    "visited = [False] * 9"
   ]
  },
  {
   "cell_type": "code",
   "execution_count": 187,
   "metadata": {
    "ExecuteTime": {
     "end_time": "2022-03-17T15:44:25.118797Z",
     "start_time": "2022-03-17T15:44:25.114964Z"
    }
   },
   "outputs": [
    {
     "name": "stdout",
     "output_type": "stream",
     "text": [
      "1 2 3 8 7 4 5 6 "
     ]
    }
   ],
   "source": [
    "bfs(graph,1,visited)"
   ]
  },
  {
   "cell_type": "markdown",
   "metadata": {},
   "source": [
    "## 음료수 얼력먹기"
   ]
  },
  {
   "cell_type": "code",
   "execution_count": 37,
   "metadata": {
    "ExecuteTime": {
     "end_time": "2022-03-18T02:36:26.378315Z",
     "start_time": "2022-03-18T02:36:26.366597Z"
    }
   },
   "outputs": [],
   "source": [
    "n,m = 4, 5"
   ]
  },
  {
   "cell_type": "code",
   "execution_count": 38,
   "metadata": {
    "ExecuteTime": {
     "end_time": "2022-03-18T02:36:26.557836Z",
     "start_time": "2022-03-18T02:36:26.541918Z"
    }
   },
   "outputs": [],
   "source": [
    "graph = [\n",
    "    [0,0,1,1,0],\n",
    "    [0,0,0,1,1],\n",
    "    [1,1,1,1,1],\n",
    "    [0,0,0,0,0]\n",
    "]"
   ]
  },
  {
   "cell_type": "code",
   "execution_count": 39,
   "metadata": {
    "ExecuteTime": {
     "end_time": "2022-03-18T02:36:26.722396Z",
     "start_time": "2022-03-18T02:36:26.717409Z"
    }
   },
   "outputs": [],
   "source": [
    "def dfs(x,y):\n",
    "    if x<= -1 or x>=n or y<=-1 or y>=m:\n",
    "        return False\n",
    "    if graph[x][y] ==0:\n",
    "        graph[x][y]=1\n",
    "        dfs(x-1,y)\n",
    "        dfs(x,y-1)\n",
    "        dfs(x+1,y)\n",
    "        dfs(x,y+1)\n",
    "        return True\n",
    "    return False"
   ]
  },
  {
   "cell_type": "code",
   "execution_count": 40,
   "metadata": {
    "ExecuteTime": {
     "end_time": "2022-03-18T02:36:26.917912Z",
     "start_time": "2022-03-18T02:36:26.901947Z"
    }
   },
   "outputs": [
    {
     "name": "stdout",
     "output_type": "stream",
     "text": [
      "3\n"
     ]
    }
   ],
   "source": [
    "result = 0\n",
    "for i in range(n):\n",
    "    for j in range(m):\n",
    "        if dfs(i,j) == True:\n",
    "            result+=1\n",
    "print(result)"
   ]
  },
  {
   "cell_type": "markdown",
   "metadata": {},
   "source": [
    "## 미로탈출"
   ]
  },
  {
   "cell_type": "code",
   "execution_count": 68,
   "metadata": {
    "ExecuteTime": {
     "end_time": "2022-03-18T04:46:48.495447Z",
     "start_time": "2022-03-18T04:46:48.488466Z"
    }
   },
   "outputs": [],
   "source": [
    "from collections import deque"
   ]
  },
  {
   "cell_type": "code",
   "execution_count": 69,
   "metadata": {
    "ExecuteTime": {
     "end_time": "2022-03-18T04:46:48.674967Z",
     "start_time": "2022-03-18T04:46:48.671976Z"
    }
   },
   "outputs": [],
   "source": [
    "n,m = 5,6"
   ]
  },
  {
   "cell_type": "code",
   "execution_count": 70,
   "metadata": {
    "ExecuteTime": {
     "end_time": "2022-03-18T04:46:48.854517Z",
     "start_time": "2022-03-18T04:46:48.840526Z"
    }
   },
   "outputs": [],
   "source": [
    "graph = [\n",
    "    [1,0,1,0,1,0],\n",
    "    [1,1,1,1,1,1],\n",
    "    [0,0,0,0,0,1],\n",
    "    [1,1,1,1,1,1],\n",
    "    [1,1,1,1,1,1]\n",
    "]"
   ]
  },
  {
   "cell_type": "code",
   "execution_count": 71,
   "metadata": {
    "ExecuteTime": {
     "end_time": "2022-03-18T04:46:49.532310Z",
     "start_time": "2022-03-18T04:46:49.522374Z"
    }
   },
   "outputs": [],
   "source": [
    "dx = [-1,1,0,0]\n",
    "dy = [0,0,-1,1]"
   ]
  },
  {
   "cell_type": "code",
   "execution_count": 62,
   "metadata": {
    "ExecuteTime": {
     "end_time": "2022-03-18T04:46:43.027412Z",
     "start_time": "2022-03-18T04:46:43.016441Z"
    }
   },
   "outputs": [],
   "source": [
    "def bfs(x,y):\n",
    "    queue = deque()\n",
    "    queue.append((x,y))\n",
    "    \n",
    "    while queue:\n",
    "        x,y = queue.popleft()\n",
    "        \n",
    "        for i in range(4):\n",
    "            nx = x+dx[i]\n",
    "            ny = y+dy[i]\n",
    "            \n",
    "            if nx <0 or ny<0 or nx>=n or ny>=m:\n",
    "                continue\n",
    "            if graph[x][y]==0:\n",
    "                continue\n",
    "            if graph[nx][ny]==1:\n",
    "                graph[nx][ny]=graph[x][y]+1\n",
    "                queue.append((nx,ny))\n",
    "    return graph[n-1][m-1]\n",
    "            \n",
    "        "
   ]
  },
  {
   "cell_type": "code",
   "execution_count": 63,
   "metadata": {
    "ExecuteTime": {
     "end_time": "2022-03-18T04:46:43.206932Z",
     "start_time": "2022-03-18T04:46:43.192969Z"
    }
   },
   "outputs": [
    {
     "data": {
      "text/plain": [
       "10"
      ]
     },
     "execution_count": 63,
     "metadata": {},
     "output_type": "execute_result"
    }
   ],
   "source": [
    "bfs(0,0)"
   ]
  },
  {
   "cell_type": "markdown",
   "metadata": {},
   "source": [
    "# 정렬"
   ]
  },
  {
   "cell_type": "markdown",
   "metadata": {},
   "source": [
    "## 선택정렬\n",
    "- 가장 작은데이터 선택해 맨앞에 있는 데이터와 교환\n",
    "- 다음스텝 2번째 작은 데이터를 선택해 앞에서 두번째 데이터와 교환"
   ]
  },
  {
   "cell_type": "code",
   "execution_count": 1,
   "metadata": {
    "ExecuteTime": {
     "end_time": "2022-03-19T12:23:56.723232Z",
     "start_time": "2022-03-19T12:23:56.714290Z"
    }
   },
   "outputs": [],
   "source": [
    "array = [7,5,9,0,3,1,6,2,4,8]"
   ]
  },
  {
   "cell_type": "code",
   "execution_count": 2,
   "metadata": {
    "ExecuteTime": {
     "end_time": "2022-03-19T12:24:58.901463Z",
     "start_time": "2022-03-19T12:24:58.882514Z"
    }
   },
   "outputs": [],
   "source": [
    "for i in range(len(array)):\n",
    "    min_index = i\n",
    "    for j in range(i+1, len(array)):\n",
    "        if array[min_index] > array[j]:\n",
    "            min_index = j\n",
    "    array[i], array[min_index] = array[min_index], array[i]  # 스와프 코드"
   ]
  },
  {
   "cell_type": "code",
   "execution_count": 3,
   "metadata": {
    "ExecuteTime": {
     "end_time": "2022-03-19T12:25:04.069473Z",
     "start_time": "2022-03-19T12:25:04.063489Z"
    }
   },
   "outputs": [
    {
     "name": "stdout",
     "output_type": "stream",
     "text": [
      "[0, 1, 2, 3, 4, 5, 6, 7, 8, 9]\n"
     ]
    }
   ],
   "source": [
    "print(array)"
   ]
  },
  {
   "cell_type": "markdown",
   "metadata": {},
   "source": [
    "## 삽입정렬\n",
    "- 삽입정렬은 선택정렬에 비해 구현 난이도는 있지만, 실행시간 측면에서 더 효율적이다. \n",
    "- '데이터가 거의 정렬되어 있을때' 훨씬 효율적이다. \n",
    "- 특정한 데이터를 적절한 위치에 '삽입'한다는 의미에서 삽입정렬이라고 부른다.\n",
    "- 보통 퀵정렬보다 비효율적이나 정렬이 거의 되어있는 상황에서는 퀵 정렬알고리즘보다 강력하다. \n",
    "- 따라서 이미 거의 정렬되어있는 상태라면 퀵정렬등의 여타알고리즘보다 삽입정렬이 더욱 효율적이다."
   ]
  },
  {
   "cell_type": "code",
   "execution_count": 4,
   "metadata": {
    "ExecuteTime": {
     "end_time": "2022-03-19T12:27:48.747395Z",
     "start_time": "2022-03-19T12:27:48.735439Z"
    }
   },
   "outputs": [],
   "source": [
    "array = [7,5,9,0,3,1,6,2,4,8]"
   ]
  },
  {
   "cell_type": "code",
   "execution_count": 5,
   "metadata": {
    "ExecuteTime": {
     "end_time": "2022-03-19T12:30:58.564683Z",
     "start_time": "2022-03-19T12:30:58.545770Z"
    }
   },
   "outputs": [],
   "source": [
    "for i in range(1,len(array)):\n",
    "    for j in range(i,0,-1):\n",
    "        if array[j] < array[j-1]:\n",
    "            array[j],array[j-1] = array[j-1],array[j]\n",
    "        else:\n",
    "            break"
   ]
  },
  {
   "cell_type": "code",
   "execution_count": 6,
   "metadata": {
    "ExecuteTime": {
     "end_time": "2022-03-19T12:31:03.006910Z",
     "start_time": "2022-03-19T12:31:02.998932Z"
    }
   },
   "outputs": [
    {
     "name": "stdout",
     "output_type": "stream",
     "text": [
      "[0, 1, 2, 3, 4, 5, 6, 7, 8, 9]\n"
     ]
    }
   ],
   "source": [
    "print(array)"
   ]
  },
  {
   "cell_type": "markdown",
   "metadata": {},
   "source": [
    "## 퀵정렬\n",
    "- 가장 많이 사용되는 알고리즘\n",
    "- 대부분의 프로그램에서 정렬 라이브러리의 근간이 되는 알고리즘\n",
    "- '기준 데이터를 설정하고 그 기준보다 큰 데이터와 작은 데이터의 위치를 바꾼다.'"
   ]
  },
  {
   "cell_type": "markdown",
   "metadata": {},
   "source": [
    "- version1"
   ]
  },
  {
   "cell_type": "code",
   "execution_count": 7,
   "metadata": {
    "ExecuteTime": {
     "end_time": "2022-03-19T13:41:06.436609Z",
     "start_time": "2022-03-19T13:41:06.421649Z"
    }
   },
   "outputs": [],
   "source": [
    "array = [5,7,9,0,1,6,2,4,8]"
   ]
  },
  {
   "cell_type": "code",
   "execution_count": 8,
   "metadata": {
    "ExecuteTime": {
     "end_time": "2022-03-19T13:47:45.733353Z",
     "start_time": "2022-03-19T13:47:45.715385Z"
    }
   },
   "outputs": [],
   "source": [
    "def quick_sort(array,start,end):\n",
    "    if start >= end:\n",
    "        return \n",
    "    pivot = start\n",
    "    left = start + 1\n",
    "    right = end\n",
    "    \n",
    "    while left <= right:\n",
    "        while left <= end and array[left]<=array[pivot]:\n",
    "            left +=1\n",
    "        while right > start and array[right]>=array[pivot]:\n",
    "            right -=1\n",
    "        if left >right:\n",
    "            array[right], array[pivot] = array[pivot],array[right]\n",
    "        else:\n",
    "            array[left], array[right] = array[right], array[left]\n",
    "    quick_sort(array,start,right-1)\n",
    "    quick_sort(array,right+1,end)"
   ]
  },
  {
   "cell_type": "code",
   "execution_count": 9,
   "metadata": {
    "ExecuteTime": {
     "end_time": "2022-03-19T13:48:16.096203Z",
     "start_time": "2022-03-19T13:48:16.086230Z"
    }
   },
   "outputs": [],
   "source": [
    "quick_sort(array,0,len(array)-1)"
   ]
  },
  {
   "cell_type": "code",
   "execution_count": 10,
   "metadata": {
    "ExecuteTime": {
     "end_time": "2022-03-19T13:48:21.256851Z",
     "start_time": "2022-03-19T13:48:21.246877Z"
    }
   },
   "outputs": [
    {
     "name": "stdout",
     "output_type": "stream",
     "text": [
      "[0, 1, 2, 4, 5, 6, 7, 8, 9]\n"
     ]
    }
   ],
   "source": [
    "print(array)"
   ]
  },
  {
   "cell_type": "markdown",
   "metadata": {},
   "source": [
    "- version2"
   ]
  },
  {
   "cell_type": "code",
   "execution_count": 11,
   "metadata": {
    "ExecuteTime": {
     "end_time": "2022-03-19T13:48:56.710220Z",
     "start_time": "2022-03-19T13:48:56.702242Z"
    }
   },
   "outputs": [],
   "source": [
    "array = [5,7,9,0,1,6,2,4,8]"
   ]
  },
  {
   "cell_type": "code",
   "execution_count": 12,
   "metadata": {
    "ExecuteTime": {
     "end_time": "2022-03-19T13:51:35.881895Z",
     "start_time": "2022-03-19T13:51:35.869926Z"
    }
   },
   "outputs": [],
   "source": [
    "def quick_sort(array):\n",
    "    if len(array)<=1:\n",
    "        return array\n",
    "    pivot = array[0]\n",
    "    tail = array[1:]\n",
    "    \n",
    "    left_side = [x for x in tail if x<=pivot]\n",
    "    right_side = [x for x in tail if x>pivot]\n",
    "    \n",
    "    return quick_sort(left_side) + [pivot] + quick_sort(right_side)"
   ]
  },
  {
   "cell_type": "code",
   "execution_count": 13,
   "metadata": {
    "ExecuteTime": {
     "end_time": "2022-03-19T13:51:47.796969Z",
     "start_time": "2022-03-19T13:51:47.782009Z"
    }
   },
   "outputs": [
    {
     "data": {
      "text/plain": [
       "[0, 1, 2, 4, 5, 6, 7, 8, 9]"
      ]
     },
     "execution_count": 13,
     "metadata": {},
     "output_type": "execute_result"
    }
   ],
   "source": [
    "quick_sort(array)"
   ]
  },
  {
   "cell_type": "markdown",
   "metadata": {},
   "source": [
    "## 계수정렬\n",
    "- 특정 조건이 부합할 때만 사용할 수 있지만 매우 빠른 알고리즘\n",
    "- 데이터의 크기 범위가 제한되어 정수형태로 표현할 수 있을때 사용가능\n",
    "- 일반적으로 가장 큰 데이터와 가장 작은 데이터의 차이가 1,000,000을 넘지 않을때 사용가능\n",
    "- 가장큰 데이터와 가장 작은 데이터의 차이가 너무 크다면 계수정렬은 사용할수 없다.\n",
    "- 이유는 계수정렬을 사용할때는 모든 범위를 담을 수 있는 크기의 리스트를 선언해야 하기 때문이다.\n",
    "- 가장큰 데이터와 가장 작은 데이터의 차이가 1,000,000라면 총 1,000,001개의 데이터를 넣을수있는 리스트를 초기화해야한다.\n",
    "\n",
    "- 앞의 3개 알고리즘과 같은 비교기반의 알고리즘이 아니다.\n",
    "- 사실상 현존하는 정렬 알고리즘중에 기수정렬과 더불어 가장빠르다."
   ]
  },
  {
   "cell_type": "code",
   "execution_count": 35,
   "metadata": {
    "ExecuteTime": {
     "end_time": "2022-03-19T13:58:34.124593Z",
     "start_time": "2022-03-19T13:58:34.118329Z"
    }
   },
   "outputs": [],
   "source": [
    "array = [7,5,9,0,3,1,6,2,4,8]"
   ]
  },
  {
   "cell_type": "code",
   "execution_count": 36,
   "metadata": {
    "ExecuteTime": {
     "end_time": "2022-03-19T13:58:34.290661Z",
     "start_time": "2022-03-19T13:58:34.277661Z"
    }
   },
   "outputs": [],
   "source": [
    "count = [0]*(max(array)+1)"
   ]
  },
  {
   "cell_type": "code",
   "execution_count": 37,
   "metadata": {
    "ExecuteTime": {
     "end_time": "2022-03-19T13:58:34.442846Z",
     "start_time": "2022-03-19T13:58:34.428848Z"
    }
   },
   "outputs": [],
   "source": [
    "for i in range(len(array)):\n",
    "    count[array[i]] += 1"
   ]
  },
  {
   "cell_type": "code",
   "execution_count": 38,
   "metadata": {
    "ExecuteTime": {
     "end_time": "2022-03-19T13:58:34.577450Z",
     "start_time": "2022-03-19T13:58:34.573502Z"
    }
   },
   "outputs": [
    {
     "name": "stdout",
     "output_type": "stream",
     "text": [
      "0 1 2 3 4 5 6 7 8 9 "
     ]
    }
   ],
   "source": [
    "for i in range(len(count)):\n",
    "    for j in range(count[i]):\n",
    "        print(i, end=' ')"
   ]
  },
  {
   "cell_type": "markdown",
   "metadata": {},
   "source": [
    "## 두배열의 원소 교체"
   ]
  },
  {
   "cell_type": "code",
   "execution_count": 44,
   "metadata": {
    "ExecuteTime": {
     "end_time": "2022-03-19T14:06:23.402848Z",
     "start_time": "2022-03-19T14:06:23.397273Z"
    }
   },
   "outputs": [],
   "source": [
    "n,k = 5,3\n",
    "a= [1,2,5,4,3]\n",
    "b= [5,5,6,6,5]"
   ]
  },
  {
   "cell_type": "code",
   "execution_count": 45,
   "metadata": {
    "ExecuteTime": {
     "end_time": "2022-03-19T14:06:23.582252Z",
     "start_time": "2022-03-19T14:06:23.573277Z"
    }
   },
   "outputs": [],
   "source": [
    "a.sort()\n",
    "b.sort(reverse=True)"
   ]
  },
  {
   "cell_type": "code",
   "execution_count": 46,
   "metadata": {
    "ExecuteTime": {
     "end_time": "2022-03-19T14:06:23.731852Z",
     "start_time": "2022-03-19T14:06:23.725868Z"
    }
   },
   "outputs": [],
   "source": [
    "for i in range(k):\n",
    "    if a[i]<b[i]:\n",
    "        a[i],b[i] = b[i],a[i]\n",
    "    else:\n",
    "        break"
   ]
  },
  {
   "cell_type": "code",
   "execution_count": 48,
   "metadata": {
    "ExecuteTime": {
     "end_time": "2022-03-19T14:06:32.062012Z",
     "start_time": "2022-03-19T14:06:32.045068Z"
    }
   },
   "outputs": [
    {
     "name": "stdout",
     "output_type": "stream",
     "text": [
      "26\n"
     ]
    }
   ],
   "source": [
    "print(sum(a))"
   ]
  },
  {
   "cell_type": "code",
   "execution_count": null,
   "metadata": {},
   "outputs": [],
   "source": []
  }
 ],
 "metadata": {
  "kernelspec": {
   "display_name": "Python 3",
   "language": "python",
   "name": "python3"
  },
  "language_info": {
   "codemirror_mode": {
    "name": "ipython",
    "version": 3
   },
   "file_extension": ".py",
   "mimetype": "text/x-python",
   "name": "python",
   "nbconvert_exporter": "python",
   "pygments_lexer": "ipython3",
   "version": "3.7.1"
  },
  "toc": {
   "base_numbering": 1,
   "nav_menu": {
    "height": "198px",
    "width": "215px"
   },
   "number_sections": true,
   "sideBar": true,
   "skip_h1_title": false,
   "title_cell": "Table of Contents",
   "title_sidebar": "Contents",
   "toc_cell": false,
   "toc_position": {},
   "toc_section_display": true,
   "toc_window_display": true
  }
 },
 "nbformat": 4,
 "nbformat_minor": 2
}
